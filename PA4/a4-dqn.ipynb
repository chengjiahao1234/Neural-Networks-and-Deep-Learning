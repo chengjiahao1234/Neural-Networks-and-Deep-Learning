{
  "nbformat": 4,
  "nbformat_minor": 0,
  "metadata": {
    "colab": {
      "name": "“PA4 Part 3: DQN”的副本",
      "provenance": [],
      "collapsed_sections": []
    },
    "kernelspec": {
      "name": "python3",
      "display_name": "Python 3"
    },
    "accelerator": "GPU"
  },
  "cells": [
    {
      "cell_type": "markdown",
      "metadata": {
        "id": "V3szwJAdaoQa"
      },
      "source": [
        "## Enable rendering OpenAI Gym environments from CoLab\n",
        "\n",
        "In this assignemnt, We will use [OpenAI Gym](https://gym.openai.com/) for rendering game envionment for our agent to play and learn. It is possible and important to visualize the game your agent is playing, even on Colab. This section imports the necessary package and functions needed to generate a video in Colab. The video processing steps credit to [here](https://colab.research.google.com/drive/1flu31ulJlgiRL1dnN2ir8wGh9p7Zij2t)."
      ]
    },
    {
      "cell_type": "code",
      "metadata": {
        "id": "8rFaTvFab6Kz"
      },
      "source": [
        "!pip install gym pyvirtualdisplay > /dev/null 2>&1\n",
        "!apt-get install -y xvfb python-opengl ffmpeg > /dev/null 2>&1"
      ],
      "execution_count": 3,
      "outputs": []
    },
    {
      "cell_type": "code",
      "metadata": {
        "id": "M9fFfA-gb8oC",
        "colab": {
          "base_uri": "https://localhost:8080/"
        },
        "outputId": "58a7ac4b-213d-4654-9ee6-5e2a4dabc51d"
      },
      "source": [
        "!apt-get update > /dev/null 2>&1\n",
        "!apt-get install cmake > /dev/null 2>&1\n",
        "!pip install --upgrade setuptools 2>&1\n",
        "!pip install ez_setup > /dev/null 2>&1\n",
        "!pip install gym[atari] > /dev/null 2>&1"
      ],
      "execution_count": 4,
      "outputs": [
        {
          "output_type": "stream",
          "text": [
            "Requirement already up-to-date: setuptools in /usr/local/lib/python3.7/dist-packages (54.2.0)\n"
          ],
          "name": "stdout"
        }
      ]
    },
    {
      "cell_type": "markdown",
      "metadata": {
        "id": "QfTPg6uZckCm"
      },
      "source": [
        "Import openAI gym and define the functions used to show the video."
      ]
    },
    {
      "cell_type": "code",
      "metadata": {
        "id": "JLl9cs6ncAf0"
      },
      "source": [
        "import gym\n",
        "from gym.wrappers import Monitor\n",
        "import glob\n",
        "import io\n",
        "import base64\n",
        "from IPython.display import HTML\n",
        "from pyvirtualdisplay import Display\n",
        "from IPython import display as ipythondisplay\n",
        "\n",
        "display = Display(visible=0, size=(1400, 900))\n",
        "display.start()\n",
        "\n",
        "\"\"\"\n",
        "Utility functions to enable video recording of gym environment \n",
        "and displaying it.\n",
        "To enable video, just do \"env = wrap_env(env)\"\"\n",
        "\"\"\"\n",
        "\n",
        "def show_video():\n",
        "  mp4list = glob.glob('video/*.mp4')\n",
        "  if len(mp4list) > 0:\n",
        "    mp4 = mp4list[0]\n",
        "    video = io.open(mp4, 'r+b').read()\n",
        "    encoded = base64.b64encode(video)\n",
        "    ipythondisplay.display(HTML(data='''<video alt=\"test\" autoplay \n",
        "                loop controls style=\"height: 400px;\">\n",
        "                <source src=\"data:video/mp4;base64,{0}\" type=\"video/mp4\" />\n",
        "             </video>'''.format(encoded.decode('ascii'))))\n",
        "  else: \n",
        "    print(\"Could not find video\")\n",
        "    \n",
        "\n",
        "def wrap_env(env):\n",
        "  env = Monitor(env, './video', force=True)\n",
        "  return env"
      ],
      "execution_count": 5,
      "outputs": []
    },
    {
      "cell_type": "markdown",
      "metadata": {
        "id": "UHkrflTWakKd"
      },
      "source": [
        "Import other packages:\n",
        "\n",
        "We will use Pytorch for building and learning our DQN network."
      ]
    },
    {
      "cell_type": "code",
      "metadata": {
        "id": "9KvZYSl6RrzD"
      },
      "source": [
        "import torch\n",
        "from torch import nn\n",
        "import copy\n",
        "from collections import deque\n",
        "import random\n",
        "from tqdm import tqdm\n",
        "import matplotlib.pyplot as plt"
      ],
      "execution_count": 6,
      "outputs": []
    },
    {
      "cell_type": "markdown",
      "metadata": {
        "id": "zrLGCk-3ditk"
      },
      "source": [
        "## Run the game with random agent."
      ]
    },
    {
      "cell_type": "code",
      "metadata": {
        "id": "ZMcGALcWeWfh",
        "colab": {
          "base_uri": "https://localhost:8080/",
          "height": 455
        },
        "outputId": "6366a94d-8406-45b6-e5a1-f0a7afca3734"
      },
      "source": [
        "from torch import randint\n",
        "from time import sleep\n",
        "\n",
        "env = wrap_env(gym.make('CartPole-v0'))\n",
        "reward_arr = []\n",
        "episode_count = 20\n",
        "for i in tqdm(range(episode_count)):\n",
        "    obs, done, rew = env.reset(), False, 0\n",
        "    env.render()\n",
        "    while not done:\n",
        "        A = randint(0, env.action_space.n, (1,))\n",
        "        obs, reward, done, info = env.step(A.item())\n",
        "        rew += reward\n",
        "        sleep(0.01)\n",
        "    reward_arr.append(rew)\n",
        "print(\"average reward per episode :\", sum(reward_arr) / len(reward_arr))\n",
        "env.close()\n",
        "show_video()"
      ],
      "execution_count": 7,
      "outputs": [
        {
          "output_type": "stream",
          "text": [
            "100%|██████████| 20/20 [00:07<00:00,  2.59it/s]"
          ],
          "name": "stderr"
        },
        {
          "output_type": "stream",
          "text": [
            "average reward per episode : 22.25\n"
          ],
          "name": "stdout"
        },
        {
          "output_type": "stream",
          "text": [
            "\n"
          ],
          "name": "stderr"
        },
        {
          "output_type": "display_data",
          "data": {
            "text/html": [
              "<video alt=\"test\" autoplay \n",
              "                loop controls style=\"height: 400px;\">\n",
              "                <source src=\"data:video/mp4;base64,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\" type=\"video/mp4\" />\n",
              "             </video>"
            ],
            "text/plain": [
              "<IPython.core.display.HTML object>"
            ]
          },
          "metadata": {
            "tags": []
          }
        }
      ]
    },
    {
      "cell_type": "markdown",
      "metadata": {
        "id": "Ope0zHAjfXQh"
      },
      "source": [
        "You can see that a random agent is having trouble balancing the CartPole, just like you. However, a difficult game for human may be very simple to a computer. Let's see how we can use DQN to train a agent. "
      ]
    },
    {
      "cell_type": "markdown",
      "metadata": {
        "id": "OjP_2jn3SFgv"
      },
      "source": [
        "## Experience Replay\n",
        "\n",
        "The technique of experience replay was first proposed in to resolve temporal correlation in the input data by mixing recent experiences as well past experiences, essentially forcing the input to become independent and identically distributed (i.i.d.). It has been shown that this greatly stabilizes\n",
        "and improves the DQN training procedure."
      ]
    },
    {
      "cell_type": "code",
      "metadata": {
        "id": "SoxW1Jlnk8mS"
      },
      "source": [
        "class ExperienceReplay(object):\n",
        "      def __init__(self, length):\n",
        "        self.experience_replay = deque(maxlen=length)\n",
        "\n",
        "      def collect(self, experience):\n",
        "        self.experience_replay.append(experience)\n",
        "        return\n",
        "\n",
        "      def sample_from_experience(self, sample_size):\n",
        "        if len(self.experience_replay) < sample_size:\n",
        "            sample_size = len(self.experience_replay)\n",
        "        sample = random.sample(self.experience_replay, sample_size)\n",
        "        state = torch.tensor([exp[0] for exp in sample]).float()\n",
        "        action = torch.tensor([exp[1] for exp in sample]).float()\n",
        "        reward = torch.tensor([exp[2] for exp in sample]).float()\n",
        "        next_state = torch.tensor([exp[3] for exp in sample]).float()\n",
        "        return state, action, reward, next_state\n"
      ],
      "execution_count": 8,
      "outputs": []
    },
    {
      "cell_type": "markdown",
      "metadata": {
        "id": "CgXwmV2im4Sx"
      },
      "source": [
        "## Build our DQN Network\n",
        "\n",
        "We will use a simple multi-layer neural network to learn the optimal actions. We will use Adam Optimizor and MSE loss for training."
      ]
    },
    {
      "cell_type": "code",
      "metadata": {
        "id": "Wmd1pfuRm7MQ"
      },
      "source": [
        "class DQN_Network:\n",
        "\n",
        "    def __init__(self, layer_size_list, lr, seed=1423):\n",
        "        torch.manual_seed(seed)\n",
        "        self.policy_net = self.create_network(layer_size_list)\n",
        "        self.target_net = copy.deepcopy(self.policy_net)\n",
        "  \n",
        "        self.loss_fn = torch.nn.MSELoss()\n",
        "        self.optimizer = torch.optim.Adam(self.policy_net.parameters(), lr=lr)\n",
        "\n",
        "        self.step = 0\n",
        "        self.gamma = torch.tensor(0.95).float()\n",
        "        return\n",
        "\n",
        "    def create_network(self, layer_size_list):\n",
        "        assert len(layer_size_list) > 1\n",
        "\n",
        "        layers = []\n",
        "        for i in range(len(layer_size_list) - 1):\n",
        "            linear = nn.Linear(layer_size_list[i], layer_size_list[i + 1])\n",
        "\n",
        "            if i < len(layer_size_list) - 2:\n",
        "              activation = nn.Tanh()\n",
        "            else:\n",
        "              activation = nn.Identity()\n",
        "\n",
        "            layers += (linear, activation)\n",
        "        return nn.Sequential(*layers)\n",
        "\n",
        "    def load_pretrained_model(self, model_path):\n",
        "        self.policy_net.load_state_dict(torch.load(model_path))\n",
        "\n",
        "    def save_trained_model(self, model_path=\"cartpole-dqn.pth\"):\n",
        "        torch.save(self.policy_net.state_dict(), model_path)\n"
      ],
      "execution_count": 9,
      "outputs": []
    },
    {
      "cell_type": "markdown",
      "metadata": {
        "id": "xKVV16YctASm"
      },
      "source": [
        "## **[Your task]**: complete the function that chooses the next action\n",
        "\n",
        "Choose next action based on **$\\epsilon$-greedy**:\n",
        "\n",
        "\\begin{align}\\text{where} \\quad \\mathcal{a_{t+1}} = \\begin{cases}\n",
        "     \\text{argmax}_{a}Q(a, s)  & \\text{with probability }: 1 - \\epsilon, \\text{exploitation}\\\\\n",
        "     \\text{Uniform}\\{a_{1},...,a_{n}\\} & \\text{with probability}:   \\epsilon, \\text{exploration} \\\\\n",
        "   \\end{cases}\\end{align}"
      ]
    },
    {
      "cell_type": "code",
      "metadata": {
        "id": "iE0gVweYs8xW"
      },
      "source": [
        "def get_action(model, state, action_space_len, epsilon):\n",
        "    # We do not require gradient at this point, because this function will be used either\n",
        "    # during experience collection or during inference\n",
        "\n",
        "    with torch.no_grad():\n",
        "        Qp = model.policy_net(torch.from_numpy(state).float())\n",
        "    Q_value, action = torch.max(Qp, axis=0)\n",
        "\n",
        "    ## TODO: select action and action\n",
        "    action_2 = torch.randint(0, action_space_len, (1,))\n",
        "    next = random.choices([action, action_2], weights=[1-epsilon, epsilon], k=1)[0]\n",
        "    return next\n"
      ],
      "execution_count": 10,
      "outputs": []
    },
    {
      "cell_type": "markdown",
      "metadata": {
        "id": "iF9a5-IbazjQ"
      },
      "source": [
        "### **[Your task]**: complete the function that train the network for one step\n",
        "\n",
        "Here, you can find an ``train`` function that performs a\n",
        "single step of the optimization. \n",
        "\n",
        "For our training update rule, the loss you are trying to minimize is:\n",
        "\n",
        "\\begin{align}\\text{loss} = Q(s, a) - (r + \\gamma \\max_a Q(s', a))\\end{align}"
      ]
    },
    {
      "cell_type": "code",
      "metadata": {
        "id": "mtx4FAiab0Hp"
      },
      "source": [
        "def train(model, batch_size):\n",
        "    state, action, reward, next_state = memory.sample_from_experience(sample_size=batch_size)\n",
        "\n",
        "    # TODO: predict expected return of current state using main network\n",
        "    Qp = model.policy_net(state)\n",
        "    Qsa = Qp.gather(1, action.long().view(-1, 1)).flatten()\n",
        "\n",
        "    # TODO: get target return using target network\n",
        "    Qt = model.target_net(next_state)\n",
        "    Qsta = Qt.max(1)[0]\n",
        "\n",
        "    # TODO: compute the loss\n",
        "    # print(\"types q:{}{}, s:{}, a:{}, r:{}, n:{}\".format(Qsa.shape, (reward + model.gamma *Qsta).shape, state.shape, action.shape, reward.shape, next_state.shape))\n",
        "    loss = model.loss_fn(Qsa, reward + model.gamma * Qsta)\n",
        "    # loss = Qsa - reward + model.gamma * Qsta\n",
        "    model.optimizer.zero_grad()\n",
        "    loss.backward(retain_graph=True)\n",
        "    model.optimizer.step()\n",
        "\n",
        "    model.step += 1\n",
        "    if model.step % 5 == 0:\n",
        "        model.target_net.load_state_dict(model.policy_net.state_dict())\n",
        "\n",
        "    return loss.item()"
      ],
      "execution_count": 34,
      "outputs": []
    },
    {
      "cell_type": "markdown",
      "metadata": {
        "id": "uskoe87Uz-Jg"
      },
      "source": [
        "### **[Your task]**: Finish the training loop\n",
        "\n",
        "In this part, you can play around with ```exp_replay_size```, ```episode```, ```epsilon``` and the \"episodo decay\" logic to train your model."
      ]
    },
    {
      "cell_type": "code",
      "metadata": {
        "id": "3NfNnyD6SPpN",
        "colab": {
          "base_uri": "https://localhost:8080/"
        },
        "outputId": "17144e79-6cc7-43b8-df5e-5d5cea30c51d"
      },
      "source": [
        "# Create the model\n",
        "env = gym.make('CartPole-v0')\n",
        "input_dim = env.observation_space.shape[0]\n",
        "output_dim = env.action_space.n\n",
        "agent = DQN_Network(layer_size_list=[input_dim, 64, output_dim], lr=1e-3)\n",
        "\n",
        "# Main training loop\n",
        "losses_list, reward_list, episode_len_list, epsilon_list = [], [], [], []\n",
        "\n",
        "# TODO: try different values, it normally takes more than 6k episodes to train\n",
        "exp_replay_size = 200\n",
        "memory = ExperienceReplay(exp_replay_size)\n",
        "episodes = 8000\n",
        "rew_thres = 0\n",
        "epsilon = 1 # episilon start from 1 and decay gradually. \n",
        "\n",
        "# initiliaze experiance replay\n",
        "index = 0\n",
        "for i in range(exp_replay_size):\n",
        "    obs = env.reset()\n",
        "    done = False\n",
        "    while not done:\n",
        "        A = get_action(agent, obs, env.action_space.n, epsilon=1)\n",
        "        obs_next, reward, done, _ = env.step(A.item())\n",
        "        memory.collect([obs, A.item(), reward, obs_next])\n",
        "        obs = obs_next\n",
        "        index += 1\n",
        "        if index > exp_replay_size:\n",
        "            break\n",
        "\n",
        "index = 128\n",
        "for i in tqdm(range(episodes)):\n",
        "    obs, done, losses, ep_len, rew = env.reset(), False, 0, 0, 0\n",
        "    while not done:\n",
        "        ep_len += 1\n",
        "        A = get_action(agent, obs, env.action_space.n, epsilon)\n",
        "        obs_next, reward, done, _ = env.step(A.item())\n",
        "        memory.collect([obs, A.item(), reward, obs_next])\n",
        "\n",
        "        obs = obs_next\n",
        "        rew += reward\n",
        "        index += 1\n",
        "\n",
        "        if index > 128:\n",
        "            index = 0\n",
        "            for j in range(4):\n",
        "                loss = train(agent, batch_size=16)\n",
        "                losses += loss\n",
        "    \n",
        "    # TODO: add epsilon decay rule here!\n",
        "    if epsilon > 0.01 and rew >= rew_thres:\n",
        "      epsilon *= 0.97\n",
        "      rew_thres += 1\n",
        "\n",
        "    losses_list.append(losses / ep_len), reward_list.append(rew)\n",
        "    episode_len_list.append(ep_len), epsilon_list.append(epsilon)\n",
        "\n",
        "print(\"Saving trained model\")\n",
        "agent.save_trained_model(\"cartpole-dqn.pth\")"
      ],
      "execution_count": 66,
      "outputs": [
        {
          "output_type": "stream",
          "text": [
            "100%|██████████| 8000/8000 [00:56<00:00, 141.80it/s]"
          ],
          "name": "stderr"
        },
        {
          "output_type": "stream",
          "text": [
            "Saving trained model\n"
          ],
          "name": "stdout"
        },
        {
          "output_type": "stream",
          "text": [
            "\n"
          ],
          "name": "stderr"
        }
      ]
    },
    {
      "cell_type": "markdown",
      "metadata": {
        "id": "CCow7jNXf5YT"
      },
      "source": [
        "## Last Step: evaluate your trained model!\n",
        "\n",
        "First we can plot the reward vs. episode:"
      ]
    },
    {
      "cell_type": "code",
      "metadata": {
        "id": "-Hy_FP7yeXA4",
        "colab": {
          "base_uri": "https://localhost:8080/",
          "height": 295
        },
        "outputId": "9decbb83-c854-4d22-af2b-30c0c794e23e"
      },
      "source": [
        "def plot_reward(r):\n",
        "    plt.figure(2)\n",
        "    plt.clf()\n",
        "    plt.title('Result')\n",
        "    plt.xlabel('Episode')\n",
        "    plt.ylabel('Reward')\n",
        "    plt.plot(r)\n",
        "\n",
        "plot_reward(reward_list)"
      ],
      "execution_count": 67,
      "outputs": [
        {
          "output_type": "display_data",
          "data": {
            "image/png": "[encoded data removed]",
            "text/plain": [
              "<Figure size 432x288 with 1 Axes>"
            ]
          },
          "metadata": {
            "tags": [],
            "needs_background": "light"
          }
        }
      ]
    },
    {
      "cell_type": "code",
      "metadata": {
        "id": "EMEivKldTGVG",
        "colab": {
          "base_uri": "https://localhost:8080/",
          "height": 455
        },
        "outputId": "54dcadc9-101b-431f-f35c-403a1994ba3f"
      },
      "source": [
        "env = wrap_env(gym.make('CartPole-v0'))\n",
        "\n",
        "input_dim = env.observation_space.shape[0]\n",
        "output_dim = env.action_space.n\n",
        "model_validate = DQN_Network(layer_size_list=[input_dim, 64, output_dim], lr=1e-3)\n",
        "model_validate.load_pretrained_model(\"cartpole-dqn.pth\")\n",
        "\n",
        "reward_arr = []\n",
        "for i in tqdm(range(300)):\n",
        "    obs, done, rew = env.reset(), False, 0\n",
        "    env.render()\n",
        "    while not done:\n",
        "        A = get_action(model_validate, obs, env.action_space.n, epsilon=0)\n",
        "        obs, reward, done, info = env.step(A.item())\n",
        "        rew += reward\n",
        "        # sleep(0.01)\n",
        "\n",
        "    reward_arr.append(rew)\n",
        "print(\"average reward per episode :\", sum(reward_arr) / len(reward_arr))\n",
        "env.close()\n",
        "show_video()"
      ],
      "execution_count": 68,
      "outputs": [
        {
          "output_type": "stream",
          "text": [
            "100%|██████████| 300/300 [00:18<00:00, 16.34it/s]"
          ],
          "name": "stderr"
        },
        {
          "output_type": "stream",
          "text": [
            "average reward per episode : 200.0\n"
          ],
          "name": "stdout"
        },
        {
          "output_type": "stream",
          "text": [
            "\n"
          ],
          "name": "stderr"
        },
        {
          "output_type": "display_data",
          "data": {
            "text/html": [
              "<video alt=\"test\" autoplay \n",
              "                loop controls style=\"height: 400px;\">\n",
              "                <source src=\"data:video/mp4;base64,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\" type=\"video/mp4\" />\n",
              "             </video>"
            ],
            "text/plain": [
              "<IPython.core.display.HTML object>"
            ]
          },
          "metadata": {
            "tags": []
          }
        }
      ]
    },
    {
      "cell_type": "code",
      "metadata": {
        "id": "AueyC22ahiDx"
      },
      "source": [
        "def find_best(e_decay):\n",
        "  # Create the model\n",
        "  env = gym.make('CartPole-v0')\n",
        "  input_dim = env.observation_space.shape[0]\n",
        "  output_dim = env.action_space.n\n",
        "  agent = DQN_Network(layer_size_list=[input_dim, 64, output_dim], lr=1e-3)\n",
        "\n",
        "  # Main training loop\n",
        "  losses_list, reward_list, episode_len_list, epsilon_list = [], [], [], []\n",
        "\n",
        "  # TODO: try different values, it normally takes more than 6k episodes to train\n",
        "  exp_replay_size = 1000\n",
        "  memory = ExperienceReplay(exp_replay_size)\n",
        "  episodes = 8000\n",
        "  rew_thres = 0\n",
        "  epsilon = 1 # episilon start from 1 and decay gradually. \n",
        "\n",
        "  # initiliaze experiance replay\n",
        "  index = 0\n",
        "  for i in range(exp_replay_size):\n",
        "      obs = env.reset()\n",
        "      done = False\n",
        "      while not done:\n",
        "          A = get_action(agent, obs, env.action_space.n, epsilon=1)\n",
        "          obs_next, reward, done, _ = env.step(A.item())\n",
        "          memory.collect([obs, A.item(), reward, obs_next])\n",
        "          obs = obs_next\n",
        "          index += 1\n",
        "          if index > exp_replay_size:\n",
        "              break\n",
        "\n",
        "  index = 128\n",
        "  for i in tqdm(range(episodes)):\n",
        "      obs, done, losses, ep_len, rew = env.reset(), False, 0, 0, 0\n",
        "      while not done:\n",
        "          ep_len += 1\n",
        "          A = get_action(agent, obs, env.action_space.n, epsilon)\n",
        "          obs_next, reward, done, _ = env.step(A.item())\n",
        "          memory.collect([obs, A.item(), reward, obs_next])\n",
        "\n",
        "          obs = obs_next\n",
        "          rew += reward\n",
        "          index += 1\n",
        "\n",
        "          if index > 128:\n",
        "              index = 0\n",
        "              for j in range(4):\n",
        "                  loss = train(agent, batch_size=16)\n",
        "                  losses += loss\n",
        "      \n",
        "      # TODO: add epsilon decay rule here!\n",
        "      if epsilon > 0.01 and rew >= rew_thres:\n",
        "        epsilon *= e_decay\n",
        "        rew_thres += 1\n",
        "\n",
        "      losses_list.append(losses / ep_len), reward_list.append(rew)\n",
        "      episode_len_list.append(ep_len), epsilon_list.append(epsilon)\n",
        "\n",
        "  print(\"Saving trained model\")\n",
        "  agent.save_trained_model(\"cartpole-dqn.pth\")\n",
        "  env = wrap_env(gym.make('CartPole-v0'))\n",
        "\n",
        "  input_dim = env.observation_space.shape[0]\n",
        "  output_dim = env.action_space.n\n",
        "  model_validate = DQN_Network(layer_size_list=[input_dim, 64, output_dim], lr=1e-3)\n",
        "  model_validate.load_pretrained_model(\"cartpole-dqn.pth\")\n",
        "\n",
        "  reward_arr = []\n",
        "  for i in tqdm(range(300)):\n",
        "      obs, done, rew = env.reset(), False, 0\n",
        "      env.render()\n",
        "      while not done:\n",
        "          A = get_action(model_validate, obs, env.action_space.n, epsilon=0)\n",
        "          obs, reward, done, info = env.step(A.item())\n",
        "          rew += reward\n",
        "          # sleep(0.01)\n",
        "\n",
        "      reward_arr.append(rew)\n",
        "  score = sum(reward_arr) / len(reward_arr)\n",
        "  print(\"average reward per episode : {} {}\".format(score, e_decay))\n",
        "  return score"
      ],
      "execution_count": 69,
      "outputs": []
    },
    {
      "cell_type": "code",
      "metadata": {
        "id": "KNDCkPyJipSJ"
      },
      "source": [
        "# test\n",
        "import numpy as np\n",
        "best_score = 0\n",
        "best_e = 0\n",
        "# values = np.linspace(0.91, 0.99, num=0)\n",
        "# for e in values:\n",
        "#   curr = find_best(e)\n",
        "#   if curr > best_score:\n",
        "#     print(\"find better: decay {}, score {}\".format(e, curr))\n",
        "#     best_score = curr\n",
        "#     best_e = e\n",
        "# print(\"best: {} {}\".format(best_e, best_score))"
      ],
      "execution_count": 70,
      "outputs": []
    }
  ]
}