{
  "nbformat": 4,
  "nbformat_minor": 0,
  "metadata": {
    "accelerator": "GPU",
    "colab": {
      "name": "“PA4 Part 1: DCGAN”的副本",
      "provenance": [],
      "collapsed_sections": []
    },
    "kernelspec": {
      "display_name": "Python 3",
      "language": "python",
      "name": "python3"
    },
    "language_info": {
      "codemirror_mode": {
        "name": "ipython",
        "version": 3
      },
      "file_extension": ".py",
      "mimetype": "text/x-python",
      "name": "python",
      "nbconvert_exporter": "python",
      "pygments_lexer": "ipython3",
      "version": "3.7.6"
    }
  },
  "cells": [
    {
      "cell_type": "markdown",
      "metadata": {
        "id": "TjPTaRB4mpCd"
      },
      "source": [
        "# Colab FAQ\n",
        "\n",
        "For some basic overview and features offered in Colab notebooks, check out: [Overview of Colaboratory Features](https://colab.research.google.com/notebooks/basic_features_overview.ipynb)\n",
        "\n",
        "You need to use the colab GPU for this assignmentby selecting:\n",
        "\n",
        "> **Runtime**   →   **Change runtime type**   →   **Hardware Accelerator: GPU**"
      ]
    },
    {
      "cell_type": "markdown",
      "metadata": {
        "id": "s9IS9B9-yUU5"
      },
      "source": [
        "## Setup PyTorch\n",
        "All files are stored at /content/csc421/a4/ folder\n"
      ]
    },
    {
      "cell_type": "code",
      "metadata": {
        "id": "Z-6MQhMOlHXD",
        "colab": {
          "base_uri": "https://localhost:8080/"
        },
        "outputId": "43a94711-94e1-43d6-cd87-d9efa0249987"
      },
      "source": [
        "######################################################################\n",
        "# Setup python environment and change the current working directory\n",
        "######################################################################\n",
        "!pip install torch torchvision\n",
        "!pip install imageio\n",
        "\n",
        "!pip install matplotlib\n",
        "\n",
        "%mkdir -p /content/csc413/a4/\n",
        "%cd /content/csc413/a4"
      ],
      "execution_count": 3,
      "outputs": [
        {
          "output_type": "stream",
          "text": [
            "Requirement already satisfied: torch in /usr/local/lib/python3.7/dist-packages (1.8.0+cu101)\n",
            "Requirement already satisfied: torchvision in /usr/local/lib/python3.7/dist-packages (0.9.0+cu101)\n",
            "Requirement already satisfied: numpy in /usr/local/lib/python3.7/dist-packages (from torch) (1.19.5)\n",
            "Requirement already satisfied: typing-extensions in /usr/local/lib/python3.7/dist-packages (from torch) (3.7.4.3)\n",
            "Requirement already satisfied: pillow>=4.1.1 in /usr/local/lib/python3.7/dist-packages (from torchvision) (7.0.0)\n",
            "Requirement already satisfied: imageio in /usr/local/lib/python3.7/dist-packages (2.4.1)\n",
            "Requirement already satisfied: numpy in /usr/local/lib/python3.7/dist-packages (from imageio) (1.19.5)\n",
            "Requirement already satisfied: pillow in /usr/local/lib/python3.7/dist-packages (from imageio) (7.0.0)\n",
            "Requirement already satisfied: matplotlib in /usr/local/lib/python3.7/dist-packages (3.2.2)\n",
            "Requirement already satisfied: python-dateutil>=2.1 in /usr/local/lib/python3.7/dist-packages (from matplotlib) (2.8.1)\n",
            "Requirement already satisfied: cycler>=0.10 in /usr/local/lib/python3.7/dist-packages (from matplotlib) (0.10.0)\n",
            "Requirement already satisfied: numpy>=1.11 in /usr/local/lib/python3.7/dist-packages (from matplotlib) (1.19.5)\n",
            "Requirement already satisfied: kiwisolver>=1.0.1 in /usr/local/lib/python3.7/dist-packages (from matplotlib) (1.3.1)\n",
            "Requirement already satisfied: pyparsing!=2.0.4,!=2.1.2,!=2.1.6,>=2.0.1 in /usr/local/lib/python3.7/dist-packages (from matplotlib) (2.4.7)\n",
            "Requirement already satisfied: six>=1.5 in /usr/local/lib/python3.7/dist-packages (from python-dateutil>=2.1->matplotlib) (1.15.0)\n",
            "/content/csc413/a4\n"
          ],
          "name": "stdout"
        }
      ]
    },
    {
      "cell_type": "markdown",
      "metadata": {
        "id": "9DaTdRNuUra7"
      },
      "source": [
        "# Helper code"
      ]
    },
    {
      "cell_type": "markdown",
      "metadata": {
        "id": "4BIpGwANoQOg"
      },
      "source": [
        "## Utility functions"
      ]
    },
    {
      "cell_type": "code",
      "metadata": {
        "id": "D-UJHBYZkh7f"
      },
      "source": [
        "import os\n",
        "\n",
        "import numpy as np\n",
        "import matplotlib.pyplot as plt\n",
        "\n",
        "import torch\n",
        "from torch import nn\n",
        "from torch.nn import Parameter\n",
        "import torch.nn.functional as F\n",
        "import torch.optim as optim\n",
        "from torch.autograd import Variable\n",
        "from torch.utils.data import DataLoader\n",
        "from torchvision import datasets\n",
        "from torchvision import transforms\n",
        "\n",
        "from six.moves.urllib.request import urlretrieve\n",
        "import tarfile\n",
        "\n",
        "import imageio\n",
        "from urllib.error import URLError\n",
        "from urllib.error import HTTPError\n",
        "\n",
        "\n",
        "def get_file(fname,\n",
        "             origin,\n",
        "             untar=False,\n",
        "             extract=False,\n",
        "             archive_format='auto',\n",
        "             cache_dir='data'):\n",
        "    datadir = os.path.join(cache_dir)\n",
        "    if not os.path.exists(datadir):\n",
        "        os.makedirs(datadir)\n",
        "\n",
        "    if untar:\n",
        "        untar_fpath = os.path.join(datadir, fname)\n",
        "        fpath = untar_fpath + '.tar.gz'\n",
        "    else:\n",
        "        fpath = os.path.join(datadir, fname)\n",
        "\n",
        "    print(fpath)\n",
        "    if not os.path.exists(fpath):\n",
        "        print('Downloading data from', origin)\n",
        "\n",
        "        error_msg = 'URL fetch failure on {}: {} -- {}'\n",
        "        try:\n",
        "            try:\n",
        "                urlretrieve(origin, fpath)\n",
        "            except URLError as e:\n",
        "                raise Exception(error_msg.format(origin, e.errno, e.reason))\n",
        "            except HTTPError as e:\n",
        "                raise Exception(error_msg.format(origin, e.code, e.msg))\n",
        "        except (Exception, KeyboardInterrupt) as e:\n",
        "            if os.path.exists(fpath):\n",
        "                os.remove(fpath)\n",
        "            raise\n",
        "\n",
        "    if untar:\n",
        "        if not os.path.exists(untar_fpath):\n",
        "            print('Extracting file.')\n",
        "            with tarfile.open(fpath) as archive:\n",
        "                archive.extractall(datadir)\n",
        "        return untar_fpath\n",
        "\n",
        "    return fpath\n",
        "\n",
        "\n",
        "class AttrDict(dict):\n",
        "    def __init__(self, *args, **kwargs):\n",
        "        super(AttrDict, self).__init__(*args, **kwargs)\n",
        "        self.__dict__ = self\n",
        "\n",
        "                \n",
        "def to_var(tensor, cuda=True):\n",
        "    \"\"\"Wraps a Tensor in a Variable, optionally placing it on the GPU.\n",
        "\n",
        "        Arguments:\n",
        "            tensor: A Tensor object.\n",
        "            cuda: A boolean flag indicating whether to use the GPU.\n",
        "\n",
        "        Returns:\n",
        "            A Variable object, on the GPU if cuda==True.\n",
        "    \"\"\"\n",
        "    if cuda:\n",
        "        return Variable(tensor.cuda())\n",
        "    else:\n",
        "        return Variable(tensor)\n",
        "\n",
        "    \n",
        "def to_data(x):\n",
        "    \"\"\"Converts variable to numpy.\"\"\"\n",
        "    if torch.cuda.is_available():\n",
        "        x = x.cpu()\n",
        "    return x.data.numpy()\n",
        "\n",
        "\n",
        "def create_dir(directory):\n",
        "    \"\"\"Creates a directory if it doesn't already exist.\n",
        "    \"\"\"\n",
        "    if not os.path.exists(directory):\n",
        "        os.makedirs(directory)\n",
        "\n",
        "\n",
        "def gan_checkpoint(iteration, G, D, opts):\n",
        "    \"\"\"Saves the parameters of the generator G and discriminator D.\n",
        "    \"\"\"\n",
        "    G_path = os.path.join(opts.checkpoint_dir, 'G.pkl')\n",
        "    D_path = os.path.join(opts.checkpoint_dir, 'D.pkl')\n",
        "    torch.save(G.state_dict(), G_path)\n",
        "    torch.save(D.state_dict(), D_path)\n",
        "\n",
        "def load_checkpoint(opts):\n",
        "    \"\"\"Loads the generator and discriminator models from checkpoints.\n",
        "    \"\"\"\n",
        "    G_path = os.path.join(opts.load, 'G.pkl')\n",
        "    D_path = os.path.join(opts.load, 'D_.pkl')\n",
        "\n",
        "    G = DCGenerator(noise_size=opts.noise_size, conv_dim=opts.g_conv_dim, spectral_norm=opts.spectral_norm)\n",
        "    D = DCDiscriminator(conv_dim=opts.d_conv_dim)\n",
        "\n",
        "    G.load_state_dict(torch.load(G_path, map_location=lambda storage, loc: storage))\n",
        "    D.load_state_dict(torch.load(D_path, map_location=lambda storage, loc: storage))\n",
        "\n",
        "    if torch.cuda.is_available():\n",
        "        G.cuda()\n",
        "        D.cuda()\n",
        "        print('Models moved to GPU.')\n",
        "\n",
        "    return G, D\n",
        "\n",
        "\n",
        "def merge_images(sources, targets, opts):\n",
        "    \"\"\"Creates a grid consisting of pairs of columns, where the first column in\n",
        "    each pair contains images source images and the second column in each pair\n",
        "    contains images generated by the CycleGAN from the corresponding images in\n",
        "    the first column.\n",
        "    \"\"\"\n",
        "    _, _, h, w = sources.shape\n",
        "    row = int(np.sqrt(opts.batch_size))\n",
        "    merged = np.zeros([3, row * h, row * w * 2])\n",
        "    for (idx, s, t) in (zip(range(row ** 2), sources, targets, )):\n",
        "        i = idx // row\n",
        "        j = idx % row\n",
        "        merged[:, i * h:(i + 1) * h, (j * 2) * h:(j * 2 + 1) * h] = s\n",
        "        merged[:, i * h:(i + 1) * h, (j * 2 + 1) * h:(j * 2 + 2) * h] = t\n",
        "    return merged.transpose(1, 2, 0)\n",
        "\n",
        "\n",
        "def generate_gif(directory_path, keyword=None):\n",
        "    images = []\n",
        "    for filename in sorted(os.listdir(directory_path)):\n",
        "        if filename.endswith(\".png\") and (keyword is None or keyword in filename):\n",
        "            img_path = os.path.join(directory_path, filename)\n",
        "            print(\"adding image {}\".format(img_path))\n",
        "            images.append(imageio.imread(img_path))\n",
        "\n",
        "    if keyword:\n",
        "        imageio.mimsave(\n",
        "            os.path.join(directory_path, 'anim_{}.gif'.format(keyword)), images)\n",
        "    else:\n",
        "        imageio.mimsave(os.path.join(directory_path, 'anim.gif'), images)\n",
        "\n",
        "\n",
        "def create_image_grid(array, ncols=None):\n",
        "    \"\"\"\n",
        "    \"\"\"\n",
        "    num_images, channels, cell_h, cell_w = array.shape\n",
        "    if not ncols:\n",
        "        ncols = int(np.sqrt(num_images))\n",
        "    nrows = int(np.math.floor(num_images / float(ncols)))\n",
        "    result = np.zeros((cell_h * nrows, cell_w * ncols, channels), dtype=array.dtype)\n",
        "    for i in range(0, nrows):\n",
        "        for j in range(0, ncols):\n",
        "            result[i * cell_h:(i + 1) * cell_h, j * cell_w:(j + 1) * cell_w, :] = array[i * ncols + j].transpose(1, 2,\n",
        "                                                                                                                 0)\n",
        "\n",
        "    if channels == 1:\n",
        "        result = result.squeeze()\n",
        "    return result\n",
        "\n",
        "\n",
        "def gan_save_samples(G, fixed_noise, iteration, opts):\n",
        "    generated_images = G(fixed_noise)\n",
        "    generated_images = to_data(generated_images)\n",
        "\n",
        "    grid = create_image_grid(generated_images)\n",
        "\n",
        "    # merged = merge_images(X, fake_Y, opts)\n",
        "    path = os.path.join(opts.sample_dir, 'sample-{:06d}.png'.format(iteration))\n",
        "    imageio.imwrite(path, grid)\n",
        "    print('Saved {}'.format(path))"
      ],
      "execution_count": 4,
      "outputs": []
    },
    {
      "cell_type": "markdown",
      "metadata": {
        "id": "pbvpn4MaV0I1"
      },
      "source": [
        "## Data loader"
      ]
    },
    {
      "cell_type": "code",
      "metadata": {
        "id": "XVT4TNTOV3Eg"
      },
      "source": [
        "def get_emoji_loader(emoji_type, opts):\n",
        "    \"\"\"Creates training and test data loaders.\n",
        "    \"\"\"\n",
        "    transform = transforms.Compose([\n",
        "                    transforms.Scale(opts.image_size),\n",
        "                    transforms.ToTensor(),\n",
        "                    transforms.Normalize((0.5, 0.5, 0.5), (0.5, 0.5, 0.5))\n",
        "                ])\n",
        "\n",
        "    train_path = os.path.join('data/emojis', emoji_type)\n",
        "    test_path = os.path.join('data/emojis', 'Test_{}'.format(emoji_type))\n",
        "\n",
        "    train_dataset = datasets.ImageFolder(train_path, transform)\n",
        "    test_dataset = datasets.ImageFolder(test_path, transform)\n",
        "\n",
        "    train_dloader = DataLoader(dataset=train_dataset, batch_size=opts.batch_size, shuffle=True, num_workers=opts.num_workers)\n",
        "    test_dloader = DataLoader(dataset=test_dataset, batch_size=opts.batch_size, shuffle=False, num_workers=opts.num_workers)\n",
        "\n",
        "    return train_dloader, test_dloader"
      ],
      "execution_count": 5,
      "outputs": []
    },
    {
      "cell_type": "markdown",
      "metadata": {
        "id": "bRWfRdmVVjUl"
      },
      "source": [
        "## Training and evaluation code"
      ]
    },
    {
      "cell_type": "code",
      "metadata": {
        "id": "nSIhQp41q_Nu"
      },
      "source": [
        "def print_models(G_XtoY, G_YtoX, D_X, D_Y):\n",
        "    \"\"\"Prints model information for the generators and discriminators.\n",
        "    \"\"\"\n",
        "    print(\"                 G                     \")\n",
        "    print(\"---------------------------------------\")\n",
        "    print(G_XtoY)\n",
        "    print(\"---------------------------------------\")\n",
        "\n",
        "    print(\"                  D                    \")\n",
        "    print(\"---------------------------------------\")\n",
        "    print(D_X)\n",
        "    print(\"---------------------------------------\")\n",
        "\n",
        "\n",
        "def create_model(opts):\n",
        "    \"\"\"Builds the generators and discriminators.\n",
        "    \"\"\"\n",
        "    ### GAN\n",
        "    G = DCGenerator(noise_size=opts.noise_size, conv_dim=opts.g_conv_dim, spectral_norm=opts.spectral_norm)\n",
        "    D = DCDiscriminator(conv_dim=opts.d_conv_dim, spectral_norm=opts.spectral_norm)\n",
        "\n",
        "    print_models(G, None, D, None)\n",
        "\n",
        "    if torch.cuda.is_available():\n",
        "        G.cuda()\n",
        "        D.cuda()\n",
        "        print('Models moved to GPU.')\n",
        "    return G, D\n",
        "\n",
        "def train(opts):\n",
        "    \"\"\"Loads the data, creates checkpoint and sample directories, and starts the training loop.\n",
        "    \"\"\"\n",
        "\n",
        "    # Create train and test dataloaders for images from the two domains X and Y\n",
        "    dataloader_X, test_dataloader_X = get_emoji_loader(emoji_type=opts.X, opts=opts)\n",
        "    \n",
        "    # Create checkpoint and sample directories\n",
        "    create_dir(opts.checkpoint_dir)\n",
        "    create_dir(opts.sample_dir)\n",
        "\n",
        "    # Start training\n",
        "    G, D = gan_training_loop(dataloader_X, test_dataloader_X, opts)\n",
        "    return G, D\n",
        "\n",
        "def print_opts(opts):\n",
        "    \"\"\"Prints the values of all command-line arguments.\n",
        "    \"\"\"\n",
        "    print('=' * 80)\n",
        "    print('Opts'.center(80))\n",
        "    print('-' * 80)\n",
        "    for key in opts.__dict__:\n",
        "        if opts.__dict__[key]:\n",
        "            print('{:>30}: {:<30}'.format(key, opts.__dict__[key]).center(80))\n",
        "    print('=' * 80)\n"
      ],
      "execution_count": 6,
      "outputs": []
    },
    {
      "cell_type": "markdown",
      "metadata": {
        "id": "bXNsLNkOn38w"
      },
      "source": [
        "# Your code for generators and discriminators"
      ]
    },
    {
      "cell_type": "markdown",
      "metadata": {
        "id": "u0KxX0sDpXKb"
      },
      "source": [
        "## Helper modules"
      ]
    },
    {
      "cell_type": "code",
      "metadata": {
        "id": "y7s0etAmpUgT"
      },
      "source": [
        "def sample_noise(batch_size, dim):\n",
        "    \"\"\"\n",
        "    Generate a PyTorch Tensor of uniform random noise.\n",
        "\n",
        "    Input:\n",
        "    - batch_size: Integer giving the batch size of noise to generate.\n",
        "    - dim: Integer giving the dimension of noise to generate.\n",
        "\n",
        "    Output:\n",
        "    - A PyTorch Tensor of shape (batch_size, dim, 1, 1) containing uniform\n",
        "      random noise in the range (-1, 1).\n",
        "    \"\"\"\n",
        "    return to_var(torch.rand(batch_size, dim) * 2 - 1).unsqueeze(2).unsqueeze(3)\n",
        "  \n",
        "\n",
        "def upconv(in_channels, out_channels, kernel_size, stride=2, padding=2, batch_norm=True, spectral_norm=False):\n",
        "    \"\"\"Creates a upsample-and-convolution layer, with optional batch normalization.\n",
        "    \"\"\"\n",
        "    layers = []\n",
        "    if stride>1:\n",
        "        layers.append(nn.Upsample(scale_factor=stride))\n",
        "    conv_layer = nn.Conv2d(in_channels=in_channels, out_channels=out_channels, kernel_size=kernel_size, stride=1, padding=padding, bias=False)\n",
        "    if spectral_norm:\n",
        "        layers.append(SpectralNorm(conv_layer))\n",
        "    else:\n",
        "        layers.append(conv_layer)\n",
        "    if batch_norm:\n",
        "        layers.append(nn.BatchNorm2d(out_channels))\n",
        "    return nn.Sequential(*layers)\n",
        "\n",
        "\n",
        "def conv(in_channels, out_channels, kernel_size, stride=2, padding=2, batch_norm=True, init_zero_weights=False, spectral_norm=False):\n",
        "    \"\"\"Creates a convolutional layer, with optional batch normalization.\n",
        "    \"\"\"\n",
        "    layers = []\n",
        "    conv_layer = nn.Conv2d(in_channels=in_channels, out_channels=out_channels, kernel_size=kernel_size, stride=stride, padding=padding, bias=False)\n",
        "    if init_zero_weights:\n",
        "        conv_layer.weight.data = torch.randn(out_channels, in_channels, kernel_size, kernel_size) * 0.001\n",
        "            \n",
        "    if spectral_norm:\n",
        "        layers.append(SpectralNorm(conv_layer))\n",
        "    else:\n",
        "        layers.append(conv_layer)\n",
        "\n",
        "    if batch_norm:\n",
        "        layers.append(nn.BatchNorm2d(out_channels))\n",
        "    return nn.Sequential(*layers)\n",
        "  \n",
        "\n",
        "class ResnetBlock(nn.Module):\n",
        "    def __init__(self, conv_dim):\n",
        "        super(ResnetBlock, self).__init__()\n",
        "        self.conv_layer = conv(in_channels=conv_dim, out_channels=conv_dim, kernel_size=3, stride=1, padding=1)\n",
        "\n",
        "    def forward(self, x):\n",
        "        out = x + self.conv_layer(x)\n",
        "        return out"
      ],
      "execution_count": 7,
      "outputs": []
    },
    {
      "cell_type": "markdown",
      "metadata": {
        "id": "S0_YbBwe5k35"
      },
      "source": [
        "## DCGAN"
      ]
    },
    {
      "cell_type": "markdown",
      "metadata": {
        "id": "m1E_jDaBLT1P"
      },
      "source": [
        "## Spectral Norm class"
      ]
    },
    {
      "cell_type": "code",
      "metadata": {
        "id": "2hy97i1-LT1Q"
      },
      "source": [
        "def l2normalize(v, eps=1e-12):\n",
        "    return v / (v.norm() + eps)\n",
        "\n",
        "\n",
        "class SpectralNorm(nn.Module):\n",
        "    def __init__(self, module, name='weight', power_iterations=1):\n",
        "        super(SpectralNorm, self).__init__()\n",
        "        self.module = module\n",
        "        self.name = name\n",
        "        self.power_iterations = power_iterations\n",
        "        if not self._made_params():\n",
        "            self._make_params()\n",
        "\n",
        "    def _update_u_v(self):\n",
        "        u = getattr(self.module, self.name + \"_u\")\n",
        "        v = getattr(self.module, self.name + \"_v\")\n",
        "        w = getattr(self.module, self.name + \"_bar\")\n",
        "\n",
        "        height = w.data.shape[0]\n",
        "        for _ in range(self.power_iterations):\n",
        "            v.data = l2normalize(torch.mv(torch.t(w.view(height,-1).data), u.data))\n",
        "            u.data = l2normalize(torch.mv(w.view(height,-1).data, v.data))\n",
        "\n",
        "        # sigma = torch.dot(u.data, torch.mv(w.view(height,-1).data, v.data))\n",
        "        sigma = u.dot(w.view(height, -1).mv(v))\n",
        "        setattr(self.module, self.name, w / sigma.expand_as(w))\n",
        "\n",
        "    def _made_params(self):\n",
        "        try:\n",
        "            u = getattr(self.module, self.name + \"_u\")\n",
        "            v = getattr(self.module, self.name + \"_v\")\n",
        "            w = getattr(self.module, self.name + \"_bar\")\n",
        "            return True\n",
        "        except AttributeError:\n",
        "            return False\n",
        "\n",
        "    def _make_params(self):\n",
        "        w = getattr(self.module, self.name)\n",
        "\n",
        "        height = w.data.shape[0]\n",
        "        width = w.view(height, -1).data.shape[1]\n",
        "\n",
        "        u = Parameter(w.data.new(height).normal_(0, 1), requires_grad=False)\n",
        "        v = Parameter(w.data.new(width).normal_(0, 1), requires_grad=False)\n",
        "        u.data = l2normalize(u.data)\n",
        "        v.data = l2normalize(v.data)\n",
        "        w_bar = Parameter(w.data)\n",
        "\n",
        "        del self.module._parameters[self.name]\n",
        "\n",
        "        self.module.register_parameter(self.name + \"_u\", u)\n",
        "        self.module.register_parameter(self.name + \"_v\", v)\n",
        "        self.module.register_parameter(self.name + \"_bar\", w_bar)\n",
        "\n",
        "    def forward(self, *args):\n",
        "        self._update_u_v()\n",
        "        return self.module.forward(*args)"
      ],
      "execution_count": 8,
      "outputs": []
    },
    {
      "cell_type": "markdown",
      "metadata": {
        "id": "_BAfi_8yWB3y"
      },
      "source": [
        "### GAN generator"
      ]
    },
    {
      "cell_type": "code",
      "metadata": {
        "id": "9ztmyA5Ro67o"
      },
      "source": [
        "class DCGenerator(nn.Module):\n",
        "    def __init__(self, noise_size, conv_dim, spectral_norm=False):\n",
        "        super(DCGenerator, self).__init__()\n",
        "\n",
        "        self.conv_dim = conv_dim\n",
        "        ###########################################\n",
        "        ##   FILL THIS IN: CREATE ARCHITECTURE   ##\n",
        "        ###########################################\n",
        "\n",
        "        self.linear_bn = upconv(in_channels=noise_size, out_channels=conv_dim*4, kernel_size=5, stride=4, batch_norm=True, spectral_norm=spectral_norm)\n",
        "        self.upconv1 = upconv(in_channels=conv_dim*4, out_channels=conv_dim*2, kernel_size=5, spectral_norm=spectral_norm)\n",
        "        self.upconv2 = upconv(in_channels=conv_dim*2, out_channels=conv_dim, kernel_size=5, spectral_norm=spectral_norm)\n",
        "        self.upconv3 = upconv(in_channels=conv_dim, out_channels=3, kernel_size=5, batch_norm=False, spectral_norm=spectral_norm)\n",
        "        \n",
        "    def forward(self, z):\n",
        "        \"\"\"Generates an image given a sample of random noise.\n",
        "\n",
        "            Input\n",
        "            -----\n",
        "                z: BS x noise_size x 1 x 1   -->  BSx100x1x1 (during training)\n",
        "\n",
        "            Output\n",
        "            ------\n",
        "                out: BS x channels x image_width x image_height  -->  BSx3x32x32 (during training)\n",
        "        \"\"\"\n",
        "        batch_size = z.size(0)\n",
        "        \n",
        "        out = F.relu(self.linear_bn(z)).view(-1, self.conv_dim*4, 4, 4)    # BS x 128 x 4 x 4\n",
        "        out = F.relu(self.upconv1(out))  # BS x 64 x 8 x 8\n",
        "        out = F.relu(self.upconv2(out))  # BS x 32 x 16 x 16\n",
        "        out = F.tanh(self.upconv3(out))  # BS x 3 x 32 x 32\n",
        "        \n",
        "        out_size = out.size()\n",
        "        if out_size != torch.Size([batch_size, 3, 32, 32]):\n",
        "            raise ValueError(\"expect {} x 3 x 32 x 32, but get {}\".format(batch_size, out_size))\n",
        "        return out\n"
      ],
      "execution_count": 55,
      "outputs": []
    },
    {
      "cell_type": "markdown",
      "metadata": {
        "id": "cG4uqAVPp8_B"
      },
      "source": [
        "### GAN discriminator"
      ]
    },
    {
      "cell_type": "code",
      "metadata": {
        "id": "0GkjXydnqARR"
      },
      "source": [
        "class DCDiscriminator(nn.Module):\n",
        "    \"\"\"Defines the architecture of the discriminator network.\n",
        "       Note: Both discriminators D_X and D_Y have the same architecture in this assignment.\n",
        "    \"\"\"\n",
        "    def __init__(self, conv_dim=64, spectral_norm=False):\n",
        "        super(DCDiscriminator, self).__init__()\n",
        "\n",
        "        self.conv1 = conv(in_channels=3, out_channels=conv_dim, kernel_size=5, stride=2, spectral_norm=spectral_norm)\n",
        "        self.conv2 = conv(in_channels=conv_dim, out_channels=conv_dim*2, kernel_size=5, stride=2, spectral_norm=spectral_norm)\n",
        "        self.conv3 = conv(in_channels=conv_dim*2, out_channels=conv_dim*4, kernel_size=5, stride=2, spectral_norm=spectral_norm)\n",
        "        self.conv4 = conv(in_channels=conv_dim*4, out_channels=1, kernel_size=5, stride=2, padding=1, batch_norm=False, spectral_norm=spectral_norm)\n",
        "\n",
        "    def forward(self, x):\n",
        "        batch_size = x.size(0)\n",
        "\n",
        "        out = F.relu(self.conv1(x))    # BS x 64 x 16 x 16\n",
        "        out = F.relu(self.conv2(out))    # BS x 64 x 8 x 8\n",
        "        out = F.relu(self.conv3(out))    # BS x 64 x 4 x 4\n",
        "\n",
        "        out = self.conv4(out).squeeze()\n",
        "        out_size = out.size()\n",
        "        if out_size != torch.Size([batch_size,]):\n",
        "            raise ValueError(\"expect {} x 1, but get {}\".format(batch_size, out_size))\n",
        "        return out"
      ],
      "execution_count": 56,
      "outputs": []
    },
    {
      "cell_type": "markdown",
      "metadata": {
        "id": "G8RtBMu55ysm"
      },
      "source": [
        "### GAN training loop"
      ]
    },
    {
      "cell_type": "code",
      "metadata": {
        "id": "MxIJ2Zua51KI"
      },
      "source": [
        "def gan_training_loop(dataloader, test_dataloader, opts):\n",
        "    \"\"\"Runs the training loop.\n",
        "        * Saves checkpoint every opts.checkpoint_every iterations\n",
        "        * Saves generated samples every opts.sample_every iterations\n",
        "    \"\"\"\n",
        "\n",
        "    # Create generators and discriminators\n",
        "    G, D = create_model(opts)\n",
        "\n",
        "    g_params = G.parameters()  # Get generator parameters\n",
        "    d_params = D.parameters()  # Get discriminator parameters\n",
        "\n",
        "    # Create optimizers for the generators and discriminators\n",
        "    g_optimizer = optim.Adam(g_params, opts.lr, [opts.beta1, opts.beta2])\n",
        "    d_optimizer = optim.Adam(d_params, opts.lr * 2., [opts.beta1, opts.beta2])\n",
        "\n",
        "    train_iter = iter(dataloader)\n",
        "\n",
        "    test_iter = iter(test_dataloader)\n",
        "\n",
        "    # Get some fixed data from domains X and Y for sampling. These are images that are held\n",
        "    # constant throughout training, that allow us to inspect the model's performance.\n",
        "    fixed_noise = sample_noise(100, opts.noise_size)  # # 100 x noise_size x 1 x 1\n",
        "\n",
        "    iter_per_epoch = len(train_iter)\n",
        "    total_train_iters = opts.train_iters\n",
        "\n",
        "    losses = {\"iteration\": [], \"D_fake_loss\": [], \"D_real_loss\": [], \"G_loss\": []}\n",
        "\n",
        "    # adversarial_loss = torch.nn.BCEWithLogitsLoss()\n",
        "    gp_weight = 1\n",
        "\n",
        "    try:\n",
        "        for iteration in range(1, opts.train_iters + 1):\n",
        "\n",
        "            # Reset data_iter for each epoch\n",
        "            if iteration % iter_per_epoch == 0:\n",
        "                train_iter = iter(dataloader)\n",
        "\n",
        "            real_images, real_labels = train_iter.next()\n",
        "            real_images, real_labels = to_var(real_images), to_var(real_labels).long().squeeze()\n",
        "\n",
        "            # ones = Variable(torch.Tensor(real_images.shape[0]).float().cuda().fill_(1.0), requires_grad=False)\n",
        "\n",
        "            for d_i in range(opts.d_train_iters):\n",
        "                d_optimizer.zero_grad()\n",
        "\n",
        "                # FILL THIS IN\n",
        "                # 1. Compute the discriminator loss on real images\n",
        "                D_real_loss = torch.mean((D(real_images) - 1)**2) / 2\n",
        "\n",
        "                # 2. Sample noise\n",
        "                noise = sample_noise(real_images.shape[0], opts.noise_size)\n",
        "\n",
        "                # 3. Generate fake images from the noise\n",
        "                fake_images = G(noise)\n",
        "\n",
        "                # 4. Compute the discriminator loss on the fake images\n",
        "                D_fake_loss = torch.mean(D(fake_images)**2) / 2\n",
        "\n",
        "                # ---- Gradient Penalty ----\n",
        "                if opts.gradient_penalty:\n",
        "                    alpha = torch.rand(real_images.shape[0], 1, 1, 1)\n",
        "                    alpha = alpha.expand_as(real_images).cuda()\n",
        "                    interp_images = Variable(alpha * real_images.data + (1 - alpha) * fake_images.data, requires_grad=True).cuda()\n",
        "                    D_interp_output = D(interp_images)\n",
        "\n",
        "                    gradients = torch.autograd.grad(outputs=D_interp_output, inputs=interp_images,\n",
        "                                                    grad_outputs=torch.ones(D_interp_output.size()).cuda(),\n",
        "                                                    create_graph=True, retain_graph=True)[0]\n",
        "                    gradients = gradients.view(real_images.shape[0], -1)\n",
        "                    gradients_norm = torch.sqrt(torch.sum(gradients ** 2, dim=1) + 1e-12)\n",
        "\n",
        "                    gp = gp_weight * gradients_norm.mean()\n",
        "                else:\n",
        "                    gp = 0.0\n",
        "\n",
        "                # --------------------------\n",
        "                # 5. Compute the total discriminator loss\n",
        "                D_total_loss = D_real_loss + D_fake_loss + gp\n",
        "\n",
        "                D_total_loss.backward()\n",
        "                d_optimizer.step()\n",
        "\n",
        "            ###########################################\n",
        "            ###          TRAIN THE GENERATOR        ###\n",
        "            ###########################################\n",
        "\n",
        "            g_optimizer.zero_grad()\n",
        "\n",
        "            # FILL THIS IN\n",
        "            # 1. Sample noise\n",
        "            noise = sample_noise(real_images.shape[0], opts.noise_size)\n",
        "\n",
        "            # 2. Generate fake images from the noise\n",
        "            fake_images = G(noise)\n",
        "\n",
        "            # 3. Compute the generator loss\n",
        "            G_loss = torch.mean((D(fake_images) - 1)**2)\n",
        "\n",
        "            G_loss.backward()\n",
        "            g_optimizer.step()\n",
        "\n",
        "            # Print the log info\n",
        "            if iteration % opts.log_step == 0:\n",
        "                losses['iteration'].append(iteration)\n",
        "                losses['D_real_loss'].append(D_real_loss.item())\n",
        "                losses['D_fake_loss'].append(D_fake_loss.item())\n",
        "                losses['G_loss'].append(G_loss.item())\n",
        "                print('Iteration [{:4d}/{:4d}] | D_real_loss: {:6.4f} | D_fake_loss: {:6.4f} | G_loss: {:6.4f}'.format(\n",
        "                    iteration, total_train_iters, D_real_loss.item(), D_fake_loss.item(), G_loss.item()))\n",
        "\n",
        "            # Save the generated samples\n",
        "            if iteration % opts.sample_every == 0:\n",
        "                gan_save_samples(G, fixed_noise, iteration, opts)\n",
        "\n",
        "            # Save the model parameters\n",
        "            if iteration % opts.checkpoint_every == 0:\n",
        "                gan_checkpoint(iteration, G, D, opts)\n",
        "\n",
        "    except KeyboardInterrupt:\n",
        "        print('Exiting early from training.')\n",
        "        return G, D\n",
        "\n",
        "    plt.figure()\n",
        "    plt.plot(losses['iteration'], losses['D_real_loss'], label='D_real')\n",
        "    plt.plot(losses['iteration'], losses['D_fake_loss'], label='D_fake')\n",
        "    plt.plot(losses['iteration'], losses['G_loss'], label='G')\n",
        "    plt.legend()\n",
        "    plt.savefig(os.path.join(opts.sample_dir, 'losses.png'))\n",
        "    plt.close()\n",
        "    return G, D"
      ],
      "execution_count": 57,
      "outputs": []
    },
    {
      "cell_type": "markdown",
      "metadata": {
        "id": "XuNFd6LNo0-o"
      },
      "source": [
        "# Training\n"
      ]
    },
    {
      "cell_type": "markdown",
      "metadata": {
        "id": "kiUwiOITHTW4"
      },
      "source": [
        "## Download dataset"
      ]
    },
    {
      "cell_type": "code",
      "metadata": {
        "id": "xwcFjsEpHRbI",
        "colab": {
          "base_uri": "https://localhost:8080/"
        },
        "outputId": "b3692f04-6854-4033-dcea-2b1690f73a37"
      },
      "source": [
        "######################################################################\n",
        "# Download Translation datasets\n",
        "######################################################################\n",
        "data_fpath = get_file(fname='emojis', \n",
        "                         origin='http://www.cs.toronto.edu/~jba/emojis.tar.gz', \n",
        "                         untar=True)"
      ],
      "execution_count": 58,
      "outputs": [
        {
          "output_type": "stream",
          "text": [
            "data/emojis.tar.gz\n"
          ],
          "name": "stdout"
        }
      ]
    },
    {
      "cell_type": "markdown",
      "metadata": {
        "id": "hmQmyJDSRFKR"
      },
      "source": [
        "## DCGAN"
      ]
    },
    {
      "cell_type": "code",
      "metadata": {
        "id": "0LKaRF1jwhH7",
        "scrolled": true,
        "colab": {
          "base_uri": "https://localhost:8080/"
        },
        "outputId": "40a09cd7-2dc5-45bd-c5ef-c4228c3f7bb7"
      },
      "source": [
        "SEED = 11\n",
        "\n",
        "# Set the random seed manually for reproducibility.\n",
        "np.random.seed(SEED)\n",
        "torch.manual_seed(SEED)\n",
        "if torch.cuda.is_available():\n",
        "    torch.cuda.manual_seed(SEED)\n",
        "\n",
        "\n",
        "args = AttrDict()\n",
        "args_dict = {\n",
        "              'image_size':32, \n",
        "              'g_conv_dim':32, \n",
        "              'd_conv_dim':64,\n",
        "              'noise_size':100,\n",
        "              'num_workers': 0,\n",
        "              'train_iters':20000,\n",
        "              'X':'Windows',  # options: 'Windows' / 'Apple'\n",
        "              'Y': None,\n",
        "              'lr':0.00003,\n",
        "              'beta1':0.5,\n",
        "              'beta2':0.999,\n",
        "              'batch_size':32, \n",
        "              'checkpoint_dir': 'results/checkpoints_gan_gp1_lr3e-5',\n",
        "              'sample_dir': 'results/samples_gan_gp1_lr3e-5',\n",
        "              'load': None,\n",
        "              'log_step':200,\n",
        "              'sample_every':200,\n",
        "              'checkpoint_every':1000,\n",
        "              'spectral_norm': False,\n",
        "              'gradient_penalty': False,\n",
        "              'd_train_iters': 1\n",
        "}\n",
        "args.update(args_dict)\n",
        "\n",
        "print_opts(args)\n",
        "G, D = train(args)\n",
        "\n",
        "generate_gif(\"results/samples_gan_gp1_lr3e-5\")"
      ],
      "execution_count": 59,
      "outputs": [
        {
          "output_type": "stream",
          "text": [
            "================================================================================\n",
            "                                      Opts                                      \n",
            "--------------------------------------------------------------------------------\n",
            "                             image_size: 32                                     \n",
            "                             g_conv_dim: 32                                     \n",
            "                             d_conv_dim: 64                                     \n",
            "                             noise_size: 100                                    \n",
            "                            train_iters: 20000                                  \n",
            "                                      X: Windows                                \n",
            "                                     lr: 3e-05                                  \n",
            "                                  beta1: 0.5                                    \n",
            "                                  beta2: 0.999                                  \n",
            "                             batch_size: 32                                     \n",
            "                       checkpoint_dir: results/checkpoints_gan_gp1_lr3e-5       \n",
            "                             sample_dir: results/samples_gan_gp1_lr3e-5         \n",
            "                               log_step: 200                                    \n",
            "                           sample_every: 200                                    \n",
            "                       checkpoint_every: 1000                                   \n",
            "                          d_train_iters: 1                                      \n",
            "================================================================================\n",
            "                 G                     \n",
            "---------------------------------------\n",
            "DCGenerator(\n",
            "  (linear_bn): Sequential(\n",
            "    (0): Upsample(scale_factor=4.0, mode=nearest)\n",
            "    (1): Conv2d(100, 128, kernel_size=(5, 5), stride=(1, 1), padding=(2, 2), bias=False)\n",
            "    (2): BatchNorm2d(128, eps=1e-05, momentum=0.1, affine=True, track_running_stats=True)\n",
            "  )\n",
            "  (upconv1): Sequential(\n",
            "    (0): Upsample(scale_factor=2.0, mode=nearest)\n",
            "    (1): Conv2d(128, 64, kernel_size=(5, 5), stride=(1, 1), padding=(2, 2), bias=False)\n",
            "    (2): BatchNorm2d(64, eps=1e-05, momentum=0.1, affine=True, track_running_stats=True)\n",
            "  )\n",
            "  (upconv2): Sequential(\n",
            "    (0): Upsample(scale_factor=2.0, mode=nearest)\n",
            "    (1): Conv2d(64, 32, kernel_size=(5, 5), stride=(1, 1), padding=(2, 2), bias=False)\n",
            "    (2): BatchNorm2d(32, eps=1e-05, momentum=0.1, affine=True, track_running_stats=True)\n",
            "  )\n",
            "  (upconv3): Sequential(\n",
            "    (0): Upsample(scale_factor=2.0, mode=nearest)\n",
            "    (1): Conv2d(32, 3, kernel_size=(5, 5), stride=(1, 1), padding=(2, 2), bias=False)\n",
            "  )\n",
            ")\n",
            "---------------------------------------\n",
            "                  D                    \n",
            "---------------------------------------\n",
            "DCDiscriminator(\n",
            "  (conv1): Sequential(\n",
            "    (0): Conv2d(3, 64, kernel_size=(5, 5), stride=(2, 2), padding=(2, 2), bias=False)\n",
            "    (1): BatchNorm2d(64, eps=1e-05, momentum=0.1, affine=True, track_running_stats=True)\n",
            "  )\n",
            "  (conv2): Sequential(\n",
            "    (0): Conv2d(64, 128, kernel_size=(5, 5), stride=(2, 2), padding=(2, 2), bias=False)\n",
            "    (1): BatchNorm2d(128, eps=1e-05, momentum=0.1, affine=True, track_running_stats=True)\n",
            "  )\n",
            "  (conv3): Sequential(\n",
            "    (0): Conv2d(128, 256, kernel_size=(5, 5), stride=(2, 2), padding=(2, 2), bias=False)\n",
            "    (1): BatchNorm2d(256, eps=1e-05, momentum=0.1, affine=True, track_running_stats=True)\n",
            "  )\n",
            "  (conv4): Sequential(\n",
            "    (0): Conv2d(256, 1, kernel_size=(5, 5), stride=(2, 2), padding=(1, 1), bias=False)\n",
            "  )\n",
            ")\n",
            "---------------------------------------\n",
            "Models moved to GPU.\n"
          ],
          "name": "stdout"
        },
        {
          "output_type": "stream",
          "text": [
            "/usr/local/lib/python3.7/dist-packages/torchvision/transforms/transforms.py:285: UserWarning: The use of the transforms.Scale transform is deprecated, please use transforms.Resize instead.\n",
            "  warnings.warn(\"The use of the transforms.Scale transform is deprecated, \" +\n",
            "/usr/local/lib/python3.7/dist-packages/PIL/Image.py:932: UserWarning: Palette images with Transparency expressed in bytes should be converted to RGBA images\n",
            "  \"Palette images with Transparency expressed in bytes should be \"\n",
            "/usr/local/lib/python3.7/dist-packages/torch/nn/functional.py:1698: UserWarning: nn.functional.tanh is deprecated. Use torch.tanh instead.\n",
            "  warnings.warn(\"nn.functional.tanh is deprecated. Use torch.tanh instead.\")\n",
            "WARNING:root:Lossy conversion from float32 to uint8. Range [-0.8751264214515686, 0.9741494059562683]. Convert image to uint8 prior to saving to suppress this warning.\n"
          ],
          "name": "stderr"
        },
        {
          "output_type": "stream",
          "text": [
            "Iteration [ 200/20000] | D_real_loss: 0.0075 | D_fake_loss: 0.0143 | G_loss: 1.0863\n",
            "Saved results/samples_gan_gp1_lr3e-5/sample-000200.png\n"
          ],
          "name": "stdout"
        },
        {
          "output_type": "stream",
          "text": [
            "WARNING:root:Lossy conversion from float32 to uint8. Range [-0.8460667133331299, 0.9239515066146851]. Convert image to uint8 prior to saving to suppress this warning.\n"
          ],
          "name": "stderr"
        },
        {
          "output_type": "stream",
          "text": [
            "Iteration [ 400/20000] | D_real_loss: 0.0052 | D_fake_loss: 0.0251 | G_loss: 1.0542\n",
            "Saved results/samples_gan_gp1_lr3e-5/sample-000400.png\n"
          ],
          "name": "stdout"
        },
        {
          "output_type": "stream",
          "text": [
            "WARNING:root:Lossy conversion from float32 to uint8. Range [-0.8229941725730896, 0.9184591174125671]. Convert image to uint8 prior to saving to suppress this warning.\n"
          ],
          "name": "stderr"
        },
        {
          "output_type": "stream",
          "text": [
            "Iteration [ 600/20000] | D_real_loss: 0.0063 | D_fake_loss: 0.0078 | G_loss: 0.9703\n",
            "Saved results/samples_gan_gp1_lr3e-5/sample-000600.png\n"
          ],
          "name": "stdout"
        },
        {
          "output_type": "stream",
          "text": [
            "WARNING:root:Lossy conversion from float32 to uint8. Range [-0.8006052374839783, 0.9177976250648499]. Convert image to uint8 prior to saving to suppress this warning.\n"
          ],
          "name": "stderr"
        },
        {
          "output_type": "stream",
          "text": [
            "Iteration [ 800/20000] | D_real_loss: 0.0167 | D_fake_loss: 0.0071 | G_loss: 0.7966\n",
            "Saved results/samples_gan_gp1_lr3e-5/sample-000800.png\n"
          ],
          "name": "stdout"
        },
        {
          "output_type": "stream",
          "text": [
            "WARNING:root:Lossy conversion from float32 to uint8. Range [-0.8090624809265137, 0.889236330986023]. Convert image to uint8 prior to saving to suppress this warning.\n"
          ],
          "name": "stderr"
        },
        {
          "output_type": "stream",
          "text": [
            "Iteration [1000/20000] | D_real_loss: 0.0043 | D_fake_loss: 0.0075 | G_loss: 1.1628\n",
            "Saved results/samples_gan_gp1_lr3e-5/sample-001000.png\n"
          ],
          "name": "stdout"
        },
        {
          "output_type": "stream",
          "text": [
            "WARNING:root:Lossy conversion from float32 to uint8. Range [-0.7482976913452148, 0.8603007793426514]. Convert image to uint8 prior to saving to suppress this warning.\n"
          ],
          "name": "stderr"
        },
        {
          "output_type": "stream",
          "text": [
            "Iteration [1200/20000] | D_real_loss: 0.0067 | D_fake_loss: 0.0065 | G_loss: 0.8985\n",
            "Saved results/samples_gan_gp1_lr3e-5/sample-001200.png\n"
          ],
          "name": "stdout"
        },
        {
          "output_type": "stream",
          "text": [
            "WARNING:root:Lossy conversion from float32 to uint8. Range [-0.657881498336792, 0.7998397946357727]. Convert image to uint8 prior to saving to suppress this warning.\n"
          ],
          "name": "stderr"
        },
        {
          "output_type": "stream",
          "text": [
            "Iteration [1400/20000] | D_real_loss: 0.0074 | D_fake_loss: 0.0038 | G_loss: 1.0482\n",
            "Saved results/samples_gan_gp1_lr3e-5/sample-001400.png\n"
          ],
          "name": "stdout"
        },
        {
          "output_type": "stream",
          "text": [
            "WARNING:root:Lossy conversion from float32 to uint8. Range [-0.6425535678863525, 0.7364935278892517]. Convert image to uint8 prior to saving to suppress this warning.\n"
          ],
          "name": "stderr"
        },
        {
          "output_type": "stream",
          "text": [
            "Iteration [1600/20000] | D_real_loss: 0.0143 | D_fake_loss: 0.0144 | G_loss: 0.6370\n",
            "Saved results/samples_gan_gp1_lr3e-5/sample-001600.png\n"
          ],
          "name": "stdout"
        },
        {
          "output_type": "stream",
          "text": [
            "WARNING:root:Lossy conversion from float32 to uint8. Range [-0.656593918800354, 0.7762452363967896]. Convert image to uint8 prior to saving to suppress this warning.\n"
          ],
          "name": "stderr"
        },
        {
          "output_type": "stream",
          "text": [
            "Iteration [1800/20000] | D_real_loss: 0.0159 | D_fake_loss: 0.0219 | G_loss: 1.2353\n",
            "Saved results/samples_gan_gp1_lr3e-5/sample-001800.png\n"
          ],
          "name": "stdout"
        },
        {
          "output_type": "stream",
          "text": [
            "WARNING:root:Lossy conversion from float32 to uint8. Range [-0.6387465000152588, 0.7069118022918701]. Convert image to uint8 prior to saving to suppress this warning.\n"
          ],
          "name": "stderr"
        },
        {
          "output_type": "stream",
          "text": [
            "Iteration [2000/20000] | D_real_loss: 0.0126 | D_fake_loss: 0.0064 | G_loss: 0.7785\n",
            "Saved results/samples_gan_gp1_lr3e-5/sample-002000.png\n"
          ],
          "name": "stdout"
        },
        {
          "output_type": "stream",
          "text": [
            "WARNING:root:Lossy conversion from float32 to uint8. Range [-0.5723773837089539, 0.6592785120010376]. Convert image to uint8 prior to saving to suppress this warning.\n"
          ],
          "name": "stderr"
        },
        {
          "output_type": "stream",
          "text": [
            "Iteration [2200/20000] | D_real_loss: 0.0053 | D_fake_loss: 0.0076 | G_loss: 1.0514\n",
            "Saved results/samples_gan_gp1_lr3e-5/sample-002200.png\n"
          ],
          "name": "stdout"
        },
        {
          "output_type": "stream",
          "text": [
            "WARNING:root:Lossy conversion from float32 to uint8. Range [-0.5506269335746765, 0.6694537997245789]. Convert image to uint8 prior to saving to suppress this warning.\n"
          ],
          "name": "stderr"
        },
        {
          "output_type": "stream",
          "text": [
            "Iteration [2400/20000] | D_real_loss: 0.0167 | D_fake_loss: 0.0112 | G_loss: 0.7724\n",
            "Saved results/samples_gan_gp1_lr3e-5/sample-002400.png\n"
          ],
          "name": "stdout"
        },
        {
          "output_type": "stream",
          "text": [
            "WARNING:root:Lossy conversion from float32 to uint8. Range [-0.5896240472793579, 0.6786450147628784]. Convert image to uint8 prior to saving to suppress this warning.\n"
          ],
          "name": "stderr"
        },
        {
          "output_type": "stream",
          "text": [
            "Iteration [2600/20000] | D_real_loss: 0.0081 | D_fake_loss: 0.0033 | G_loss: 0.8447\n",
            "Saved results/samples_gan_gp1_lr3e-5/sample-002600.png\n"
          ],
          "name": "stdout"
        },
        {
          "output_type": "stream",
          "text": [
            "WARNING:root:Lossy conversion from float32 to uint8. Range [-0.5317404270172119, 0.6079063415527344]. Convert image to uint8 prior to saving to suppress this warning.\n"
          ],
          "name": "stderr"
        },
        {
          "output_type": "stream",
          "text": [
            "Iteration [2800/20000] | D_real_loss: 0.0078 | D_fake_loss: 0.0110 | G_loss: 1.0007\n",
            "Saved results/samples_gan_gp1_lr3e-5/sample-002800.png\n"
          ],
          "name": "stdout"
        },
        {
          "output_type": "stream",
          "text": [
            "WARNING:root:Lossy conversion from float32 to uint8. Range [-0.5218026638031006, 0.5649374723434448]. Convert image to uint8 prior to saving to suppress this warning.\n"
          ],
          "name": "stderr"
        },
        {
          "output_type": "stream",
          "text": [
            "Iteration [3000/20000] | D_real_loss: 0.0040 | D_fake_loss: 0.0053 | G_loss: 1.0323\n",
            "Saved results/samples_gan_gp1_lr3e-5/sample-003000.png\n"
          ],
          "name": "stdout"
        },
        {
          "output_type": "stream",
          "text": [
            "WARNING:root:Lossy conversion from float32 to uint8. Range [-0.5395470857620239, 0.549973726272583]. Convert image to uint8 prior to saving to suppress this warning.\n"
          ],
          "name": "stderr"
        },
        {
          "output_type": "stream",
          "text": [
            "Iteration [3200/20000] | D_real_loss: 0.0253 | D_fake_loss: 0.0105 | G_loss: 0.7943\n",
            "Saved results/samples_gan_gp1_lr3e-5/sample-003200.png\n"
          ],
          "name": "stdout"
        },
        {
          "output_type": "stream",
          "text": [
            "WARNING:root:Lossy conversion from float32 to uint8. Range [-0.586847186088562, 0.5739361047744751]. Convert image to uint8 prior to saving to suppress this warning.\n"
          ],
          "name": "stderr"
        },
        {
          "output_type": "stream",
          "text": [
            "Iteration [3400/20000] | D_real_loss: 0.0063 | D_fake_loss: 0.0083 | G_loss: 0.8902\n",
            "Saved results/samples_gan_gp1_lr3e-5/sample-003400.png\n"
          ],
          "name": "stdout"
        },
        {
          "output_type": "stream",
          "text": [
            "WARNING:root:Lossy conversion from float32 to uint8. Range [-0.47712966799736023, 0.59307861328125]. Convert image to uint8 prior to saving to suppress this warning.\n"
          ],
          "name": "stderr"
        },
        {
          "output_type": "stream",
          "text": [
            "Iteration [3600/20000] | D_real_loss: 0.0053 | D_fake_loss: 0.0081 | G_loss: 0.8517\n",
            "Saved results/samples_gan_gp1_lr3e-5/sample-003600.png\n"
          ],
          "name": "stdout"
        },
        {
          "output_type": "stream",
          "text": [
            "WARNING:root:Lossy conversion from float32 to uint8. Range [-0.5211331248283386, 0.5740962028503418]. Convert image to uint8 prior to saving to suppress this warning.\n"
          ],
          "name": "stderr"
        },
        {
          "output_type": "stream",
          "text": [
            "Iteration [3800/20000] | D_real_loss: 0.0066 | D_fake_loss: 0.0103 | G_loss: 1.0907\n",
            "Saved results/samples_gan_gp1_lr3e-5/sample-003800.png\n"
          ],
          "name": "stdout"
        },
        {
          "output_type": "stream",
          "text": [
            "WARNING:root:Lossy conversion from float32 to uint8. Range [-0.5804219841957092, 0.48275595903396606]. Convert image to uint8 prior to saving to suppress this warning.\n"
          ],
          "name": "stderr"
        },
        {
          "output_type": "stream",
          "text": [
            "Iteration [4000/20000] | D_real_loss: 0.0075 | D_fake_loss: 0.0060 | G_loss: 0.8992\n",
            "Saved results/samples_gan_gp1_lr3e-5/sample-004000.png\n"
          ],
          "name": "stdout"
        },
        {
          "output_type": "stream",
          "text": [
            "WARNING:root:Lossy conversion from float32 to uint8. Range [-0.5963296890258789, 0.5180911421775818]. Convert image to uint8 prior to saving to suppress this warning.\n"
          ],
          "name": "stderr"
        },
        {
          "output_type": "stream",
          "text": [
            "Iteration [4200/20000] | D_real_loss: 0.0091 | D_fake_loss: 0.0104 | G_loss: 1.0892\n",
            "Saved results/samples_gan_gp1_lr3e-5/sample-004200.png\n"
          ],
          "name": "stdout"
        },
        {
          "output_type": "stream",
          "text": [
            "WARNING:root:Lossy conversion from float32 to uint8. Range [-0.5340392589569092, 0.5267715454101562]. Convert image to uint8 prior to saving to suppress this warning.\n"
          ],
          "name": "stderr"
        },
        {
          "output_type": "stream",
          "text": [
            "Iteration [4400/20000] | D_real_loss: 0.0063 | D_fake_loss: 0.0046 | G_loss: 0.9539\n",
            "Saved results/samples_gan_gp1_lr3e-5/sample-004400.png\n"
          ],
          "name": "stdout"
        },
        {
          "output_type": "stream",
          "text": [
            "WARNING:root:Lossy conversion from float32 to uint8. Range [-0.5026839375495911, 0.4849338233470917]. Convert image to uint8 prior to saving to suppress this warning.\n"
          ],
          "name": "stderr"
        },
        {
          "output_type": "stream",
          "text": [
            "Iteration [4600/20000] | D_real_loss: 0.0045 | D_fake_loss: 0.0035 | G_loss: 0.9139\n",
            "Saved results/samples_gan_gp1_lr3e-5/sample-004600.png\n"
          ],
          "name": "stdout"
        },
        {
          "output_type": "stream",
          "text": [
            "WARNING:root:Lossy conversion from float32 to uint8. Range [-0.5190631747245789, 0.5156434774398804]. Convert image to uint8 prior to saving to suppress this warning.\n"
          ],
          "name": "stderr"
        },
        {
          "output_type": "stream",
          "text": [
            "Iteration [4800/20000] | D_real_loss: 0.0030 | D_fake_loss: 0.0051 | G_loss: 1.0069\n",
            "Saved results/samples_gan_gp1_lr3e-5/sample-004800.png\n"
          ],
          "name": "stdout"
        },
        {
          "output_type": "stream",
          "text": [
            "WARNING:root:Lossy conversion from float32 to uint8. Range [-0.5543224811553955, 0.5461549758911133]. Convert image to uint8 prior to saving to suppress this warning.\n"
          ],
          "name": "stderr"
        },
        {
          "output_type": "stream",
          "text": [
            "Iteration [5000/20000] | D_real_loss: 0.0022 | D_fake_loss: 0.0043 | G_loss: 1.0020\n",
            "Saved results/samples_gan_gp1_lr3e-5/sample-005000.png\n"
          ],
          "name": "stdout"
        },
        {
          "output_type": "stream",
          "text": [
            "WARNING:root:Lossy conversion from float32 to uint8. Range [-0.5331969261169434, 0.46989408135414124]. Convert image to uint8 prior to saving to suppress this warning.\n"
          ],
          "name": "stderr"
        },
        {
          "output_type": "stream",
          "text": [
            "Iteration [5200/20000] | D_real_loss: 0.0043 | D_fake_loss: 0.0057 | G_loss: 0.8884\n",
            "Saved results/samples_gan_gp1_lr3e-5/sample-005200.png\n"
          ],
          "name": "stdout"
        },
        {
          "output_type": "stream",
          "text": [
            "WARNING:root:Lossy conversion from float32 to uint8. Range [-0.5470324158668518, 0.479329913854599]. Convert image to uint8 prior to saving to suppress this warning.\n"
          ],
          "name": "stderr"
        },
        {
          "output_type": "stream",
          "text": [
            "Iteration [5400/20000] | D_real_loss: 0.0048 | D_fake_loss: 0.0060 | G_loss: 1.0533\n",
            "Saved results/samples_gan_gp1_lr3e-5/sample-005400.png\n"
          ],
          "name": "stdout"
        },
        {
          "output_type": "stream",
          "text": [
            "WARNING:root:Lossy conversion from float32 to uint8. Range [-0.46549320220947266, 0.48470279574394226]. Convert image to uint8 prior to saving to suppress this warning.\n"
          ],
          "name": "stderr"
        },
        {
          "output_type": "stream",
          "text": [
            "Iteration [5600/20000] | D_real_loss: 0.0012 | D_fake_loss: 0.0051 | G_loss: 1.0120\n",
            "Saved results/samples_gan_gp1_lr3e-5/sample-005600.png\n"
          ],
          "name": "stdout"
        },
        {
          "output_type": "stream",
          "text": [
            "WARNING:root:Lossy conversion from float32 to uint8. Range [-0.4936755895614624, 0.48753273487091064]. Convert image to uint8 prior to saving to suppress this warning.\n"
          ],
          "name": "stderr"
        },
        {
          "output_type": "stream",
          "text": [
            "Iteration [5800/20000] | D_real_loss: 0.0014 | D_fake_loss: 0.0045 | G_loss: 0.9892\n",
            "Saved results/samples_gan_gp1_lr3e-5/sample-005800.png\n"
          ],
          "name": "stdout"
        },
        {
          "output_type": "stream",
          "text": [
            "WARNING:root:Lossy conversion from float32 to uint8. Range [-0.514252781867981, 0.5105594396591187]. Convert image to uint8 prior to saving to suppress this warning.\n"
          ],
          "name": "stderr"
        },
        {
          "output_type": "stream",
          "text": [
            "Iteration [6000/20000] | D_real_loss: 0.0061 | D_fake_loss: 0.0055 | G_loss: 1.1226\n",
            "Saved results/samples_gan_gp1_lr3e-5/sample-006000.png\n"
          ],
          "name": "stdout"
        },
        {
          "output_type": "stream",
          "text": [
            "WARNING:root:Lossy conversion from float32 to uint8. Range [-0.46798112988471985, 0.43743160367012024]. Convert image to uint8 prior to saving to suppress this warning.\n"
          ],
          "name": "stderr"
        },
        {
          "output_type": "stream",
          "text": [
            "Iteration [6200/20000] | D_real_loss: 0.0013 | D_fake_loss: 0.0028 | G_loss: 1.1786\n",
            "Saved results/samples_gan_gp1_lr3e-5/sample-006200.png\n"
          ],
          "name": "stdout"
        },
        {
          "output_type": "stream",
          "text": [
            "WARNING:root:Lossy conversion from float32 to uint8. Range [-0.46381568908691406, 0.456245481967926]. Convert image to uint8 prior to saving to suppress this warning.\n"
          ],
          "name": "stderr"
        },
        {
          "output_type": "stream",
          "text": [
            "Iteration [6400/20000] | D_real_loss: 0.0057 | D_fake_loss: 0.0168 | G_loss: 1.1032\n",
            "Saved results/samples_gan_gp1_lr3e-5/sample-006400.png\n"
          ],
          "name": "stdout"
        },
        {
          "output_type": "stream",
          "text": [
            "WARNING:root:Lossy conversion from float32 to uint8. Range [-0.4719572067260742, 0.46405109763145447]. Convert image to uint8 prior to saving to suppress this warning.\n"
          ],
          "name": "stderr"
        },
        {
          "output_type": "stream",
          "text": [
            "Iteration [6600/20000] | D_real_loss: 0.0014 | D_fake_loss: 0.0062 | G_loss: 0.9158\n",
            "Saved results/samples_gan_gp1_lr3e-5/sample-006600.png\n"
          ],
          "name": "stdout"
        },
        {
          "output_type": "stream",
          "text": [
            "WARNING:root:Lossy conversion from float32 to uint8. Range [-0.4621826708316803, 0.4356449544429779]. Convert image to uint8 prior to saving to suppress this warning.\n"
          ],
          "name": "stderr"
        },
        {
          "output_type": "stream",
          "text": [
            "Iteration [6800/20000] | D_real_loss: 0.0019 | D_fake_loss: 0.0040 | G_loss: 1.1148\n",
            "Saved results/samples_gan_gp1_lr3e-5/sample-006800.png\n"
          ],
          "name": "stdout"
        },
        {
          "output_type": "stream",
          "text": [
            "WARNING:root:Lossy conversion from float32 to uint8. Range [-0.5210559368133545, 0.47189298272132874]. Convert image to uint8 prior to saving to suppress this warning.\n"
          ],
          "name": "stderr"
        },
        {
          "output_type": "stream",
          "text": [
            "Iteration [7000/20000] | D_real_loss: 0.0019 | D_fake_loss: 0.0078 | G_loss: 1.0521\n",
            "Saved results/samples_gan_gp1_lr3e-5/sample-007000.png\n"
          ],
          "name": "stdout"
        },
        {
          "output_type": "stream",
          "text": [
            "WARNING:root:Lossy conversion from float32 to uint8. Range [-0.5385571718215942, 0.4993255138397217]. Convert image to uint8 prior to saving to suppress this warning.\n"
          ],
          "name": "stderr"
        },
        {
          "output_type": "stream",
          "text": [
            "Iteration [7200/20000] | D_real_loss: 0.0023 | D_fake_loss: 0.0058 | G_loss: 0.9419\n",
            "Saved results/samples_gan_gp1_lr3e-5/sample-007200.png\n"
          ],
          "name": "stdout"
        },
        {
          "output_type": "stream",
          "text": [
            "WARNING:root:Lossy conversion from float32 to uint8. Range [-0.5010898113250732, 0.47486412525177]. Convert image to uint8 prior to saving to suppress this warning.\n"
          ],
          "name": "stderr"
        },
        {
          "output_type": "stream",
          "text": [
            "Iteration [7400/20000] | D_real_loss: 0.0060 | D_fake_loss: 0.0051 | G_loss: 1.0058\n",
            "Saved results/samples_gan_gp1_lr3e-5/sample-007400.png\n"
          ],
          "name": "stdout"
        },
        {
          "output_type": "stream",
          "text": [
            "WARNING:root:Lossy conversion from float32 to uint8. Range [-0.46974751353263855, 0.47209033370018005]. Convert image to uint8 prior to saving to suppress this warning.\n"
          ],
          "name": "stderr"
        },
        {
          "output_type": "stream",
          "text": [
            "Iteration [7600/20000] | D_real_loss: 0.0012 | D_fake_loss: 0.0029 | G_loss: 1.1106\n",
            "Saved results/samples_gan_gp1_lr3e-5/sample-007600.png\n"
          ],
          "name": "stdout"
        },
        {
          "output_type": "stream",
          "text": [
            "WARNING:root:Lossy conversion from float32 to uint8. Range [-0.5318022966384888, 0.4735507667064667]. Convert image to uint8 prior to saving to suppress this warning.\n"
          ],
          "name": "stderr"
        },
        {
          "output_type": "stream",
          "text": [
            "Iteration [7800/20000] | D_real_loss: 0.0019 | D_fake_loss: 0.0029 | G_loss: 0.9718\n",
            "Saved results/samples_gan_gp1_lr3e-5/sample-007800.png\n"
          ],
          "name": "stdout"
        },
        {
          "output_type": "stream",
          "text": [
            "WARNING:root:Lossy conversion from float32 to uint8. Range [-0.5221102237701416, 0.4383140802383423]. Convert image to uint8 prior to saving to suppress this warning.\n"
          ],
          "name": "stderr"
        },
        {
          "output_type": "stream",
          "text": [
            "Iteration [8000/20000] | D_real_loss: 0.0013 | D_fake_loss: 0.0046 | G_loss: 0.9650\n",
            "Saved results/samples_gan_gp1_lr3e-5/sample-008000.png\n"
          ],
          "name": "stdout"
        },
        {
          "output_type": "stream",
          "text": [
            "WARNING:root:Lossy conversion from float32 to uint8. Range [-0.46649131178855896, 0.4798969328403473]. Convert image to uint8 prior to saving to suppress this warning.\n"
          ],
          "name": "stderr"
        },
        {
          "output_type": "stream",
          "text": [
            "Iteration [8200/20000] | D_real_loss: 0.0018 | D_fake_loss: 0.0036 | G_loss: 0.9113\n",
            "Saved results/samples_gan_gp1_lr3e-5/sample-008200.png\n"
          ],
          "name": "stdout"
        },
        {
          "output_type": "stream",
          "text": [
            "WARNING:root:Lossy conversion from float32 to uint8. Range [-0.5455489754676819, 0.44572708010673523]. Convert image to uint8 prior to saving to suppress this warning.\n"
          ],
          "name": "stderr"
        },
        {
          "output_type": "stream",
          "text": [
            "Iteration [8400/20000] | D_real_loss: 0.0049 | D_fake_loss: 0.0048 | G_loss: 1.0695\n",
            "Saved results/samples_gan_gp1_lr3e-5/sample-008400.png\n"
          ],
          "name": "stdout"
        },
        {
          "output_type": "stream",
          "text": [
            "WARNING:root:Lossy conversion from float32 to uint8. Range [-0.5110914707183838, 0.5281128883361816]. Convert image to uint8 prior to saving to suppress this warning.\n"
          ],
          "name": "stderr"
        },
        {
          "output_type": "stream",
          "text": [
            "Iteration [8600/20000] | D_real_loss: 0.0015 | D_fake_loss: 0.0024 | G_loss: 0.9186\n",
            "Saved results/samples_gan_gp1_lr3e-5/sample-008600.png\n"
          ],
          "name": "stdout"
        },
        {
          "output_type": "stream",
          "text": [
            "WARNING:root:Lossy conversion from float32 to uint8. Range [-0.5114729404449463, 0.4545973241329193]. Convert image to uint8 prior to saving to suppress this warning.\n"
          ],
          "name": "stderr"
        },
        {
          "output_type": "stream",
          "text": [
            "Iteration [8800/20000] | D_real_loss: 0.0022 | D_fake_loss: 0.0060 | G_loss: 1.1366\n",
            "Saved results/samples_gan_gp1_lr3e-5/sample-008800.png\n"
          ],
          "name": "stdout"
        },
        {
          "output_type": "stream",
          "text": [
            "WARNING:root:Lossy conversion from float32 to uint8. Range [-0.5381680130958557, 0.4695524573326111]. Convert image to uint8 prior to saving to suppress this warning.\n"
          ],
          "name": "stderr"
        },
        {
          "output_type": "stream",
          "text": [
            "Iteration [9000/20000] | D_real_loss: 0.0025 | D_fake_loss: 0.0050 | G_loss: 0.9614\n",
            "Saved results/samples_gan_gp1_lr3e-5/sample-009000.png\n"
          ],
          "name": "stdout"
        },
        {
          "output_type": "stream",
          "text": [
            "WARNING:root:Lossy conversion from float32 to uint8. Range [-0.5322090983390808, 0.4978637397289276]. Convert image to uint8 prior to saving to suppress this warning.\n"
          ],
          "name": "stderr"
        },
        {
          "output_type": "stream",
          "text": [
            "Iteration [9200/20000] | D_real_loss: 0.0047 | D_fake_loss: 0.0029 | G_loss: 0.8368\n",
            "Saved results/samples_gan_gp1_lr3e-5/sample-009200.png\n"
          ],
          "name": "stdout"
        },
        {
          "output_type": "stream",
          "text": [
            "WARNING:root:Lossy conversion from float32 to uint8. Range [-0.48380303382873535, 0.5097875595092773]. Convert image to uint8 prior to saving to suppress this warning.\n"
          ],
          "name": "stderr"
        },
        {
          "output_type": "stream",
          "text": [
            "Iteration [9400/20000] | D_real_loss: 0.0032 | D_fake_loss: 0.0079 | G_loss: 1.1717\n",
            "Saved results/samples_gan_gp1_lr3e-5/sample-009400.png\n"
          ],
          "name": "stdout"
        },
        {
          "output_type": "stream",
          "text": [
            "WARNING:root:Lossy conversion from float32 to uint8. Range [-0.5862369537353516, 0.5035721063613892]. Convert image to uint8 prior to saving to suppress this warning.\n"
          ],
          "name": "stderr"
        },
        {
          "output_type": "stream",
          "text": [
            "Iteration [9600/20000] | D_real_loss: 0.0046 | D_fake_loss: 0.0039 | G_loss: 0.9980\n",
            "Saved results/samples_gan_gp1_lr3e-5/sample-009600.png\n"
          ],
          "name": "stdout"
        },
        {
          "output_type": "stream",
          "text": [
            "WARNING:root:Lossy conversion from float32 to uint8. Range [-0.591176450252533, 0.44982728362083435]. Convert image to uint8 prior to saving to suppress this warning.\n"
          ],
          "name": "stderr"
        },
        {
          "output_type": "stream",
          "text": [
            "Iteration [9800/20000] | D_real_loss: 0.0020 | D_fake_loss: 0.0041 | G_loss: 0.9166\n",
            "Saved results/samples_gan_gp1_lr3e-5/sample-009800.png\n"
          ],
          "name": "stdout"
        },
        {
          "output_type": "stream",
          "text": [
            "WARNING:root:Lossy conversion from float32 to uint8. Range [-0.5054055452346802, 0.4419519901275635]. Convert image to uint8 prior to saving to suppress this warning.\n"
          ],
          "name": "stderr"
        },
        {
          "output_type": "stream",
          "text": [
            "Iteration [10000/20000] | D_real_loss: 0.0082 | D_fake_loss: 0.0064 | G_loss: 1.0336\n",
            "Saved results/samples_gan_gp1_lr3e-5/sample-010000.png\n"
          ],
          "name": "stdout"
        },
        {
          "output_type": "stream",
          "text": [
            "WARNING:root:Lossy conversion from float32 to uint8. Range [-0.49554476141929626, 0.48724400997161865]. Convert image to uint8 prior to saving to suppress this warning.\n"
          ],
          "name": "stderr"
        },
        {
          "output_type": "stream",
          "text": [
            "Iteration [10200/20000] | D_real_loss: 0.0023 | D_fake_loss: 0.0027 | G_loss: 0.8453\n",
            "Saved results/samples_gan_gp1_lr3e-5/sample-010200.png\n"
          ],
          "name": "stdout"
        },
        {
          "output_type": "stream",
          "text": [
            "WARNING:root:Lossy conversion from float32 to uint8. Range [-0.46254754066467285, 0.4187934398651123]. Convert image to uint8 prior to saving to suppress this warning.\n"
          ],
          "name": "stderr"
        },
        {
          "output_type": "stream",
          "text": [
            "Iteration [10400/20000] | D_real_loss: 0.0018 | D_fake_loss: 0.0037 | G_loss: 0.9374\n",
            "Saved results/samples_gan_gp1_lr3e-5/sample-010400.png\n"
          ],
          "name": "stdout"
        },
        {
          "output_type": "stream",
          "text": [
            "WARNING:root:Lossy conversion from float32 to uint8. Range [-0.4272715151309967, 0.47889333963394165]. Convert image to uint8 prior to saving to suppress this warning.\n"
          ],
          "name": "stderr"
        },
        {
          "output_type": "stream",
          "text": [
            "Iteration [10600/20000] | D_real_loss: 0.0016 | D_fake_loss: 0.0024 | G_loss: 1.0837\n",
            "Saved results/samples_gan_gp1_lr3e-5/sample-010600.png\n"
          ],
          "name": "stdout"
        },
        {
          "output_type": "stream",
          "text": [
            "WARNING:root:Lossy conversion from float32 to uint8. Range [-0.395214319229126, 0.5089881420135498]. Convert image to uint8 prior to saving to suppress this warning.\n"
          ],
          "name": "stderr"
        },
        {
          "output_type": "stream",
          "text": [
            "Iteration [10800/20000] | D_real_loss: 0.0013 | D_fake_loss: 0.0021 | G_loss: 0.9409\n",
            "Saved results/samples_gan_gp1_lr3e-5/sample-010800.png\n"
          ],
          "name": "stdout"
        },
        {
          "output_type": "stream",
          "text": [
            "WARNING:root:Lossy conversion from float32 to uint8. Range [-0.504839301109314, 0.48750796914100647]. Convert image to uint8 prior to saving to suppress this warning.\n"
          ],
          "name": "stderr"
        },
        {
          "output_type": "stream",
          "text": [
            "Iteration [11000/20000] | D_real_loss: 0.0009 | D_fake_loss: 0.0030 | G_loss: 1.0139\n",
            "Saved results/samples_gan_gp1_lr3e-5/sample-011000.png\n"
          ],
          "name": "stdout"
        },
        {
          "output_type": "stream",
          "text": [
            "WARNING:root:Lossy conversion from float32 to uint8. Range [-0.48994046449661255, 0.4210388660430908]. Convert image to uint8 prior to saving to suppress this warning.\n"
          ],
          "name": "stderr"
        },
        {
          "output_type": "stream",
          "text": [
            "Iteration [11200/20000] | D_real_loss: 0.0013 | D_fake_loss: 0.0014 | G_loss: 0.9553\n",
            "Saved results/samples_gan_gp1_lr3e-5/sample-011200.png\n"
          ],
          "name": "stdout"
        },
        {
          "output_type": "stream",
          "text": [
            "WARNING:root:Lossy conversion from float32 to uint8. Range [-0.437219500541687, 0.5196419358253479]. Convert image to uint8 prior to saving to suppress this warning.\n"
          ],
          "name": "stderr"
        },
        {
          "output_type": "stream",
          "text": [
            "Iteration [11400/20000] | D_real_loss: 0.0008 | D_fake_loss: 0.0048 | G_loss: 1.0464\n",
            "Saved results/samples_gan_gp1_lr3e-5/sample-011400.png\n"
          ],
          "name": "stdout"
        },
        {
          "output_type": "stream",
          "text": [
            "WARNING:root:Lossy conversion from float32 to uint8. Range [-0.47868531942367554, 0.4616738259792328]. Convert image to uint8 prior to saving to suppress this warning.\n"
          ],
          "name": "stderr"
        },
        {
          "output_type": "stream",
          "text": [
            "Iteration [11600/20000] | D_real_loss: 0.0021 | D_fake_loss: 0.0019 | G_loss: 1.0990\n",
            "Saved results/samples_gan_gp1_lr3e-5/sample-011600.png\n"
          ],
          "name": "stdout"
        },
        {
          "output_type": "stream",
          "text": [
            "WARNING:root:Lossy conversion from float32 to uint8. Range [-0.5015783905982971, 0.4907257556915283]. Convert image to uint8 prior to saving to suppress this warning.\n"
          ],
          "name": "stderr"
        },
        {
          "output_type": "stream",
          "text": [
            "Iteration [11800/20000] | D_real_loss: 0.0035 | D_fake_loss: 0.0027 | G_loss: 0.9648\n",
            "Saved results/samples_gan_gp1_lr3e-5/sample-011800.png\n"
          ],
          "name": "stdout"
        },
        {
          "output_type": "stream",
          "text": [
            "WARNING:root:Lossy conversion from float32 to uint8. Range [-0.45070746541023254, 0.5720019340515137]. Convert image to uint8 prior to saving to suppress this warning.\n"
          ],
          "name": "stderr"
        },
        {
          "output_type": "stream",
          "text": [
            "Iteration [12000/20000] | D_real_loss: 0.0020 | D_fake_loss: 0.0024 | G_loss: 0.9809\n",
            "Saved results/samples_gan_gp1_lr3e-5/sample-012000.png\n"
          ],
          "name": "stdout"
        },
        {
          "output_type": "stream",
          "text": [
            "WARNING:root:Lossy conversion from float32 to uint8. Range [-0.4428879916667938, 0.5476589202880859]. Convert image to uint8 prior to saving to suppress this warning.\n"
          ],
          "name": "stderr"
        },
        {
          "output_type": "stream",
          "text": [
            "Iteration [12200/20000] | D_real_loss: 0.0063 | D_fake_loss: 0.0022 | G_loss: 0.8634\n",
            "Saved results/samples_gan_gp1_lr3e-5/sample-012200.png\n"
          ],
          "name": "stdout"
        },
        {
          "output_type": "stream",
          "text": [
            "WARNING:root:Lossy conversion from float32 to uint8. Range [-0.4512680768966675, 0.5113173127174377]. Convert image to uint8 prior to saving to suppress this warning.\n"
          ],
          "name": "stderr"
        },
        {
          "output_type": "stream",
          "text": [
            "Iteration [12400/20000] | D_real_loss: 0.0007 | D_fake_loss: 0.0010 | G_loss: 0.9419\n",
            "Saved results/samples_gan_gp1_lr3e-5/sample-012400.png\n"
          ],
          "name": "stdout"
        },
        {
          "output_type": "stream",
          "text": [
            "WARNING:root:Lossy conversion from float32 to uint8. Range [-0.4986276626586914, 0.5469032526016235]. Convert image to uint8 prior to saving to suppress this warning.\n"
          ],
          "name": "stderr"
        },
        {
          "output_type": "stream",
          "text": [
            "Iteration [12600/20000] | D_real_loss: 0.0008 | D_fake_loss: 0.0028 | G_loss: 1.0577\n",
            "Saved results/samples_gan_gp1_lr3e-5/sample-012600.png\n"
          ],
          "name": "stdout"
        },
        {
          "output_type": "stream",
          "text": [
            "WARNING:root:Lossy conversion from float32 to uint8. Range [-0.47582775354385376, 0.5421943068504333]. Convert image to uint8 prior to saving to suppress this warning.\n"
          ],
          "name": "stderr"
        },
        {
          "output_type": "stream",
          "text": [
            "Iteration [12800/20000] | D_real_loss: 0.0015 | D_fake_loss: 0.0026 | G_loss: 1.0339\n",
            "Saved results/samples_gan_gp1_lr3e-5/sample-012800.png\n"
          ],
          "name": "stdout"
        },
        {
          "output_type": "stream",
          "text": [
            "WARNING:root:Lossy conversion from float32 to uint8. Range [-0.48453032970428467, 0.4675803780555725]. Convert image to uint8 prior to saving to suppress this warning.\n"
          ],
          "name": "stderr"
        },
        {
          "output_type": "stream",
          "text": [
            "Iteration [13000/20000] | D_real_loss: 0.0040 | D_fake_loss: 0.0024 | G_loss: 0.9648\n",
            "Saved results/samples_gan_gp1_lr3e-5/sample-013000.png\n"
          ],
          "name": "stdout"
        },
        {
          "output_type": "stream",
          "text": [
            "WARNING:root:Lossy conversion from float32 to uint8. Range [-0.4640647768974304, 0.487081915140152]. Convert image to uint8 prior to saving to suppress this warning.\n"
          ],
          "name": "stderr"
        },
        {
          "output_type": "stream",
          "text": [
            "Iteration [13200/20000] | D_real_loss: 0.0025 | D_fake_loss: 0.0030 | G_loss: 1.0010\n",
            "Saved results/samples_gan_gp1_lr3e-5/sample-013200.png\n"
          ],
          "name": "stdout"
        },
        {
          "output_type": "stream",
          "text": [
            "WARNING:root:Lossy conversion from float32 to uint8. Range [-0.44034138321876526, 0.4588831067085266]. Convert image to uint8 prior to saving to suppress this warning.\n"
          ],
          "name": "stderr"
        },
        {
          "output_type": "stream",
          "text": [
            "Iteration [13400/20000] | D_real_loss: 0.0011 | D_fake_loss: 0.0017 | G_loss: 0.9364\n",
            "Saved results/samples_gan_gp1_lr3e-5/sample-013400.png\n"
          ],
          "name": "stdout"
        },
        {
          "output_type": "stream",
          "text": [
            "WARNING:root:Lossy conversion from float32 to uint8. Range [-0.48249387741088867, 0.5018799901008606]. Convert image to uint8 prior to saving to suppress this warning.\n"
          ],
          "name": "stderr"
        },
        {
          "output_type": "stream",
          "text": [
            "Iteration [13600/20000] | D_real_loss: 0.0009 | D_fake_loss: 0.0019 | G_loss: 1.0165\n",
            "Saved results/samples_gan_gp1_lr3e-5/sample-013600.png\n"
          ],
          "name": "stdout"
        },
        {
          "output_type": "stream",
          "text": [
            "WARNING:root:Lossy conversion from float32 to uint8. Range [-0.44823741912841797, 0.4367642402648926]. Convert image to uint8 prior to saving to suppress this warning.\n"
          ],
          "name": "stderr"
        },
        {
          "output_type": "stream",
          "text": [
            "Iteration [13800/20000] | D_real_loss: 0.0007 | D_fake_loss: 0.0015 | G_loss: 0.9817\n",
            "Saved results/samples_gan_gp1_lr3e-5/sample-013800.png\n"
          ],
          "name": "stdout"
        },
        {
          "output_type": "stream",
          "text": [
            "WARNING:root:Lossy conversion from float32 to uint8. Range [-0.410496324300766, 0.4582737684249878]. Convert image to uint8 prior to saving to suppress this warning.\n"
          ],
          "name": "stderr"
        },
        {
          "output_type": "stream",
          "text": [
            "Iteration [14000/20000] | D_real_loss: 0.0019 | D_fake_loss: 0.0039 | G_loss: 1.1145\n",
            "Saved results/samples_gan_gp1_lr3e-5/sample-014000.png\n"
          ],
          "name": "stdout"
        },
        {
          "output_type": "stream",
          "text": [
            "WARNING:root:Lossy conversion from float32 to uint8. Range [-0.3881043493747711, 0.519135594367981]. Convert image to uint8 prior to saving to suppress this warning.\n"
          ],
          "name": "stderr"
        },
        {
          "output_type": "stream",
          "text": [
            "Iteration [14200/20000] | D_real_loss: 0.0019 | D_fake_loss: 0.0017 | G_loss: 0.9655\n",
            "Saved results/samples_gan_gp1_lr3e-5/sample-014200.png\n"
          ],
          "name": "stdout"
        },
        {
          "output_type": "stream",
          "text": [
            "WARNING:root:Lossy conversion from float32 to uint8. Range [-0.45772305130958557, 0.5444918870925903]. Convert image to uint8 prior to saving to suppress this warning.\n"
          ],
          "name": "stderr"
        },
        {
          "output_type": "stream",
          "text": [
            "Iteration [14400/20000] | D_real_loss: 0.0011 | D_fake_loss: 0.0014 | G_loss: 1.0935\n",
            "Saved results/samples_gan_gp1_lr3e-5/sample-014400.png\n"
          ],
          "name": "stdout"
        },
        {
          "output_type": "stream",
          "text": [
            "WARNING:root:Lossy conversion from float32 to uint8. Range [-0.4658409357070923, 0.45470207929611206]. Convert image to uint8 prior to saving to suppress this warning.\n"
          ],
          "name": "stderr"
        },
        {
          "output_type": "stream",
          "text": [
            "Iteration [14600/20000] | D_real_loss: 0.0008 | D_fake_loss: 0.0027 | G_loss: 1.0093\n",
            "Saved results/samples_gan_gp1_lr3e-5/sample-014600.png\n"
          ],
          "name": "stdout"
        },
        {
          "output_type": "stream",
          "text": [
            "WARNING:root:Lossy conversion from float32 to uint8. Range [-0.4162897765636444, 0.48244374990463257]. Convert image to uint8 prior to saving to suppress this warning.\n"
          ],
          "name": "stderr"
        },
        {
          "output_type": "stream",
          "text": [
            "Iteration [14800/20000] | D_real_loss: 0.0030 | D_fake_loss: 0.0021 | G_loss: 0.9657\n",
            "Saved results/samples_gan_gp1_lr3e-5/sample-014800.png\n"
          ],
          "name": "stdout"
        },
        {
          "output_type": "stream",
          "text": [
            "WARNING:root:Lossy conversion from float32 to uint8. Range [-0.4259887933731079, 0.5498846769332886]. Convert image to uint8 prior to saving to suppress this warning.\n"
          ],
          "name": "stderr"
        },
        {
          "output_type": "stream",
          "text": [
            "Iteration [15000/20000] | D_real_loss: 0.0018 | D_fake_loss: 0.0021 | G_loss: 0.8814\n",
            "Saved results/samples_gan_gp1_lr3e-5/sample-015000.png\n"
          ],
          "name": "stdout"
        },
        {
          "output_type": "stream",
          "text": [
            "WARNING:root:Lossy conversion from float32 to uint8. Range [-0.4605429768562317, 0.4611031115055084]. Convert image to uint8 prior to saving to suppress this warning.\n"
          ],
          "name": "stderr"
        },
        {
          "output_type": "stream",
          "text": [
            "Iteration [15200/20000] | D_real_loss: 0.0010 | D_fake_loss: 0.0015 | G_loss: 1.0020\n",
            "Saved results/samples_gan_gp1_lr3e-5/sample-015200.png\n"
          ],
          "name": "stdout"
        },
        {
          "output_type": "stream",
          "text": [
            "WARNING:root:Lossy conversion from float32 to uint8. Range [-0.4579218924045563, 0.5736036896705627]. Convert image to uint8 prior to saving to suppress this warning.\n"
          ],
          "name": "stderr"
        },
        {
          "output_type": "stream",
          "text": [
            "Iteration [15400/20000] | D_real_loss: 0.0061 | D_fake_loss: 0.0043 | G_loss: 1.2067\n",
            "Saved results/samples_gan_gp1_lr3e-5/sample-015400.png\n"
          ],
          "name": "stdout"
        },
        {
          "output_type": "stream",
          "text": [
            "WARNING:root:Lossy conversion from float32 to uint8. Range [-0.3960723578929901, 0.4719036817550659]. Convert image to uint8 prior to saving to suppress this warning.\n"
          ],
          "name": "stderr"
        },
        {
          "output_type": "stream",
          "text": [
            "Iteration [15600/20000] | D_real_loss: 0.0007 | D_fake_loss: 0.0016 | G_loss: 1.0261\n",
            "Saved results/samples_gan_gp1_lr3e-5/sample-015600.png\n"
          ],
          "name": "stdout"
        },
        {
          "output_type": "stream",
          "text": [
            "WARNING:root:Lossy conversion from float32 to uint8. Range [-0.4514913558959961, 0.5267178416252136]. Convert image to uint8 prior to saving to suppress this warning.\n"
          ],
          "name": "stderr"
        },
        {
          "output_type": "stream",
          "text": [
            "Iteration [15800/20000] | D_real_loss: 0.0025 | D_fake_loss: 0.0028 | G_loss: 1.0842\n",
            "Saved results/samples_gan_gp1_lr3e-5/sample-015800.png\n"
          ],
          "name": "stdout"
        },
        {
          "output_type": "stream",
          "text": [
            "WARNING:root:Lossy conversion from float32 to uint8. Range [-0.46607914566993713, 0.41302281618118286]. Convert image to uint8 prior to saving to suppress this warning.\n"
          ],
          "name": "stderr"
        },
        {
          "output_type": "stream",
          "text": [
            "Iteration [16000/20000] | D_real_loss: 0.0039 | D_fake_loss: 0.0011 | G_loss: 0.8453\n",
            "Saved results/samples_gan_gp1_lr3e-5/sample-016000.png\n"
          ],
          "name": "stdout"
        },
        {
          "output_type": "stream",
          "text": [
            "WARNING:root:Lossy conversion from float32 to uint8. Range [-0.47329437732696533, 0.48505258560180664]. Convert image to uint8 prior to saving to suppress this warning.\n"
          ],
          "name": "stderr"
        },
        {
          "output_type": "stream",
          "text": [
            "Iteration [16200/20000] | D_real_loss: 0.0007 | D_fake_loss: 0.0016 | G_loss: 0.9209\n",
            "Saved results/samples_gan_gp1_lr3e-5/sample-016200.png\n"
          ],
          "name": "stdout"
        },
        {
          "output_type": "stream",
          "text": [
            "WARNING:root:Lossy conversion from float32 to uint8. Range [-0.4528895318508148, 0.4711171090602875]. Convert image to uint8 prior to saving to suppress this warning.\n"
          ],
          "name": "stderr"
        },
        {
          "output_type": "stream",
          "text": [
            "Iteration [16400/20000] | D_real_loss: 0.0013 | D_fake_loss: 0.0023 | G_loss: 0.8334\n",
            "Saved results/samples_gan_gp1_lr3e-5/sample-016400.png\n"
          ],
          "name": "stdout"
        },
        {
          "output_type": "stream",
          "text": [
            "WARNING:root:Lossy conversion from float32 to uint8. Range [-0.48226451873779297, 0.4954387843608856]. Convert image to uint8 prior to saving to suppress this warning.\n"
          ],
          "name": "stderr"
        },
        {
          "output_type": "stream",
          "text": [
            "Iteration [16600/20000] | D_real_loss: 0.0020 | D_fake_loss: 0.0032 | G_loss: 1.2106\n",
            "Saved results/samples_gan_gp1_lr3e-5/sample-016600.png\n"
          ],
          "name": "stdout"
        },
        {
          "output_type": "stream",
          "text": [
            "WARNING:root:Lossy conversion from float32 to uint8. Range [-0.42259395122528076, 0.4881857633590698]. Convert image to uint8 prior to saving to suppress this warning.\n"
          ],
          "name": "stderr"
        },
        {
          "output_type": "stream",
          "text": [
            "Iteration [16800/20000] | D_real_loss: 0.0059 | D_fake_loss: 0.0054 | G_loss: 0.8972\n",
            "Saved results/samples_gan_gp1_lr3e-5/sample-016800.png\n"
          ],
          "name": "stdout"
        },
        {
          "output_type": "stream",
          "text": [
            "WARNING:root:Lossy conversion from float32 to uint8. Range [-0.4184398949146271, 0.46611422300338745]. Convert image to uint8 prior to saving to suppress this warning.\n"
          ],
          "name": "stderr"
        },
        {
          "output_type": "stream",
          "text": [
            "Iteration [17000/20000] | D_real_loss: 0.0024 | D_fake_loss: 0.0021 | G_loss: 0.8831\n",
            "Saved results/samples_gan_gp1_lr3e-5/sample-017000.png\n"
          ],
          "name": "stdout"
        },
        {
          "output_type": "stream",
          "text": [
            "WARNING:root:Lossy conversion from float32 to uint8. Range [-0.4457034170627594, 0.48221293091773987]. Convert image to uint8 prior to saving to suppress this warning.\n"
          ],
          "name": "stderr"
        },
        {
          "output_type": "stream",
          "text": [
            "Iteration [17200/20000] | D_real_loss: 0.0049 | D_fake_loss: 0.0025 | G_loss: 0.7930\n",
            "Saved results/samples_gan_gp1_lr3e-5/sample-017200.png\n"
          ],
          "name": "stdout"
        },
        {
          "output_type": "stream",
          "text": [
            "WARNING:root:Lossy conversion from float32 to uint8. Range [-0.4405359625816345, 0.5197601914405823]. Convert image to uint8 prior to saving to suppress this warning.\n"
          ],
          "name": "stderr"
        },
        {
          "output_type": "stream",
          "text": [
            "Iteration [17400/20000] | D_real_loss: 0.0010 | D_fake_loss: 0.0014 | G_loss: 1.0290\n",
            "Saved results/samples_gan_gp1_lr3e-5/sample-017400.png\n"
          ],
          "name": "stdout"
        },
        {
          "output_type": "stream",
          "text": [
            "WARNING:root:Lossy conversion from float32 to uint8. Range [-0.42937523126602173, 0.5885389447212219]. Convert image to uint8 prior to saving to suppress this warning.\n"
          ],
          "name": "stderr"
        },
        {
          "output_type": "stream",
          "text": [
            "Iteration [17600/20000] | D_real_loss: 0.0007 | D_fake_loss: 0.0022 | G_loss: 1.0507\n",
            "Saved results/samples_gan_gp1_lr3e-5/sample-017600.png\n"
          ],
          "name": "stdout"
        },
        {
          "output_type": "stream",
          "text": [
            "WARNING:root:Lossy conversion from float32 to uint8. Range [-0.45270365476608276, 0.4483143389225006]. Convert image to uint8 prior to saving to suppress this warning.\n"
          ],
          "name": "stderr"
        },
        {
          "output_type": "stream",
          "text": [
            "Iteration [17800/20000] | D_real_loss: 0.0012 | D_fake_loss: 0.0030 | G_loss: 0.9905\n",
            "Saved results/samples_gan_gp1_lr3e-5/sample-017800.png\n"
          ],
          "name": "stdout"
        },
        {
          "output_type": "stream",
          "text": [
            "WARNING:root:Lossy conversion from float32 to uint8. Range [-0.41063451766967773, 0.5235053300857544]. Convert image to uint8 prior to saving to suppress this warning.\n"
          ],
          "name": "stderr"
        },
        {
          "output_type": "stream",
          "text": [
            "Iteration [18000/20000] | D_real_loss: 0.0010 | D_fake_loss: 0.0023 | G_loss: 1.0575\n",
            "Saved results/samples_gan_gp1_lr3e-5/sample-018000.png\n"
          ],
          "name": "stdout"
        },
        {
          "output_type": "stream",
          "text": [
            "WARNING:root:Lossy conversion from float32 to uint8. Range [-0.4130188226699829, 0.4919138550758362]. Convert image to uint8 prior to saving to suppress this warning.\n"
          ],
          "name": "stderr"
        },
        {
          "output_type": "stream",
          "text": [
            "Iteration [18200/20000] | D_real_loss: 0.0005 | D_fake_loss: 0.0019 | G_loss: 0.8693\n",
            "Saved results/samples_gan_gp1_lr3e-5/sample-018200.png\n"
          ],
          "name": "stdout"
        },
        {
          "output_type": "stream",
          "text": [
            "WARNING:root:Lossy conversion from float32 to uint8. Range [-0.3977232277393341, 0.515651285648346]. Convert image to uint8 prior to saving to suppress this warning.\n"
          ],
          "name": "stderr"
        },
        {
          "output_type": "stream",
          "text": [
            "Iteration [18400/20000] | D_real_loss: 0.0016 | D_fake_loss: 0.0033 | G_loss: 0.9715\n",
            "Saved results/samples_gan_gp1_lr3e-5/sample-018400.png\n"
          ],
          "name": "stdout"
        },
        {
          "output_type": "stream",
          "text": [
            "WARNING:root:Lossy conversion from float32 to uint8. Range [-0.4294063448905945, 0.5710701942443848]. Convert image to uint8 prior to saving to suppress this warning.\n"
          ],
          "name": "stderr"
        },
        {
          "output_type": "stream",
          "text": [
            "Iteration [18600/20000] | D_real_loss: 0.0009 | D_fake_loss: 0.0018 | G_loss: 0.9926\n",
            "Saved results/samples_gan_gp1_lr3e-5/sample-018600.png\n"
          ],
          "name": "stdout"
        },
        {
          "output_type": "stream",
          "text": [
            "WARNING:root:Lossy conversion from float32 to uint8. Range [-0.4195803999900818, 0.4905429482460022]. Convert image to uint8 prior to saving to suppress this warning.\n"
          ],
          "name": "stderr"
        },
        {
          "output_type": "stream",
          "text": [
            "Iteration [18800/20000] | D_real_loss: 0.0015 | D_fake_loss: 0.0023 | G_loss: 1.0997\n",
            "Saved results/samples_gan_gp1_lr3e-5/sample-018800.png\n"
          ],
          "name": "stdout"
        },
        {
          "output_type": "stream",
          "text": [
            "WARNING:root:Lossy conversion from float32 to uint8. Range [-0.4345519542694092, 0.6447573900222778]. Convert image to uint8 prior to saving to suppress this warning.\n"
          ],
          "name": "stderr"
        },
        {
          "output_type": "stream",
          "text": [
            "Iteration [19000/20000] | D_real_loss: 0.0011 | D_fake_loss: 0.0024 | G_loss: 1.1289\n",
            "Saved results/samples_gan_gp1_lr3e-5/sample-019000.png\n"
          ],
          "name": "stdout"
        },
        {
          "output_type": "stream",
          "text": [
            "WARNING:root:Lossy conversion from float32 to uint8. Range [-0.4886951744556427, 0.5799117684364319]. Convert image to uint8 prior to saving to suppress this warning.\n"
          ],
          "name": "stderr"
        },
        {
          "output_type": "stream",
          "text": [
            "Iteration [19200/20000] | D_real_loss: 0.0012 | D_fake_loss: 0.0020 | G_loss: 0.8682\n",
            "Saved results/samples_gan_gp1_lr3e-5/sample-019200.png\n"
          ],
          "name": "stdout"
        },
        {
          "output_type": "stream",
          "text": [
            "WARNING:root:Lossy conversion from float32 to uint8. Range [-0.43358057737350464, 0.4318431615829468]. Convert image to uint8 prior to saving to suppress this warning.\n"
          ],
          "name": "stderr"
        },
        {
          "output_type": "stream",
          "text": [
            "Iteration [19400/20000] | D_real_loss: 0.0004 | D_fake_loss: 0.0016 | G_loss: 1.0207\n",
            "Saved results/samples_gan_gp1_lr3e-5/sample-019400.png\n"
          ],
          "name": "stdout"
        },
        {
          "output_type": "stream",
          "text": [
            "WARNING:root:Lossy conversion from float32 to uint8. Range [-0.46619290113449097, 0.5020326972007751]. Convert image to uint8 prior to saving to suppress this warning.\n"
          ],
          "name": "stderr"
        },
        {
          "output_type": "stream",
          "text": [
            "Iteration [19600/20000] | D_real_loss: 0.0011 | D_fake_loss: 0.0019 | G_loss: 0.8945\n",
            "Saved results/samples_gan_gp1_lr3e-5/sample-019600.png\n"
          ],
          "name": "stdout"
        },
        {
          "output_type": "stream",
          "text": [
            "WARNING:root:Lossy conversion from float32 to uint8. Range [-0.4496515095233917, 0.501082181930542]. Convert image to uint8 prior to saving to suppress this warning.\n"
          ],
          "name": "stderr"
        },
        {
          "output_type": "stream",
          "text": [
            "Iteration [19800/20000] | D_real_loss: 0.0018 | D_fake_loss: 0.0014 | G_loss: 0.9716\n",
            "Saved results/samples_gan_gp1_lr3e-5/sample-019800.png\n"
          ],
          "name": "stdout"
        },
        {
          "output_type": "stream",
          "text": [
            "WARNING:root:Lossy conversion from float32 to uint8. Range [-0.44722023606300354, 0.6046962738037109]. Convert image to uint8 prior to saving to suppress this warning.\n"
          ],
          "name": "stderr"
        },
        {
          "output_type": "stream",
          "text": [
            "Iteration [20000/20000] | D_real_loss: 0.0010 | D_fake_loss: 0.0013 | G_loss: 0.9440\n",
            "Saved results/samples_gan_gp1_lr3e-5/sample-020000.png\n",
            "adding image results/samples_gan_gp1_lr3e-5/losses.png\n",
            "adding image results/samples_gan_gp1_lr3e-5/sample-000200.png\n",
            "adding image results/samples_gan_gp1_lr3e-5/sample-000400.png\n",
            "adding image results/samples_gan_gp1_lr3e-5/sample-000600.png\n",
            "adding image results/samples_gan_gp1_lr3e-5/sample-000800.png\n",
            "adding image results/samples_gan_gp1_lr3e-5/sample-001000.png\n",
            "adding image results/samples_gan_gp1_lr3e-5/sample-001200.png\n",
            "adding image results/samples_gan_gp1_lr3e-5/sample-001400.png\n",
            "adding image results/samples_gan_gp1_lr3e-5/sample-001600.png\n",
            "adding image results/samples_gan_gp1_lr3e-5/sample-001800.png\n",
            "adding image results/samples_gan_gp1_lr3e-5/sample-002000.png\n",
            "adding image results/samples_gan_gp1_lr3e-5/sample-002200.png\n",
            "adding image results/samples_gan_gp1_lr3e-5/sample-002400.png\n",
            "adding image results/samples_gan_gp1_lr3e-5/sample-002600.png\n",
            "adding image results/samples_gan_gp1_lr3e-5/sample-002800.png\n",
            "adding image results/samples_gan_gp1_lr3e-5/sample-003000.png\n",
            "adding image results/samples_gan_gp1_lr3e-5/sample-003200.png\n",
            "adding image results/samples_gan_gp1_lr3e-5/sample-003400.png\n",
            "adding image results/samples_gan_gp1_lr3e-5/sample-003600.png\n",
            "adding image results/samples_gan_gp1_lr3e-5/sample-003800.png\n",
            "adding image results/samples_gan_gp1_lr3e-5/sample-004000.png\n",
            "adding image results/samples_gan_gp1_lr3e-5/sample-004200.png\n",
            "adding image results/samples_gan_gp1_lr3e-5/sample-004400.png\n",
            "adding image results/samples_gan_gp1_lr3e-5/sample-004600.png\n",
            "adding image results/samples_gan_gp1_lr3e-5/sample-004800.png\n",
            "adding image results/samples_gan_gp1_lr3e-5/sample-005000.png\n",
            "adding image results/samples_gan_gp1_lr3e-5/sample-005200.png\n",
            "adding image results/samples_gan_gp1_lr3e-5/sample-005400.png\n",
            "adding image results/samples_gan_gp1_lr3e-5/sample-005600.png\n",
            "adding image results/samples_gan_gp1_lr3e-5/sample-005800.png\n",
            "adding image results/samples_gan_gp1_lr3e-5/sample-006000.png\n",
            "adding image results/samples_gan_gp1_lr3e-5/sample-006200.png\n",
            "adding image results/samples_gan_gp1_lr3e-5/sample-006400.png\n",
            "adding image results/samples_gan_gp1_lr3e-5/sample-006600.png\n",
            "adding image results/samples_gan_gp1_lr3e-5/sample-006800.png\n",
            "adding image results/samples_gan_gp1_lr3e-5/sample-007000.png\n",
            "adding image results/samples_gan_gp1_lr3e-5/sample-007200.png\n",
            "adding image results/samples_gan_gp1_lr3e-5/sample-007400.png\n",
            "adding image results/samples_gan_gp1_lr3e-5/sample-007600.png\n",
            "adding image results/samples_gan_gp1_lr3e-5/sample-007800.png\n",
            "adding image results/samples_gan_gp1_lr3e-5/sample-008000.png\n",
            "adding image results/samples_gan_gp1_lr3e-5/sample-008200.png\n",
            "adding image results/samples_gan_gp1_lr3e-5/sample-008400.png\n",
            "adding image results/samples_gan_gp1_lr3e-5/sample-008600.png\n",
            "adding image results/samples_gan_gp1_lr3e-5/sample-008800.png\n",
            "adding image results/samples_gan_gp1_lr3e-5/sample-009000.png\n",
            "adding image results/samples_gan_gp1_lr3e-5/sample-009200.png\n",
            "adding image results/samples_gan_gp1_lr3e-5/sample-009400.png\n",
            "adding image results/samples_gan_gp1_lr3e-5/sample-009600.png\n",
            "adding image results/samples_gan_gp1_lr3e-5/sample-009800.png\n",
            "adding image results/samples_gan_gp1_lr3e-5/sample-010000.png\n",
            "adding image results/samples_gan_gp1_lr3e-5/sample-010200.png\n",
            "adding image results/samples_gan_gp1_lr3e-5/sample-010400.png\n",
            "adding image results/samples_gan_gp1_lr3e-5/sample-010600.png\n",
            "adding image results/samples_gan_gp1_lr3e-5/sample-010800.png\n",
            "adding image results/samples_gan_gp1_lr3e-5/sample-011000.png\n",
            "adding image results/samples_gan_gp1_lr3e-5/sample-011200.png\n",
            "adding image results/samples_gan_gp1_lr3e-5/sample-011400.png\n",
            "adding image results/samples_gan_gp1_lr3e-5/sample-011600.png\n",
            "adding image results/samples_gan_gp1_lr3e-5/sample-011800.png\n",
            "adding image results/samples_gan_gp1_lr3e-5/sample-012000.png\n",
            "adding image results/samples_gan_gp1_lr3e-5/sample-012200.png\n",
            "adding image results/samples_gan_gp1_lr3e-5/sample-012400.png\n",
            "adding image results/samples_gan_gp1_lr3e-5/sample-012600.png\n",
            "adding image results/samples_gan_gp1_lr3e-5/sample-012800.png\n",
            "adding image results/samples_gan_gp1_lr3e-5/sample-013000.png\n",
            "adding image results/samples_gan_gp1_lr3e-5/sample-013200.png\n",
            "adding image results/samples_gan_gp1_lr3e-5/sample-013400.png\n",
            "adding image results/samples_gan_gp1_lr3e-5/sample-013600.png\n",
            "adding image results/samples_gan_gp1_lr3e-5/sample-013800.png\n",
            "adding image results/samples_gan_gp1_lr3e-5/sample-014000.png\n",
            "adding image results/samples_gan_gp1_lr3e-5/sample-014200.png\n",
            "adding image results/samples_gan_gp1_lr3e-5/sample-014400.png\n",
            "adding image results/samples_gan_gp1_lr3e-5/sample-014600.png\n",
            "adding image results/samples_gan_gp1_lr3e-5/sample-014800.png\n",
            "adding image results/samples_gan_gp1_lr3e-5/sample-015000.png\n",
            "adding image results/samples_gan_gp1_lr3e-5/sample-015200.png\n",
            "adding image results/samples_gan_gp1_lr3e-5/sample-015400.png\n",
            "adding image results/samples_gan_gp1_lr3e-5/sample-015600.png\n",
            "adding image results/samples_gan_gp1_lr3e-5/sample-015800.png\n",
            "adding image results/samples_gan_gp1_lr3e-5/sample-016000.png\n",
            "adding image results/samples_gan_gp1_lr3e-5/sample-016200.png\n",
            "adding image results/samples_gan_gp1_lr3e-5/sample-016400.png\n",
            "adding image results/samples_gan_gp1_lr3e-5/sample-016600.png\n",
            "adding image results/samples_gan_gp1_lr3e-5/sample-016800.png\n",
            "adding image results/samples_gan_gp1_lr3e-5/sample-017000.png\n",
            "adding image results/samples_gan_gp1_lr3e-5/sample-017200.png\n",
            "adding image results/samples_gan_gp1_lr3e-5/sample-017400.png\n",
            "adding image results/samples_gan_gp1_lr3e-5/sample-017600.png\n",
            "adding image results/samples_gan_gp1_lr3e-5/sample-017800.png\n",
            "adding image results/samples_gan_gp1_lr3e-5/sample-018000.png\n",
            "adding image results/samples_gan_gp1_lr3e-5/sample-018200.png\n",
            "adding image results/samples_gan_gp1_lr3e-5/sample-018400.png\n",
            "adding image results/samples_gan_gp1_lr3e-5/sample-018600.png\n",
            "adding image results/samples_gan_gp1_lr3e-5/sample-018800.png\n",
            "adding image results/samples_gan_gp1_lr3e-5/sample-019000.png\n",
            "adding image results/samples_gan_gp1_lr3e-5/sample-019200.png\n",
            "adding image results/samples_gan_gp1_lr3e-5/sample-019400.png\n",
            "adding image results/samples_gan_gp1_lr3e-5/sample-019600.png\n",
            "adding image results/samples_gan_gp1_lr3e-5/sample-019800.png\n",
            "adding image results/samples_gan_gp1_lr3e-5/sample-020000.png\n"
          ],
          "name": "stdout"
        }
      ]
    },
    {
      "cell_type": "code",
      "metadata": {
        "id": "9kv3lpgUhn_u",
        "colab": {
          "base_uri": "https://localhost:8080/"
        },
        "outputId": "ac79cd93-472c-4167-84f9-cea202632ddd"
      },
      "source": [
        "# with gradient penality\n",
        "SEED = 11\n",
        "\n",
        "# Set the random seed manually for reproducibility.\n",
        "np.random.seed(SEED)\n",
        "torch.manual_seed(SEED)\n",
        "if torch.cuda.is_available():\n",
        "    torch.cuda.manual_seed(SEED)\n",
        "\n",
        "\n",
        "args = AttrDict()\n",
        "args_dict = {\n",
        "              'image_size':32, \n",
        "              'g_conv_dim':32, \n",
        "              'd_conv_dim':64,\n",
        "              'noise_size':100,\n",
        "              'num_workers': 0,\n",
        "              'train_iters':20000,\n",
        "              'X':'Windows',  # options: 'Windows' / 'Apple'\n",
        "              'Y': None,\n",
        "              'lr':0.00003,\n",
        "              'beta1':0.5,\n",
        "              'beta2':0.999,\n",
        "              'batch_size':32, \n",
        "              'checkpoint_dir': 'results/checkpoints_gan_gp1_lr3e-5',\n",
        "              'sample_dir': 'results/samples_gan_gp1_lr3e-5-gp',\n",
        "              'load': None,\n",
        "              'log_step':200,\n",
        "              'sample_every':200,\n",
        "              'checkpoint_every':1000,\n",
        "              'spectral_norm': False,\n",
        "              'gradient_penalty': True,\n",
        "              'd_train_iters': 1\n",
        "}\n",
        "args.update(args_dict)\n",
        "\n",
        "print_opts(args)\n",
        "G, D = train(args)\n",
        "\n",
        "generate_gif(\"results/samples_gan_gp1_lr3e-5-gp\")"
      ],
      "execution_count": 60,
      "outputs": [
        {
          "output_type": "stream",
          "text": [
            "================================================================================\n",
            "                                      Opts                                      \n",
            "--------------------------------------------------------------------------------\n",
            "                             image_size: 32                                     \n",
            "                             g_conv_dim: 32                                     \n",
            "                             d_conv_dim: 64                                     \n",
            "                             noise_size: 100                                    \n",
            "                            train_iters: 20000                                  \n",
            "                                      X: Windows                                \n",
            "                                     lr: 3e-05                                  \n",
            "                                  beta1: 0.5                                    \n",
            "                                  beta2: 0.999                                  \n",
            "                             batch_size: 32                                     \n",
            "                       checkpoint_dir: results/checkpoints_gan_gp1_lr3e-5       \n",
            "                           sample_dir: results/samples_gan_gp1_lr3e-5-gp        \n",
            "                               log_step: 200                                    \n",
            "                           sample_every: 200                                    \n",
            "                       checkpoint_every: 1000                                   \n",
            "                       gradient_penalty: 1                                      \n",
            "                          d_train_iters: 1                                      \n",
            "================================================================================\n",
            "                 G                     \n",
            "---------------------------------------\n",
            "DCGenerator(\n",
            "  (linear_bn): Sequential(\n",
            "    (0): Upsample(scale_factor=4.0, mode=nearest)\n",
            "    (1): Conv2d(100, 128, kernel_size=(5, 5), stride=(1, 1), padding=(2, 2), bias=False)\n",
            "    (2): BatchNorm2d(128, eps=1e-05, momentum=0.1, affine=True, track_running_stats=True)\n",
            "  )\n",
            "  (upconv1): Sequential(\n",
            "    (0): Upsample(scale_factor=2.0, mode=nearest)\n",
            "    (1): Conv2d(128, 64, kernel_size=(5, 5), stride=(1, 1), padding=(2, 2), bias=False)\n",
            "    (2): BatchNorm2d(64, eps=1e-05, momentum=0.1, affine=True, track_running_stats=True)\n",
            "  )\n",
            "  (upconv2): Sequential(\n",
            "    (0): Upsample(scale_factor=2.0, mode=nearest)\n",
            "    (1): Conv2d(64, 32, kernel_size=(5, 5), stride=(1, 1), padding=(2, 2), bias=False)\n",
            "    (2): BatchNorm2d(32, eps=1e-05, momentum=0.1, affine=True, track_running_stats=True)\n",
            "  )\n",
            "  (upconv3): Sequential(\n",
            "    (0): Upsample(scale_factor=2.0, mode=nearest)\n",
            "    (1): Conv2d(32, 3, kernel_size=(5, 5), stride=(1, 1), padding=(2, 2), bias=False)\n",
            "  )\n",
            ")\n",
            "---------------------------------------\n",
            "                  D                    \n",
            "---------------------------------------\n",
            "DCDiscriminator(\n",
            "  (conv1): Sequential(\n",
            "    (0): Conv2d(3, 64, kernel_size=(5, 5), stride=(2, 2), padding=(2, 2), bias=False)\n",
            "    (1): BatchNorm2d(64, eps=1e-05, momentum=0.1, affine=True, track_running_stats=True)\n",
            "  )\n",
            "  (conv2): Sequential(\n",
            "    (0): Conv2d(64, 128, kernel_size=(5, 5), stride=(2, 2), padding=(2, 2), bias=False)\n",
            "    (1): BatchNorm2d(128, eps=1e-05, momentum=0.1, affine=True, track_running_stats=True)\n",
            "  )\n",
            "  (conv3): Sequential(\n",
            "    (0): Conv2d(128, 256, kernel_size=(5, 5), stride=(2, 2), padding=(2, 2), bias=False)\n",
            "    (1): BatchNorm2d(256, eps=1e-05, momentum=0.1, affine=True, track_running_stats=True)\n",
            "  )\n",
            "  (conv4): Sequential(\n",
            "    (0): Conv2d(256, 1, kernel_size=(5, 5), stride=(2, 2), padding=(1, 1), bias=False)\n",
            "  )\n",
            ")\n",
            "---------------------------------------\n",
            "Models moved to GPU.\n"
          ],
          "name": "stdout"
        },
        {
          "output_type": "stream",
          "text": [
            "/usr/local/lib/python3.7/dist-packages/torchvision/transforms/transforms.py:285: UserWarning: The use of the transforms.Scale transform is deprecated, please use transforms.Resize instead.\n",
            "  warnings.warn(\"The use of the transforms.Scale transform is deprecated, \" +\n",
            "/usr/local/lib/python3.7/dist-packages/PIL/Image.py:932: UserWarning: Palette images with Transparency expressed in bytes should be converted to RGBA images\n",
            "  \"Palette images with Transparency expressed in bytes should be \"\n",
            "/usr/local/lib/python3.7/dist-packages/torch/nn/functional.py:1698: UserWarning: nn.functional.tanh is deprecated. Use torch.tanh instead.\n",
            "  warnings.warn(\"nn.functional.tanh is deprecated. Use torch.tanh instead.\")\n",
            "WARNING:root:Lossy conversion from float32 to uint8. Range [-0.9173920154571533, 0.9567659497261047]. Convert image to uint8 prior to saving to suppress this warning.\n"
          ],
          "name": "stderr"
        },
        {
          "output_type": "stream",
          "text": [
            "Iteration [ 200/20000] | D_real_loss: 0.0348 | D_fake_loss: 0.0548 | G_loss: 0.6901\n",
            "Saved results/samples_gan_gp1_lr3e-5-gp/sample-000200.png\n"
          ],
          "name": "stdout"
        },
        {
          "output_type": "stream",
          "text": [
            "WARNING:root:Lossy conversion from float32 to uint8. Range [-0.8606991767883301, 0.9679915308952332]. Convert image to uint8 prior to saving to suppress this warning.\n"
          ],
          "name": "stderr"
        },
        {
          "output_type": "stream",
          "text": [
            "Iteration [ 400/20000] | D_real_loss: 0.0488 | D_fake_loss: 0.0265 | G_loss: 0.5264\n",
            "Saved results/samples_gan_gp1_lr3e-5-gp/sample-000400.png\n"
          ],
          "name": "stdout"
        },
        {
          "output_type": "stream",
          "text": [
            "WARNING:root:Lossy conversion from float32 to uint8. Range [-0.9069227576255798, 0.9628319144248962]. Convert image to uint8 prior to saving to suppress this warning.\n"
          ],
          "name": "stderr"
        },
        {
          "output_type": "stream",
          "text": [
            "Iteration [ 600/20000] | D_real_loss: 0.0078 | D_fake_loss: 0.0121 | G_loss: 0.8409\n",
            "Saved results/samples_gan_gp1_lr3e-5-gp/sample-000600.png\n"
          ],
          "name": "stdout"
        },
        {
          "output_type": "stream",
          "text": [
            "WARNING:root:Lossy conversion from float32 to uint8. Range [-0.7872471809387207, 0.9408730268478394]. Convert image to uint8 prior to saving to suppress this warning.\n"
          ],
          "name": "stderr"
        },
        {
          "output_type": "stream",
          "text": [
            "Iteration [ 800/20000] | D_real_loss: 0.0045 | D_fake_loss: 0.0430 | G_loss: 0.8826\n",
            "Saved results/samples_gan_gp1_lr3e-5-gp/sample-000800.png\n"
          ],
          "name": "stdout"
        },
        {
          "output_type": "stream",
          "text": [
            "WARNING:root:Lossy conversion from float32 to uint8. Range [-0.7088609933853149, 0.8356146216392517]. Convert image to uint8 prior to saving to suppress this warning.\n"
          ],
          "name": "stderr"
        },
        {
          "output_type": "stream",
          "text": [
            "Iteration [1000/20000] | D_real_loss: 0.0057 | D_fake_loss: 0.0125 | G_loss: 0.7720\n",
            "Saved results/samples_gan_gp1_lr3e-5-gp/sample-001000.png\n"
          ],
          "name": "stdout"
        },
        {
          "output_type": "stream",
          "text": [
            "WARNING:root:Lossy conversion from float32 to uint8. Range [-0.7255254983901978, 0.8280394077301025]. Convert image to uint8 prior to saving to suppress this warning.\n"
          ],
          "name": "stderr"
        },
        {
          "output_type": "stream",
          "text": [
            "Iteration [1200/20000] | D_real_loss: 0.0082 | D_fake_loss: 0.0051 | G_loss: 0.9100\n",
            "Saved results/samples_gan_gp1_lr3e-5-gp/sample-001200.png\n"
          ],
          "name": "stdout"
        },
        {
          "output_type": "stream",
          "text": [
            "WARNING:root:Lossy conversion from float32 to uint8. Range [-0.6695888042449951, 0.812128484249115]. Convert image to uint8 prior to saving to suppress this warning.\n"
          ],
          "name": "stderr"
        },
        {
          "output_type": "stream",
          "text": [
            "Iteration [1400/20000] | D_real_loss: 0.0200 | D_fake_loss: 0.0064 | G_loss: 0.6598\n",
            "Saved results/samples_gan_gp1_lr3e-5-gp/sample-001400.png\n"
          ],
          "name": "stdout"
        },
        {
          "output_type": "stream",
          "text": [
            "WARNING:root:Lossy conversion from float32 to uint8. Range [-0.6761403679847717, 0.7504554390907288]. Convert image to uint8 prior to saving to suppress this warning.\n"
          ],
          "name": "stderr"
        },
        {
          "output_type": "stream",
          "text": [
            "Iteration [1600/20000] | D_real_loss: 0.0278 | D_fake_loss: 0.0039 | G_loss: 0.6256\n",
            "Saved results/samples_gan_gp1_lr3e-5-gp/sample-001600.png\n"
          ],
          "name": "stdout"
        },
        {
          "output_type": "stream",
          "text": [
            "WARNING:root:Lossy conversion from float32 to uint8. Range [-0.7462037205696106, 0.750780463218689]. Convert image to uint8 prior to saving to suppress this warning.\n"
          ],
          "name": "stderr"
        },
        {
          "output_type": "stream",
          "text": [
            "Iteration [1800/20000] | D_real_loss: 0.0033 | D_fake_loss: 0.0291 | G_loss: 0.9223\n",
            "Saved results/samples_gan_gp1_lr3e-5-gp/sample-001800.png\n"
          ],
          "name": "stdout"
        },
        {
          "output_type": "stream",
          "text": [
            "WARNING:root:Lossy conversion from float32 to uint8. Range [-0.6737042665481567, 0.6558036804199219]. Convert image to uint8 prior to saving to suppress this warning.\n"
          ],
          "name": "stderr"
        },
        {
          "output_type": "stream",
          "text": [
            "Iteration [2000/20000] | D_real_loss: 0.0043 | D_fake_loss: 0.0027 | G_loss: 0.7508\n",
            "Saved results/samples_gan_gp1_lr3e-5-gp/sample-002000.png\n"
          ],
          "name": "stdout"
        },
        {
          "output_type": "stream",
          "text": [
            "WARNING:root:Lossy conversion from float32 to uint8. Range [-0.6650052070617676, 0.6813368797302246]. Convert image to uint8 prior to saving to suppress this warning.\n"
          ],
          "name": "stderr"
        },
        {
          "output_type": "stream",
          "text": [
            "Iteration [2200/20000] | D_real_loss: 0.0044 | D_fake_loss: 0.0080 | G_loss: 1.1600\n",
            "Saved results/samples_gan_gp1_lr3e-5-gp/sample-002200.png\n"
          ],
          "name": "stdout"
        },
        {
          "output_type": "stream",
          "text": [
            "WARNING:root:Lossy conversion from float32 to uint8. Range [-0.6405532360076904, 0.6299906373023987]. Convert image to uint8 prior to saving to suppress this warning.\n"
          ],
          "name": "stderr"
        },
        {
          "output_type": "stream",
          "text": [
            "Iteration [2400/20000] | D_real_loss: 0.0139 | D_fake_loss: 0.0126 | G_loss: 0.7180\n",
            "Saved results/samples_gan_gp1_lr3e-5-gp/sample-002400.png\n"
          ],
          "name": "stdout"
        },
        {
          "output_type": "stream",
          "text": [
            "WARNING:root:Lossy conversion from float32 to uint8. Range [-0.6154998540878296, 0.6409132480621338]. Convert image to uint8 prior to saving to suppress this warning.\n"
          ],
          "name": "stderr"
        },
        {
          "output_type": "stream",
          "text": [
            "Iteration [2600/20000] | D_real_loss: 0.0018 | D_fake_loss: 0.0054 | G_loss: 1.1793\n",
            "Saved results/samples_gan_gp1_lr3e-5-gp/sample-002600.png\n"
          ],
          "name": "stdout"
        },
        {
          "output_type": "stream",
          "text": [
            "WARNING:root:Lossy conversion from float32 to uint8. Range [-0.6159191131591797, 0.6306986808776855]. Convert image to uint8 prior to saving to suppress this warning.\n"
          ],
          "name": "stderr"
        },
        {
          "output_type": "stream",
          "text": [
            "Iteration [2800/20000] | D_real_loss: 0.0190 | D_fake_loss: 0.0524 | G_loss: 1.1741\n",
            "Saved results/samples_gan_gp1_lr3e-5-gp/sample-002800.png\n"
          ],
          "name": "stdout"
        },
        {
          "output_type": "stream",
          "text": [
            "WARNING:root:Lossy conversion from float32 to uint8. Range [-0.5690205097198486, 0.5920401811599731]. Convert image to uint8 prior to saving to suppress this warning.\n"
          ],
          "name": "stderr"
        },
        {
          "output_type": "stream",
          "text": [
            "Iteration [3000/20000] | D_real_loss: 0.0024 | D_fake_loss: 0.0192 | G_loss: 0.8142\n",
            "Saved results/samples_gan_gp1_lr3e-5-gp/sample-003000.png\n"
          ],
          "name": "stdout"
        },
        {
          "output_type": "stream",
          "text": [
            "WARNING:root:Lossy conversion from float32 to uint8. Range [-0.5936492085456848, 0.5681222677230835]. Convert image to uint8 prior to saving to suppress this warning.\n"
          ],
          "name": "stderr"
        },
        {
          "output_type": "stream",
          "text": [
            "Iteration [3200/20000] | D_real_loss: 0.0144 | D_fake_loss: 0.0077 | G_loss: 1.0017\n",
            "Saved results/samples_gan_gp1_lr3e-5-gp/sample-003200.png\n"
          ],
          "name": "stdout"
        },
        {
          "output_type": "stream",
          "text": [
            "WARNING:root:Lossy conversion from float32 to uint8. Range [-0.6538708209991455, 0.5463655591011047]. Convert image to uint8 prior to saving to suppress this warning.\n"
          ],
          "name": "stderr"
        },
        {
          "output_type": "stream",
          "text": [
            "Iteration [3400/20000] | D_real_loss: 0.0040 | D_fake_loss: 0.0105 | G_loss: 1.0979\n",
            "Saved results/samples_gan_gp1_lr3e-5-gp/sample-003400.png\n"
          ],
          "name": "stdout"
        },
        {
          "output_type": "stream",
          "text": [
            "WARNING:root:Lossy conversion from float32 to uint8. Range [-0.6564418077468872, 0.6254620552062988]. Convert image to uint8 prior to saving to suppress this warning.\n"
          ],
          "name": "stderr"
        },
        {
          "output_type": "stream",
          "text": [
            "Iteration [3600/20000] | D_real_loss: 0.0011 | D_fake_loss: 0.0054 | G_loss: 0.8559\n",
            "Saved results/samples_gan_gp1_lr3e-5-gp/sample-003600.png\n"
          ],
          "name": "stdout"
        },
        {
          "output_type": "stream",
          "text": [
            "WARNING:root:Lossy conversion from float32 to uint8. Range [-0.6226547956466675, 0.6019458770751953]. Convert image to uint8 prior to saving to suppress this warning.\n"
          ],
          "name": "stderr"
        },
        {
          "output_type": "stream",
          "text": [
            "Iteration [3800/20000] | D_real_loss: 0.0028 | D_fake_loss: 0.0128 | G_loss: 1.1214\n",
            "Saved results/samples_gan_gp1_lr3e-5-gp/sample-003800.png\n"
          ],
          "name": "stdout"
        },
        {
          "output_type": "stream",
          "text": [
            "WARNING:root:Lossy conversion from float32 to uint8. Range [-0.5833961963653564, 0.5628712177276611]. Convert image to uint8 prior to saving to suppress this warning.\n"
          ],
          "name": "stderr"
        },
        {
          "output_type": "stream",
          "text": [
            "Iteration [4000/20000] | D_real_loss: 0.0022 | D_fake_loss: 0.0093 | G_loss: 0.8669\n",
            "Saved results/samples_gan_gp1_lr3e-5-gp/sample-004000.png\n"
          ],
          "name": "stdout"
        },
        {
          "output_type": "stream",
          "text": [
            "WARNING:root:Lossy conversion from float32 to uint8. Range [-0.6200802326202393, 0.5840083360671997]. Convert image to uint8 prior to saving to suppress this warning.\n"
          ],
          "name": "stderr"
        },
        {
          "output_type": "stream",
          "text": [
            "Iteration [4200/20000] | D_real_loss: 0.0033 | D_fake_loss: 0.0142 | G_loss: 1.2221\n",
            "Saved results/samples_gan_gp1_lr3e-5-gp/sample-004200.png\n"
          ],
          "name": "stdout"
        },
        {
          "output_type": "stream",
          "text": [
            "WARNING:root:Lossy conversion from float32 to uint8. Range [-0.569571852684021, 0.5563284158706665]. Convert image to uint8 prior to saving to suppress this warning.\n"
          ],
          "name": "stderr"
        },
        {
          "output_type": "stream",
          "text": [
            "Iteration [4400/20000] | D_real_loss: 0.0017 | D_fake_loss: 0.0046 | G_loss: 0.8942\n",
            "Saved results/samples_gan_gp1_lr3e-5-gp/sample-004400.png\n"
          ],
          "name": "stdout"
        },
        {
          "output_type": "stream",
          "text": [
            "WARNING:root:Lossy conversion from float32 to uint8. Range [-0.6503499746322632, 0.5629293918609619]. Convert image to uint8 prior to saving to suppress this warning.\n"
          ],
          "name": "stderr"
        },
        {
          "output_type": "stream",
          "text": [
            "Iteration [4600/20000] | D_real_loss: 0.0071 | D_fake_loss: 0.0024 | G_loss: 0.9192\n",
            "Saved results/samples_gan_gp1_lr3e-5-gp/sample-004600.png\n"
          ],
          "name": "stdout"
        },
        {
          "output_type": "stream",
          "text": [
            "WARNING:root:Lossy conversion from float32 to uint8. Range [-0.545433759689331, 0.5582669973373413]. Convert image to uint8 prior to saving to suppress this warning.\n"
          ],
          "name": "stderr"
        },
        {
          "output_type": "stream",
          "text": [
            "Iteration [4800/20000] | D_real_loss: 0.0112 | D_fake_loss: 0.0013 | G_loss: 0.8345\n",
            "Saved results/samples_gan_gp1_lr3e-5-gp/sample-004800.png\n"
          ],
          "name": "stdout"
        },
        {
          "output_type": "stream",
          "text": [
            "WARNING:root:Lossy conversion from float32 to uint8. Range [-0.5506184101104736, 0.5253185033798218]. Convert image to uint8 prior to saving to suppress this warning.\n"
          ],
          "name": "stderr"
        },
        {
          "output_type": "stream",
          "text": [
            "Iteration [5000/20000] | D_real_loss: 0.0008 | D_fake_loss: 0.0017 | G_loss: 1.0335\n",
            "Saved results/samples_gan_gp1_lr3e-5-gp/sample-005000.png\n"
          ],
          "name": "stdout"
        },
        {
          "output_type": "stream",
          "text": [
            "WARNING:root:Lossy conversion from float32 to uint8. Range [-0.5989192724227905, 0.49724578857421875]. Convert image to uint8 prior to saving to suppress this warning.\n"
          ],
          "name": "stderr"
        },
        {
          "output_type": "stream",
          "text": [
            "Iteration [5200/20000] | D_real_loss: 0.0015 | D_fake_loss: 0.0058 | G_loss: 0.9754\n",
            "Saved results/samples_gan_gp1_lr3e-5-gp/sample-005200.png\n"
          ],
          "name": "stdout"
        },
        {
          "output_type": "stream",
          "text": [
            "WARNING:root:Lossy conversion from float32 to uint8. Range [-0.592796802520752, 0.5391555428504944]. Convert image to uint8 prior to saving to suppress this warning.\n"
          ],
          "name": "stderr"
        },
        {
          "output_type": "stream",
          "text": [
            "Iteration [5400/20000] | D_real_loss: 0.0035 | D_fake_loss: 0.0015 | G_loss: 0.9457\n",
            "Saved results/samples_gan_gp1_lr3e-5-gp/sample-005400.png\n"
          ],
          "name": "stdout"
        },
        {
          "output_type": "stream",
          "text": [
            "WARNING:root:Lossy conversion from float32 to uint8. Range [-0.6079158782958984, 0.5197210311889648]. Convert image to uint8 prior to saving to suppress this warning.\n"
          ],
          "name": "stderr"
        },
        {
          "output_type": "stream",
          "text": [
            "Iteration [5600/20000] | D_real_loss: 0.0303 | D_fake_loss: 0.0028 | G_loss: 0.6856\n",
            "Saved results/samples_gan_gp1_lr3e-5-gp/sample-005600.png\n"
          ],
          "name": "stdout"
        },
        {
          "output_type": "stream",
          "text": [
            "WARNING:root:Lossy conversion from float32 to uint8. Range [-0.5578416585922241, 0.4893445074558258]. Convert image to uint8 prior to saving to suppress this warning.\n"
          ],
          "name": "stderr"
        },
        {
          "output_type": "stream",
          "text": [
            "Iteration [5800/20000] | D_real_loss: 0.0012 | D_fake_loss: 0.0067 | G_loss: 0.8624\n",
            "Saved results/samples_gan_gp1_lr3e-5-gp/sample-005800.png\n"
          ],
          "name": "stdout"
        },
        {
          "output_type": "stream",
          "text": [
            "WARNING:root:Lossy conversion from float32 to uint8. Range [-0.5383684635162354, 0.5065752267837524]. Convert image to uint8 prior to saving to suppress this warning.\n"
          ],
          "name": "stderr"
        },
        {
          "output_type": "stream",
          "text": [
            "Iteration [6000/20000] | D_real_loss: 0.0092 | D_fake_loss: 0.0021 | G_loss: 0.8423\n",
            "Saved results/samples_gan_gp1_lr3e-5-gp/sample-006000.png\n"
          ],
          "name": "stdout"
        },
        {
          "output_type": "stream",
          "text": [
            "WARNING:root:Lossy conversion from float32 to uint8. Range [-0.5781679153442383, 0.47764477133750916]. Convert image to uint8 prior to saving to suppress this warning.\n"
          ],
          "name": "stderr"
        },
        {
          "output_type": "stream",
          "text": [
            "Iteration [6200/20000] | D_real_loss: 0.0044 | D_fake_loss: 0.0025 | G_loss: 1.2390\n",
            "Saved results/samples_gan_gp1_lr3e-5-gp/sample-006200.png\n"
          ],
          "name": "stdout"
        },
        {
          "output_type": "stream",
          "text": [
            "WARNING:root:Lossy conversion from float32 to uint8. Range [-0.6987392902374268, 0.5280232429504395]. Convert image to uint8 prior to saving to suppress this warning.\n"
          ],
          "name": "stderr"
        },
        {
          "output_type": "stream",
          "text": [
            "Iteration [6400/20000] | D_real_loss: 0.0279 | D_fake_loss: 0.0018 | G_loss: 0.7890\n",
            "Saved results/samples_gan_gp1_lr3e-5-gp/sample-006400.png\n"
          ],
          "name": "stdout"
        },
        {
          "output_type": "stream",
          "text": [
            "WARNING:root:Lossy conversion from float32 to uint8. Range [-0.5846133232116699, 0.49782463908195496]. Convert image to uint8 prior to saving to suppress this warning.\n"
          ],
          "name": "stderr"
        },
        {
          "output_type": "stream",
          "text": [
            "Iteration [6600/20000] | D_real_loss: 0.0018 | D_fake_loss: 0.0087 | G_loss: 0.9751\n",
            "Saved results/samples_gan_gp1_lr3e-5-gp/sample-006600.png\n"
          ],
          "name": "stdout"
        },
        {
          "output_type": "stream",
          "text": [
            "WARNING:root:Lossy conversion from float32 to uint8. Range [-0.6381602883338928, 0.5589054822921753]. Convert image to uint8 prior to saving to suppress this warning.\n"
          ],
          "name": "stderr"
        },
        {
          "output_type": "stream",
          "text": [
            "Iteration [6800/20000] | D_real_loss: 0.0035 | D_fake_loss: 0.0014 | G_loss: 1.0634\n",
            "Saved results/samples_gan_gp1_lr3e-5-gp/sample-006800.png\n"
          ],
          "name": "stdout"
        },
        {
          "output_type": "stream",
          "text": [
            "WARNING:root:Lossy conversion from float32 to uint8. Range [-0.563068151473999, 0.5079058408737183]. Convert image to uint8 prior to saving to suppress this warning.\n"
          ],
          "name": "stderr"
        },
        {
          "output_type": "stream",
          "text": [
            "Iteration [7000/20000] | D_real_loss: 0.0221 | D_fake_loss: 0.0033 | G_loss: 0.6756\n",
            "Saved results/samples_gan_gp1_lr3e-5-gp/sample-007000.png\n"
          ],
          "name": "stdout"
        },
        {
          "output_type": "stream",
          "text": [
            "WARNING:root:Lossy conversion from float32 to uint8. Range [-0.5744142532348633, 0.5624762773513794]. Convert image to uint8 prior to saving to suppress this warning.\n"
          ],
          "name": "stderr"
        },
        {
          "output_type": "stream",
          "text": [
            "Iteration [7200/20000] | D_real_loss: 0.0285 | D_fake_loss: 0.0034 | G_loss: 0.9270\n",
            "Saved results/samples_gan_gp1_lr3e-5-gp/sample-007200.png\n"
          ],
          "name": "stdout"
        },
        {
          "output_type": "stream",
          "text": [
            "WARNING:root:Lossy conversion from float32 to uint8. Range [-0.4930087625980377, 0.5847450494766235]. Convert image to uint8 prior to saving to suppress this warning.\n"
          ],
          "name": "stderr"
        },
        {
          "output_type": "stream",
          "text": [
            "Iteration [7400/20000] | D_real_loss: 0.0060 | D_fake_loss: 0.0034 | G_loss: 0.9165\n",
            "Saved results/samples_gan_gp1_lr3e-5-gp/sample-007400.png\n"
          ],
          "name": "stdout"
        },
        {
          "output_type": "stream",
          "text": [
            "WARNING:root:Lossy conversion from float32 to uint8. Range [-0.4916476607322693, 0.5454192757606506]. Convert image to uint8 prior to saving to suppress this warning.\n"
          ],
          "name": "stderr"
        },
        {
          "output_type": "stream",
          "text": [
            "Iteration [7600/20000] | D_real_loss: 0.0017 | D_fake_loss: 0.0163 | G_loss: 0.8538\n",
            "Saved results/samples_gan_gp1_lr3e-5-gp/sample-007600.png\n"
          ],
          "name": "stdout"
        },
        {
          "output_type": "stream",
          "text": [
            "WARNING:root:Lossy conversion from float32 to uint8. Range [-0.5366157293319702, 0.5676634311676025]. Convert image to uint8 prior to saving to suppress this warning.\n"
          ],
          "name": "stderr"
        },
        {
          "output_type": "stream",
          "text": [
            "Iteration [7800/20000] | D_real_loss: 0.0015 | D_fake_loss: 0.0028 | G_loss: 0.8403\n",
            "Saved results/samples_gan_gp1_lr3e-5-gp/sample-007800.png\n"
          ],
          "name": "stdout"
        },
        {
          "output_type": "stream",
          "text": [
            "WARNING:root:Lossy conversion from float32 to uint8. Range [-0.5260541439056396, 0.5466590523719788]. Convert image to uint8 prior to saving to suppress this warning.\n"
          ],
          "name": "stderr"
        },
        {
          "output_type": "stream",
          "text": [
            "Iteration [8000/20000] | D_real_loss: 0.0176 | D_fake_loss: 0.0013 | G_loss: 0.8443\n",
            "Saved results/samples_gan_gp1_lr3e-5-gp/sample-008000.png\n"
          ],
          "name": "stdout"
        },
        {
          "output_type": "stream",
          "text": [
            "WARNING:root:Lossy conversion from float32 to uint8. Range [-0.5445319414138794, 0.499955415725708]. Convert image to uint8 prior to saving to suppress this warning.\n"
          ],
          "name": "stderr"
        },
        {
          "output_type": "stream",
          "text": [
            "Iteration [8200/20000] | D_real_loss: 0.0012 | D_fake_loss: 0.0025 | G_loss: 0.9325\n",
            "Saved results/samples_gan_gp1_lr3e-5-gp/sample-008200.png\n"
          ],
          "name": "stdout"
        },
        {
          "output_type": "stream",
          "text": [
            "WARNING:root:Lossy conversion from float32 to uint8. Range [-0.5556660890579224, 0.5015891194343567]. Convert image to uint8 prior to saving to suppress this warning.\n"
          ],
          "name": "stderr"
        },
        {
          "output_type": "stream",
          "text": [
            "Iteration [8400/20000] | D_real_loss: 0.0007 | D_fake_loss: 0.0068 | G_loss: 0.7592\n",
            "Saved results/samples_gan_gp1_lr3e-5-gp/sample-008400.png\n"
          ],
          "name": "stdout"
        },
        {
          "output_type": "stream",
          "text": [
            "WARNING:root:Lossy conversion from float32 to uint8. Range [-0.5614460110664368, 0.49164900183677673]. Convert image to uint8 prior to saving to suppress this warning.\n"
          ],
          "name": "stderr"
        },
        {
          "output_type": "stream",
          "text": [
            "Iteration [8600/20000] | D_real_loss: 0.0092 | D_fake_loss: 0.0018 | G_loss: 0.8835\n",
            "Saved results/samples_gan_gp1_lr3e-5-gp/sample-008600.png\n"
          ],
          "name": "stdout"
        },
        {
          "output_type": "stream",
          "text": [
            "WARNING:root:Lossy conversion from float32 to uint8. Range [-0.5618353486061096, 0.5189396142959595]. Convert image to uint8 prior to saving to suppress this warning.\n"
          ],
          "name": "stderr"
        },
        {
          "output_type": "stream",
          "text": [
            "Iteration [8800/20000] | D_real_loss: 0.0063 | D_fake_loss: 0.0017 | G_loss: 0.9324\n",
            "Saved results/samples_gan_gp1_lr3e-5-gp/sample-008800.png\n"
          ],
          "name": "stdout"
        },
        {
          "output_type": "stream",
          "text": [
            "WARNING:root:Lossy conversion from float32 to uint8. Range [-0.55130934715271, 0.4913043975830078]. Convert image to uint8 prior to saving to suppress this warning.\n"
          ],
          "name": "stderr"
        },
        {
          "output_type": "stream",
          "text": [
            "Iteration [9000/20000] | D_real_loss: 0.0057 | D_fake_loss: 0.0145 | G_loss: 0.9573\n",
            "Saved results/samples_gan_gp1_lr3e-5-gp/sample-009000.png\n"
          ],
          "name": "stdout"
        },
        {
          "output_type": "stream",
          "text": [
            "WARNING:root:Lossy conversion from float32 to uint8. Range [-0.5604690909385681, 0.4606967568397522]. Convert image to uint8 prior to saving to suppress this warning.\n"
          ],
          "name": "stderr"
        },
        {
          "output_type": "stream",
          "text": [
            "Iteration [9200/20000] | D_real_loss: 0.0013 | D_fake_loss: 0.0053 | G_loss: 0.9028\n",
            "Saved results/samples_gan_gp1_lr3e-5-gp/sample-009200.png\n"
          ],
          "name": "stdout"
        },
        {
          "output_type": "stream",
          "text": [
            "WARNING:root:Lossy conversion from float32 to uint8. Range [-0.5284214019775391, 0.546296238899231]. Convert image to uint8 prior to saving to suppress this warning.\n"
          ],
          "name": "stderr"
        },
        {
          "output_type": "stream",
          "text": [
            "Iteration [9400/20000] | D_real_loss: 0.0014 | D_fake_loss: 0.0019 | G_loss: 1.0908\n",
            "Saved results/samples_gan_gp1_lr3e-5-gp/sample-009400.png\n"
          ],
          "name": "stdout"
        },
        {
          "output_type": "stream",
          "text": [
            "WARNING:root:Lossy conversion from float32 to uint8. Range [-0.5599661469459534, 0.5183717012405396]. Convert image to uint8 prior to saving to suppress this warning.\n"
          ],
          "name": "stderr"
        },
        {
          "output_type": "stream",
          "text": [
            "Iteration [9600/20000] | D_real_loss: 0.0007 | D_fake_loss: 0.0034 | G_loss: 0.6937\n",
            "Saved results/samples_gan_gp1_lr3e-5-gp/sample-009600.png\n"
          ],
          "name": "stdout"
        },
        {
          "output_type": "stream",
          "text": [
            "WARNING:root:Lossy conversion from float32 to uint8. Range [-0.5213842391967773, 0.5178163051605225]. Convert image to uint8 prior to saving to suppress this warning.\n"
          ],
          "name": "stderr"
        },
        {
          "output_type": "stream",
          "text": [
            "Iteration [9800/20000] | D_real_loss: 0.0023 | D_fake_loss: 0.0040 | G_loss: 0.8463\n",
            "Saved results/samples_gan_gp1_lr3e-5-gp/sample-009800.png\n"
          ],
          "name": "stdout"
        },
        {
          "output_type": "stream",
          "text": [
            "WARNING:root:Lossy conversion from float32 to uint8. Range [-0.48619499802589417, 0.5243396759033203]. Convert image to uint8 prior to saving to suppress this warning.\n"
          ],
          "name": "stderr"
        },
        {
          "output_type": "stream",
          "text": [
            "Iteration [10000/20000] | D_real_loss: 0.0061 | D_fake_loss: 0.0054 | G_loss: 0.8648\n",
            "Saved results/samples_gan_gp1_lr3e-5-gp/sample-010000.png\n"
          ],
          "name": "stdout"
        },
        {
          "output_type": "stream",
          "text": [
            "WARNING:root:Lossy conversion from float32 to uint8. Range [-0.5135816335678101, 0.5325767993927002]. Convert image to uint8 prior to saving to suppress this warning.\n"
          ],
          "name": "stderr"
        },
        {
          "output_type": "stream",
          "text": [
            "Iteration [10200/20000] | D_real_loss: 0.0013 | D_fake_loss: 0.0017 | G_loss: 1.1818\n",
            "Saved results/samples_gan_gp1_lr3e-5-gp/sample-010200.png\n"
          ],
          "name": "stdout"
        },
        {
          "output_type": "stream",
          "text": [
            "WARNING:root:Lossy conversion from float32 to uint8. Range [-0.4920560419559479, 0.5037802457809448]. Convert image to uint8 prior to saving to suppress this warning.\n"
          ],
          "name": "stderr"
        },
        {
          "output_type": "stream",
          "text": [
            "Iteration [10400/20000] | D_real_loss: 0.0069 | D_fake_loss: 0.0155 | G_loss: 0.8301\n",
            "Saved results/samples_gan_gp1_lr3e-5-gp/sample-010400.png\n"
          ],
          "name": "stdout"
        },
        {
          "output_type": "stream",
          "text": [
            "WARNING:root:Lossy conversion from float32 to uint8. Range [-0.5028589963912964, 0.5351366400718689]. Convert image to uint8 prior to saving to suppress this warning.\n"
          ],
          "name": "stderr"
        },
        {
          "output_type": "stream",
          "text": [
            "Iteration [10600/20000] | D_real_loss: 0.0017 | D_fake_loss: 0.0012 | G_loss: 0.8566\n",
            "Saved results/samples_gan_gp1_lr3e-5-gp/sample-010600.png\n"
          ],
          "name": "stdout"
        },
        {
          "output_type": "stream",
          "text": [
            "WARNING:root:Lossy conversion from float32 to uint8. Range [-0.48832258582115173, 0.5025715231895447]. Convert image to uint8 prior to saving to suppress this warning.\n"
          ],
          "name": "stderr"
        },
        {
          "output_type": "stream",
          "text": [
            "Iteration [10800/20000] | D_real_loss: 0.0054 | D_fake_loss: 0.0049 | G_loss: 1.1767\n",
            "Saved results/samples_gan_gp1_lr3e-5-gp/sample-010800.png\n"
          ],
          "name": "stdout"
        },
        {
          "output_type": "stream",
          "text": [
            "WARNING:root:Lossy conversion from float32 to uint8. Range [-0.5150488018989563, 0.5144062042236328]. Convert image to uint8 prior to saving to suppress this warning.\n"
          ],
          "name": "stderr"
        },
        {
          "output_type": "stream",
          "text": [
            "Iteration [11000/20000] | D_real_loss: 0.0009 | D_fake_loss: 0.0043 | G_loss: 0.9878\n",
            "Saved results/samples_gan_gp1_lr3e-5-gp/sample-011000.png\n"
          ],
          "name": "stdout"
        },
        {
          "output_type": "stream",
          "text": [
            "WARNING:root:Lossy conversion from float32 to uint8. Range [-0.5397678017616272, 0.539391040802002]. Convert image to uint8 prior to saving to suppress this warning.\n"
          ],
          "name": "stderr"
        },
        {
          "output_type": "stream",
          "text": [
            "Iteration [11200/20000] | D_real_loss: 0.0032 | D_fake_loss: 0.0105 | G_loss: 0.9367\n",
            "Saved results/samples_gan_gp1_lr3e-5-gp/sample-011200.png\n"
          ],
          "name": "stdout"
        },
        {
          "output_type": "stream",
          "text": [
            "WARNING:root:Lossy conversion from float32 to uint8. Range [-0.563598096370697, 0.5278970003128052]. Convert image to uint8 prior to saving to suppress this warning.\n"
          ],
          "name": "stderr"
        },
        {
          "output_type": "stream",
          "text": [
            "Iteration [11400/20000] | D_real_loss: 0.0031 | D_fake_loss: 0.0072 | G_loss: 0.9661\n",
            "Saved results/samples_gan_gp1_lr3e-5-gp/sample-011400.png\n"
          ],
          "name": "stdout"
        },
        {
          "output_type": "stream",
          "text": [
            "WARNING:root:Lossy conversion from float32 to uint8. Range [-0.4617679715156555, 0.5967669486999512]. Convert image to uint8 prior to saving to suppress this warning.\n"
          ],
          "name": "stderr"
        },
        {
          "output_type": "stream",
          "text": [
            "Iteration [11600/20000] | D_real_loss: 0.0034 | D_fake_loss: 0.0030 | G_loss: 0.9694\n",
            "Saved results/samples_gan_gp1_lr3e-5-gp/sample-011600.png\n"
          ],
          "name": "stdout"
        },
        {
          "output_type": "stream",
          "text": [
            "WARNING:root:Lossy conversion from float32 to uint8. Range [-0.5400277376174927, 0.5938447117805481]. Convert image to uint8 prior to saving to suppress this warning.\n"
          ],
          "name": "stderr"
        },
        {
          "output_type": "stream",
          "text": [
            "Iteration [11800/20000] | D_real_loss: 0.0123 | D_fake_loss: 0.0019 | G_loss: 0.9731\n",
            "Saved results/samples_gan_gp1_lr3e-5-gp/sample-011800.png\n"
          ],
          "name": "stdout"
        },
        {
          "output_type": "stream",
          "text": [
            "WARNING:root:Lossy conversion from float32 to uint8. Range [-0.46781349182128906, 0.5383374691009521]. Convert image to uint8 prior to saving to suppress this warning.\n"
          ],
          "name": "stderr"
        },
        {
          "output_type": "stream",
          "text": [
            "Iteration [12000/20000] | D_real_loss: 0.0028 | D_fake_loss: 0.0047 | G_loss: 0.8491\n",
            "Saved results/samples_gan_gp1_lr3e-5-gp/sample-012000.png\n"
          ],
          "name": "stdout"
        },
        {
          "output_type": "stream",
          "text": [
            "WARNING:root:Lossy conversion from float32 to uint8. Range [-0.47199922800064087, 0.49386462569236755]. Convert image to uint8 prior to saving to suppress this warning.\n"
          ],
          "name": "stderr"
        },
        {
          "output_type": "stream",
          "text": [
            "Iteration [12200/20000] | D_real_loss: 0.0023 | D_fake_loss: 0.0032 | G_loss: 1.2085\n",
            "Saved results/samples_gan_gp1_lr3e-5-gp/sample-012200.png\n"
          ],
          "name": "stdout"
        },
        {
          "output_type": "stream",
          "text": [
            "WARNING:root:Lossy conversion from float32 to uint8. Range [-0.5040722489356995, 0.477290540933609]. Convert image to uint8 prior to saving to suppress this warning.\n"
          ],
          "name": "stderr"
        },
        {
          "output_type": "stream",
          "text": [
            "Iteration [12400/20000] | D_real_loss: 0.0003 | D_fake_loss: 0.0024 | G_loss: 0.9806\n",
            "Saved results/samples_gan_gp1_lr3e-5-gp/sample-012400.png\n"
          ],
          "name": "stdout"
        },
        {
          "output_type": "stream",
          "text": [
            "WARNING:root:Lossy conversion from float32 to uint8. Range [-0.5058832764625549, 0.5238802433013916]. Convert image to uint8 prior to saving to suppress this warning.\n"
          ],
          "name": "stderr"
        },
        {
          "output_type": "stream",
          "text": [
            "Iteration [12600/20000] | D_real_loss: 0.0022 | D_fake_loss: 0.0042 | G_loss: 0.8584\n",
            "Saved results/samples_gan_gp1_lr3e-5-gp/sample-012600.png\n"
          ],
          "name": "stdout"
        },
        {
          "output_type": "stream",
          "text": [
            "WARNING:root:Lossy conversion from float32 to uint8. Range [-0.4727938771247864, 0.525505542755127]. Convert image to uint8 prior to saving to suppress this warning.\n"
          ],
          "name": "stderr"
        },
        {
          "output_type": "stream",
          "text": [
            "Iteration [12800/20000] | D_real_loss: 0.0005 | D_fake_loss: 0.0036 | G_loss: 0.8330\n",
            "Saved results/samples_gan_gp1_lr3e-5-gp/sample-012800.png\n"
          ],
          "name": "stdout"
        },
        {
          "output_type": "stream",
          "text": [
            "WARNING:root:Lossy conversion from float32 to uint8. Range [-0.5167548656463623, 0.5486152172088623]. Convert image to uint8 prior to saving to suppress this warning.\n"
          ],
          "name": "stderr"
        },
        {
          "output_type": "stream",
          "text": [
            "Iteration [13000/20000] | D_real_loss: 0.0296 | D_fake_loss: 0.0118 | G_loss: 0.8891\n",
            "Saved results/samples_gan_gp1_lr3e-5-gp/sample-013000.png\n"
          ],
          "name": "stdout"
        },
        {
          "output_type": "stream",
          "text": [
            "WARNING:root:Lossy conversion from float32 to uint8. Range [-0.49469611048698425, 0.4946286380290985]. Convert image to uint8 prior to saving to suppress this warning.\n"
          ],
          "name": "stderr"
        },
        {
          "output_type": "stream",
          "text": [
            "Iteration [13200/20000] | D_real_loss: 0.0287 | D_fake_loss: 0.0031 | G_loss: 0.7385\n",
            "Saved results/samples_gan_gp1_lr3e-5-gp/sample-013200.png\n"
          ],
          "name": "stdout"
        },
        {
          "output_type": "stream",
          "text": [
            "WARNING:root:Lossy conversion from float32 to uint8. Range [-0.48659035563468933, 0.49922505021095276]. Convert image to uint8 prior to saving to suppress this warning.\n"
          ],
          "name": "stderr"
        },
        {
          "output_type": "stream",
          "text": [
            "Iteration [13400/20000] | D_real_loss: 0.0033 | D_fake_loss: 0.0043 | G_loss: 0.7813\n",
            "Saved results/samples_gan_gp1_lr3e-5-gp/sample-013400.png\n"
          ],
          "name": "stdout"
        },
        {
          "output_type": "stream",
          "text": [
            "WARNING:root:Lossy conversion from float32 to uint8. Range [-0.5776267051696777, 0.49452584981918335]. Convert image to uint8 prior to saving to suppress this warning.\n"
          ],
          "name": "stderr"
        },
        {
          "output_type": "stream",
          "text": [
            "Iteration [13600/20000] | D_real_loss: 0.0009 | D_fake_loss: 0.0024 | G_loss: 1.1366\n",
            "Saved results/samples_gan_gp1_lr3e-5-gp/sample-013600.png\n"
          ],
          "name": "stdout"
        },
        {
          "output_type": "stream",
          "text": [
            "WARNING:root:Lossy conversion from float32 to uint8. Range [-0.6018062829971313, 0.5179919004440308]. Convert image to uint8 prior to saving to suppress this warning.\n"
          ],
          "name": "stderr"
        },
        {
          "output_type": "stream",
          "text": [
            "Iteration [13800/20000] | D_real_loss: 0.0131 | D_fake_loss: 0.0056 | G_loss: 1.1894\n",
            "Saved results/samples_gan_gp1_lr3e-5-gp/sample-013800.png\n"
          ],
          "name": "stdout"
        },
        {
          "output_type": "stream",
          "text": [
            "WARNING:root:Lossy conversion from float32 to uint8. Range [-0.5655037760734558, 0.5038461685180664]. Convert image to uint8 prior to saving to suppress this warning.\n"
          ],
          "name": "stderr"
        },
        {
          "output_type": "stream",
          "text": [
            "Iteration [14000/20000] | D_real_loss: 0.0035 | D_fake_loss: 0.0017 | G_loss: 0.7948\n",
            "Saved results/samples_gan_gp1_lr3e-5-gp/sample-014000.png\n"
          ],
          "name": "stdout"
        },
        {
          "output_type": "stream",
          "text": [
            "WARNING:root:Lossy conversion from float32 to uint8. Range [-0.5048387050628662, 0.5232193470001221]. Convert image to uint8 prior to saving to suppress this warning.\n"
          ],
          "name": "stderr"
        },
        {
          "output_type": "stream",
          "text": [
            "Iteration [14200/20000] | D_real_loss: 0.0017 | D_fake_loss: 0.0018 | G_loss: 0.7888\n",
            "Saved results/samples_gan_gp1_lr3e-5-gp/sample-014200.png\n"
          ],
          "name": "stdout"
        },
        {
          "output_type": "stream",
          "text": [
            "WARNING:root:Lossy conversion from float32 to uint8. Range [-0.5514249801635742, 0.5228379368782043]. Convert image to uint8 prior to saving to suppress this warning.\n"
          ],
          "name": "stderr"
        },
        {
          "output_type": "stream",
          "text": [
            "Iteration [14400/20000] | D_real_loss: 0.0006 | D_fake_loss: 0.0054 | G_loss: 1.0441\n",
            "Saved results/samples_gan_gp1_lr3e-5-gp/sample-014400.png\n"
          ],
          "name": "stdout"
        },
        {
          "output_type": "stream",
          "text": [
            "WARNING:root:Lossy conversion from float32 to uint8. Range [-0.5361518263816833, 0.5270156860351562]. Convert image to uint8 prior to saving to suppress this warning.\n"
          ],
          "name": "stderr"
        },
        {
          "output_type": "stream",
          "text": [
            "Iteration [14600/20000] | D_real_loss: 0.0011 | D_fake_loss: 0.0120 | G_loss: 1.0039\n",
            "Saved results/samples_gan_gp1_lr3e-5-gp/sample-014600.png\n"
          ],
          "name": "stdout"
        },
        {
          "output_type": "stream",
          "text": [
            "WARNING:root:Lossy conversion from float32 to uint8. Range [-0.4960486888885498, 0.578385055065155]. Convert image to uint8 prior to saving to suppress this warning.\n"
          ],
          "name": "stderr"
        },
        {
          "output_type": "stream",
          "text": [
            "Iteration [14800/20000] | D_real_loss: 0.0088 | D_fake_loss: 0.0023 | G_loss: 0.7581\n",
            "Saved results/samples_gan_gp1_lr3e-5-gp/sample-014800.png\n"
          ],
          "name": "stdout"
        },
        {
          "output_type": "stream",
          "text": [
            "WARNING:root:Lossy conversion from float32 to uint8. Range [-0.5457335710525513, 0.5180705785751343]. Convert image to uint8 prior to saving to suppress this warning.\n"
          ],
          "name": "stderr"
        },
        {
          "output_type": "stream",
          "text": [
            "Iteration [15000/20000] | D_real_loss: 0.0265 | D_fake_loss: 0.0009 | G_loss: 0.7374\n",
            "Saved results/samples_gan_gp1_lr3e-5-gp/sample-015000.png\n"
          ],
          "name": "stdout"
        },
        {
          "output_type": "stream",
          "text": [
            "WARNING:root:Lossy conversion from float32 to uint8. Range [-0.5084313154220581, 0.5010125637054443]. Convert image to uint8 prior to saving to suppress this warning.\n"
          ],
          "name": "stderr"
        },
        {
          "output_type": "stream",
          "text": [
            "Iteration [15200/20000] | D_real_loss: 0.0006 | D_fake_loss: 0.0057 | G_loss: 0.9224\n",
            "Saved results/samples_gan_gp1_lr3e-5-gp/sample-015200.png\n"
          ],
          "name": "stdout"
        },
        {
          "output_type": "stream",
          "text": [
            "WARNING:root:Lossy conversion from float32 to uint8. Range [-0.5058653950691223, 0.5182226896286011]. Convert image to uint8 prior to saving to suppress this warning.\n"
          ],
          "name": "stderr"
        },
        {
          "output_type": "stream",
          "text": [
            "Iteration [15400/20000] | D_real_loss: 0.0063 | D_fake_loss: 0.0008 | G_loss: 1.0422\n",
            "Saved results/samples_gan_gp1_lr3e-5-gp/sample-015400.png\n"
          ],
          "name": "stdout"
        },
        {
          "output_type": "stream",
          "text": [
            "WARNING:root:Lossy conversion from float32 to uint8. Range [-0.49931561946868896, 0.5365853309631348]. Convert image to uint8 prior to saving to suppress this warning.\n"
          ],
          "name": "stderr"
        },
        {
          "output_type": "stream",
          "text": [
            "Iteration [15600/20000] | D_real_loss: 0.0060 | D_fake_loss: 0.0155 | G_loss: 1.1298\n",
            "Saved results/samples_gan_gp1_lr3e-5-gp/sample-015600.png\n"
          ],
          "name": "stdout"
        },
        {
          "output_type": "stream",
          "text": [
            "WARNING:root:Lossy conversion from float32 to uint8. Range [-0.4759291708469391, 0.504910945892334]. Convert image to uint8 prior to saving to suppress this warning.\n"
          ],
          "name": "stderr"
        },
        {
          "output_type": "stream",
          "text": [
            "Iteration [15800/20000] | D_real_loss: 0.0107 | D_fake_loss: 0.0040 | G_loss: 0.9943\n",
            "Saved results/samples_gan_gp1_lr3e-5-gp/sample-015800.png\n"
          ],
          "name": "stdout"
        },
        {
          "output_type": "stream",
          "text": [
            "WARNING:root:Lossy conversion from float32 to uint8. Range [-0.48292601108551025, 0.5472943186759949]. Convert image to uint8 prior to saving to suppress this warning.\n"
          ],
          "name": "stderr"
        },
        {
          "output_type": "stream",
          "text": [
            "Iteration [16000/20000] | D_real_loss: 0.0075 | D_fake_loss: 0.0077 | G_loss: 1.0235\n",
            "Saved results/samples_gan_gp1_lr3e-5-gp/sample-016000.png\n"
          ],
          "name": "stdout"
        },
        {
          "output_type": "stream",
          "text": [
            "WARNING:root:Lossy conversion from float32 to uint8. Range [-0.48873066902160645, 0.5371229648590088]. Convert image to uint8 prior to saving to suppress this warning.\n"
          ],
          "name": "stderr"
        },
        {
          "output_type": "stream",
          "text": [
            "Iteration [16200/20000] | D_real_loss: 0.0041 | D_fake_loss: 0.0012 | G_loss: 1.1600\n",
            "Saved results/samples_gan_gp1_lr3e-5-gp/sample-016200.png\n"
          ],
          "name": "stdout"
        },
        {
          "output_type": "stream",
          "text": [
            "WARNING:root:Lossy conversion from float32 to uint8. Range [-0.47988995909690857, 0.4996711015701294]. Convert image to uint8 prior to saving to suppress this warning.\n"
          ],
          "name": "stderr"
        },
        {
          "output_type": "stream",
          "text": [
            "Iteration [16400/20000] | D_real_loss: 0.0010 | D_fake_loss: 0.0051 | G_loss: 0.9017\n",
            "Saved results/samples_gan_gp1_lr3e-5-gp/sample-016400.png\n"
          ],
          "name": "stdout"
        },
        {
          "output_type": "stream",
          "text": [
            "WARNING:root:Lossy conversion from float32 to uint8. Range [-0.49871405959129333, 0.4784547984600067]. Convert image to uint8 prior to saving to suppress this warning.\n"
          ],
          "name": "stderr"
        },
        {
          "output_type": "stream",
          "text": [
            "Iteration [16600/20000] | D_real_loss: 0.0025 | D_fake_loss: 0.0035 | G_loss: 1.0110\n",
            "Saved results/samples_gan_gp1_lr3e-5-gp/sample-016600.png\n"
          ],
          "name": "stdout"
        },
        {
          "output_type": "stream",
          "text": [
            "WARNING:root:Lossy conversion from float32 to uint8. Range [-0.4865107238292694, 0.4974128305912018]. Convert image to uint8 prior to saving to suppress this warning.\n"
          ],
          "name": "stderr"
        },
        {
          "output_type": "stream",
          "text": [
            "Iteration [16800/20000] | D_real_loss: 0.0010 | D_fake_loss: 0.0019 | G_loss: 0.8902\n",
            "Saved results/samples_gan_gp1_lr3e-5-gp/sample-016800.png\n"
          ],
          "name": "stdout"
        },
        {
          "output_type": "stream",
          "text": [
            "WARNING:root:Lossy conversion from float32 to uint8. Range [-0.46059566736221313, 0.5153552889823914]. Convert image to uint8 prior to saving to suppress this warning.\n"
          ],
          "name": "stderr"
        },
        {
          "output_type": "stream",
          "text": [
            "Iteration [17000/20000] | D_real_loss: 0.0014 | D_fake_loss: 0.0140 | G_loss: 1.0613\n",
            "Saved results/samples_gan_gp1_lr3e-5-gp/sample-017000.png\n"
          ],
          "name": "stdout"
        },
        {
          "output_type": "stream",
          "text": [
            "WARNING:root:Lossy conversion from float32 to uint8. Range [-0.5068845748901367, 0.4601215124130249]. Convert image to uint8 prior to saving to suppress this warning.\n"
          ],
          "name": "stderr"
        },
        {
          "output_type": "stream",
          "text": [
            "Iteration [17200/20000] | D_real_loss: 0.0029 | D_fake_loss: 0.0120 | G_loss: 1.0258\n",
            "Saved results/samples_gan_gp1_lr3e-5-gp/sample-017200.png\n"
          ],
          "name": "stdout"
        },
        {
          "output_type": "stream",
          "text": [
            "WARNING:root:Lossy conversion from float32 to uint8. Range [-0.5183277726173401, 0.4875364601612091]. Convert image to uint8 prior to saving to suppress this warning.\n"
          ],
          "name": "stderr"
        },
        {
          "output_type": "stream",
          "text": [
            "Iteration [17400/20000] | D_real_loss: 0.0030 | D_fake_loss: 0.0009 | G_loss: 0.7715\n",
            "Saved results/samples_gan_gp1_lr3e-5-gp/sample-017400.png\n"
          ],
          "name": "stdout"
        },
        {
          "output_type": "stream",
          "text": [
            "WARNING:root:Lossy conversion from float32 to uint8. Range [-0.5033606290817261, 0.5393145084381104]. Convert image to uint8 prior to saving to suppress this warning.\n"
          ],
          "name": "stderr"
        },
        {
          "output_type": "stream",
          "text": [
            "Iteration [17600/20000] | D_real_loss: 0.0003 | D_fake_loss: 0.0019 | G_loss: 0.9439\n",
            "Saved results/samples_gan_gp1_lr3e-5-gp/sample-017600.png\n"
          ],
          "name": "stdout"
        },
        {
          "output_type": "stream",
          "text": [
            "WARNING:root:Lossy conversion from float32 to uint8. Range [-0.47090429067611694, 0.5185837745666504]. Convert image to uint8 prior to saving to suppress this warning.\n"
          ],
          "name": "stderr"
        },
        {
          "output_type": "stream",
          "text": [
            "Iteration [17800/20000] | D_real_loss: 0.0006 | D_fake_loss: 0.0049 | G_loss: 0.8933\n",
            "Saved results/samples_gan_gp1_lr3e-5-gp/sample-017800.png\n"
          ],
          "name": "stdout"
        },
        {
          "output_type": "stream",
          "text": [
            "WARNING:root:Lossy conversion from float32 to uint8. Range [-0.510704517364502, 0.4949561357498169]. Convert image to uint8 prior to saving to suppress this warning.\n"
          ],
          "name": "stderr"
        },
        {
          "output_type": "stream",
          "text": [
            "Iteration [18000/20000] | D_real_loss: 0.0067 | D_fake_loss: 0.0016 | G_loss: 0.9356\n",
            "Saved results/samples_gan_gp1_lr3e-5-gp/sample-018000.png\n"
          ],
          "name": "stdout"
        },
        {
          "output_type": "stream",
          "text": [
            "WARNING:root:Lossy conversion from float32 to uint8. Range [-0.4733625650405884, 0.5532339811325073]. Convert image to uint8 prior to saving to suppress this warning.\n"
          ],
          "name": "stderr"
        },
        {
          "output_type": "stream",
          "text": [
            "Iteration [18200/20000] | D_real_loss: 0.0131 | D_fake_loss: 0.0021 | G_loss: 0.9930\n",
            "Saved results/samples_gan_gp1_lr3e-5-gp/sample-018200.png\n"
          ],
          "name": "stdout"
        },
        {
          "output_type": "stream",
          "text": [
            "WARNING:root:Lossy conversion from float32 to uint8. Range [-0.468675822019577, 0.5623900890350342]. Convert image to uint8 prior to saving to suppress this warning.\n"
          ],
          "name": "stderr"
        },
        {
          "output_type": "stream",
          "text": [
            "Iteration [18400/20000] | D_real_loss: 0.0005 | D_fake_loss: 0.0034 | G_loss: 0.8931\n",
            "Saved results/samples_gan_gp1_lr3e-5-gp/sample-018400.png\n"
          ],
          "name": "stdout"
        },
        {
          "output_type": "stream",
          "text": [
            "WARNING:root:Lossy conversion from float32 to uint8. Range [-0.5242822170257568, 0.536460280418396]. Convert image to uint8 prior to saving to suppress this warning.\n"
          ],
          "name": "stderr"
        },
        {
          "output_type": "stream",
          "text": [
            "Iteration [18600/20000] | D_real_loss: 0.0102 | D_fake_loss: 0.0008 | G_loss: 0.7384\n",
            "Saved results/samples_gan_gp1_lr3e-5-gp/sample-018600.png\n"
          ],
          "name": "stdout"
        },
        {
          "output_type": "stream",
          "text": [
            "WARNING:root:Lossy conversion from float32 to uint8. Range [-0.5272769927978516, 0.49005600810050964]. Convert image to uint8 prior to saving to suppress this warning.\n"
          ],
          "name": "stderr"
        },
        {
          "output_type": "stream",
          "text": [
            "Iteration [18800/20000] | D_real_loss: 0.0005 | D_fake_loss: 0.0023 | G_loss: 0.9309\n",
            "Saved results/samples_gan_gp1_lr3e-5-gp/sample-018800.png\n"
          ],
          "name": "stdout"
        },
        {
          "output_type": "stream",
          "text": [
            "WARNING:root:Lossy conversion from float32 to uint8. Range [-0.5208837985992432, 0.5767492055892944]. Convert image to uint8 prior to saving to suppress this warning.\n"
          ],
          "name": "stderr"
        },
        {
          "output_type": "stream",
          "text": [
            "Iteration [19000/20000] | D_real_loss: 0.0005 | D_fake_loss: 0.0034 | G_loss: 1.0875\n",
            "Saved results/samples_gan_gp1_lr3e-5-gp/sample-019000.png\n"
          ],
          "name": "stdout"
        },
        {
          "output_type": "stream",
          "text": [
            "WARNING:root:Lossy conversion from float32 to uint8. Range [-0.5054845809936523, 0.49635663628578186]. Convert image to uint8 prior to saving to suppress this warning.\n"
          ],
          "name": "stderr"
        },
        {
          "output_type": "stream",
          "text": [
            "Iteration [19200/20000] | D_real_loss: 0.0039 | D_fake_loss: 0.0053 | G_loss: 1.2995\n",
            "Saved results/samples_gan_gp1_lr3e-5-gp/sample-019200.png\n"
          ],
          "name": "stdout"
        },
        {
          "output_type": "stream",
          "text": [
            "WARNING:root:Lossy conversion from float32 to uint8. Range [-0.5085221529006958, 0.4936787784099579]. Convert image to uint8 prior to saving to suppress this warning.\n"
          ],
          "name": "stderr"
        },
        {
          "output_type": "stream",
          "text": [
            "Iteration [19400/20000] | D_real_loss: 0.0034 | D_fake_loss: 0.0037 | G_loss: 0.7795\n",
            "Saved results/samples_gan_gp1_lr3e-5-gp/sample-019400.png\n"
          ],
          "name": "stdout"
        },
        {
          "output_type": "stream",
          "text": [
            "WARNING:root:Lossy conversion from float32 to uint8. Range [-0.48556825518608093, 0.4731796681880951]. Convert image to uint8 prior to saving to suppress this warning.\n"
          ],
          "name": "stderr"
        },
        {
          "output_type": "stream",
          "text": [
            "Iteration [19600/20000] | D_real_loss: 0.0018 | D_fake_loss: 0.0128 | G_loss: 0.9513\n",
            "Saved results/samples_gan_gp1_lr3e-5-gp/sample-019600.png\n"
          ],
          "name": "stdout"
        },
        {
          "output_type": "stream",
          "text": [
            "WARNING:root:Lossy conversion from float32 to uint8. Range [-0.5016763210296631, 0.5383626222610474]. Convert image to uint8 prior to saving to suppress this warning.\n"
          ],
          "name": "stderr"
        },
        {
          "output_type": "stream",
          "text": [
            "Iteration [19800/20000] | D_real_loss: 0.0104 | D_fake_loss: 0.0034 | G_loss: 0.8683\n",
            "Saved results/samples_gan_gp1_lr3e-5-gp/sample-019800.png\n"
          ],
          "name": "stdout"
        },
        {
          "output_type": "stream",
          "text": [
            "WARNING:root:Lossy conversion from float32 to uint8. Range [-0.5098259449005127, 0.48106321692466736]. Convert image to uint8 prior to saving to suppress this warning.\n"
          ],
          "name": "stderr"
        },
        {
          "output_type": "stream",
          "text": [
            "Iteration [20000/20000] | D_real_loss: 0.0026 | D_fake_loss: 0.0008 | G_loss: 1.0892\n",
            "Saved results/samples_gan_gp1_lr3e-5-gp/sample-020000.png\n",
            "adding image results/samples_gan_gp1_lr3e-5-gp/losses.png\n",
            "adding image results/samples_gan_gp1_lr3e-5-gp/sample-000200.png\n",
            "adding image results/samples_gan_gp1_lr3e-5-gp/sample-000400.png\n",
            "adding image results/samples_gan_gp1_lr3e-5-gp/sample-000600.png\n",
            "adding image results/samples_gan_gp1_lr3e-5-gp/sample-000800.png\n",
            "adding image results/samples_gan_gp1_lr3e-5-gp/sample-001000.png\n",
            "adding image results/samples_gan_gp1_lr3e-5-gp/sample-001200.png\n",
            "adding image results/samples_gan_gp1_lr3e-5-gp/sample-001400.png\n",
            "adding image results/samples_gan_gp1_lr3e-5-gp/sample-001600.png\n",
            "adding image results/samples_gan_gp1_lr3e-5-gp/sample-001800.png\n",
            "adding image results/samples_gan_gp1_lr3e-5-gp/sample-002000.png\n",
            "adding image results/samples_gan_gp1_lr3e-5-gp/sample-002200.png\n",
            "adding image results/samples_gan_gp1_lr3e-5-gp/sample-002400.png\n",
            "adding image results/samples_gan_gp1_lr3e-5-gp/sample-002600.png\n",
            "adding image results/samples_gan_gp1_lr3e-5-gp/sample-002800.png\n",
            "adding image results/samples_gan_gp1_lr3e-5-gp/sample-003000.png\n",
            "adding image results/samples_gan_gp1_lr3e-5-gp/sample-003200.png\n",
            "adding image results/samples_gan_gp1_lr3e-5-gp/sample-003400.png\n",
            "adding image results/samples_gan_gp1_lr3e-5-gp/sample-003600.png\n",
            "adding image results/samples_gan_gp1_lr3e-5-gp/sample-003800.png\n",
            "adding image results/samples_gan_gp1_lr3e-5-gp/sample-004000.png\n",
            "adding image results/samples_gan_gp1_lr3e-5-gp/sample-004200.png\n",
            "adding image results/samples_gan_gp1_lr3e-5-gp/sample-004400.png\n",
            "adding image results/samples_gan_gp1_lr3e-5-gp/sample-004600.png\n",
            "adding image results/samples_gan_gp1_lr3e-5-gp/sample-004800.png\n",
            "adding image results/samples_gan_gp1_lr3e-5-gp/sample-005000.png\n",
            "adding image results/samples_gan_gp1_lr3e-5-gp/sample-005200.png\n",
            "adding image results/samples_gan_gp1_lr3e-5-gp/sample-005400.png\n",
            "adding image results/samples_gan_gp1_lr3e-5-gp/sample-005600.png\n",
            "adding image results/samples_gan_gp1_lr3e-5-gp/sample-005800.png\n",
            "adding image results/samples_gan_gp1_lr3e-5-gp/sample-006000.png\n",
            "adding image results/samples_gan_gp1_lr3e-5-gp/sample-006200.png\n",
            "adding image results/samples_gan_gp1_lr3e-5-gp/sample-006400.png\n",
            "adding image results/samples_gan_gp1_lr3e-5-gp/sample-006600.png\n",
            "adding image results/samples_gan_gp1_lr3e-5-gp/sample-006800.png\n",
            "adding image results/samples_gan_gp1_lr3e-5-gp/sample-007000.png\n",
            "adding image results/samples_gan_gp1_lr3e-5-gp/sample-007200.png\n",
            "adding image results/samples_gan_gp1_lr3e-5-gp/sample-007400.png\n",
            "adding image results/samples_gan_gp1_lr3e-5-gp/sample-007600.png\n",
            "adding image results/samples_gan_gp1_lr3e-5-gp/sample-007800.png\n",
            "adding image results/samples_gan_gp1_lr3e-5-gp/sample-008000.png\n",
            "adding image results/samples_gan_gp1_lr3e-5-gp/sample-008200.png\n",
            "adding image results/samples_gan_gp1_lr3e-5-gp/sample-008400.png\n",
            "adding image results/samples_gan_gp1_lr3e-5-gp/sample-008600.png\n",
            "adding image results/samples_gan_gp1_lr3e-5-gp/sample-008800.png\n",
            "adding image results/samples_gan_gp1_lr3e-5-gp/sample-009000.png\n",
            "adding image results/samples_gan_gp1_lr3e-5-gp/sample-009200.png\n",
            "adding image results/samples_gan_gp1_lr3e-5-gp/sample-009400.png\n",
            "adding image results/samples_gan_gp1_lr3e-5-gp/sample-009600.png\n",
            "adding image results/samples_gan_gp1_lr3e-5-gp/sample-009800.png\n",
            "adding image results/samples_gan_gp1_lr3e-5-gp/sample-010000.png\n",
            "adding image results/samples_gan_gp1_lr3e-5-gp/sample-010200.png\n",
            "adding image results/samples_gan_gp1_lr3e-5-gp/sample-010400.png\n",
            "adding image results/samples_gan_gp1_lr3e-5-gp/sample-010600.png\n",
            "adding image results/samples_gan_gp1_lr3e-5-gp/sample-010800.png\n",
            "adding image results/samples_gan_gp1_lr3e-5-gp/sample-011000.png\n",
            "adding image results/samples_gan_gp1_lr3e-5-gp/sample-011200.png\n",
            "adding image results/samples_gan_gp1_lr3e-5-gp/sample-011400.png\n",
            "adding image results/samples_gan_gp1_lr3e-5-gp/sample-011600.png\n",
            "adding image results/samples_gan_gp1_lr3e-5-gp/sample-011800.png\n",
            "adding image results/samples_gan_gp1_lr3e-5-gp/sample-012000.png\n",
            "adding image results/samples_gan_gp1_lr3e-5-gp/sample-012200.png\n",
            "adding image results/samples_gan_gp1_lr3e-5-gp/sample-012400.png\n",
            "adding image results/samples_gan_gp1_lr3e-5-gp/sample-012600.png\n",
            "adding image results/samples_gan_gp1_lr3e-5-gp/sample-012800.png\n",
            "adding image results/samples_gan_gp1_lr3e-5-gp/sample-013000.png\n",
            "adding image results/samples_gan_gp1_lr3e-5-gp/sample-013200.png\n",
            "adding image results/samples_gan_gp1_lr3e-5-gp/sample-013400.png\n",
            "adding image results/samples_gan_gp1_lr3e-5-gp/sample-013600.png\n",
            "adding image results/samples_gan_gp1_lr3e-5-gp/sample-013800.png\n",
            "adding image results/samples_gan_gp1_lr3e-5-gp/sample-014000.png\n",
            "adding image results/samples_gan_gp1_lr3e-5-gp/sample-014200.png\n",
            "adding image results/samples_gan_gp1_lr3e-5-gp/sample-014400.png\n",
            "adding image results/samples_gan_gp1_lr3e-5-gp/sample-014600.png\n",
            "adding image results/samples_gan_gp1_lr3e-5-gp/sample-014800.png\n",
            "adding image results/samples_gan_gp1_lr3e-5-gp/sample-015000.png\n",
            "adding image results/samples_gan_gp1_lr3e-5-gp/sample-015200.png\n",
            "adding image results/samples_gan_gp1_lr3e-5-gp/sample-015400.png\n",
            "adding image results/samples_gan_gp1_lr3e-5-gp/sample-015600.png\n",
            "adding image results/samples_gan_gp1_lr3e-5-gp/sample-015800.png\n",
            "adding image results/samples_gan_gp1_lr3e-5-gp/sample-016000.png\n",
            "adding image results/samples_gan_gp1_lr3e-5-gp/sample-016200.png\n",
            "adding image results/samples_gan_gp1_lr3e-5-gp/sample-016400.png\n",
            "adding image results/samples_gan_gp1_lr3e-5-gp/sample-016600.png\n",
            "adding image results/samples_gan_gp1_lr3e-5-gp/sample-016800.png\n",
            "adding image results/samples_gan_gp1_lr3e-5-gp/sample-017000.png\n",
            "adding image results/samples_gan_gp1_lr3e-5-gp/sample-017200.png\n",
            "adding image results/samples_gan_gp1_lr3e-5-gp/sample-017400.png\n",
            "adding image results/samples_gan_gp1_lr3e-5-gp/sample-017600.png\n",
            "adding image results/samples_gan_gp1_lr3e-5-gp/sample-017800.png\n",
            "adding image results/samples_gan_gp1_lr3e-5-gp/sample-018000.png\n",
            "adding image results/samples_gan_gp1_lr3e-5-gp/sample-018200.png\n",
            "adding image results/samples_gan_gp1_lr3e-5-gp/sample-018400.png\n",
            "adding image results/samples_gan_gp1_lr3e-5-gp/sample-018600.png\n",
            "adding image results/samples_gan_gp1_lr3e-5-gp/sample-018800.png\n",
            "adding image results/samples_gan_gp1_lr3e-5-gp/sample-019000.png\n",
            "adding image results/samples_gan_gp1_lr3e-5-gp/sample-019200.png\n",
            "adding image results/samples_gan_gp1_lr3e-5-gp/sample-019400.png\n",
            "adding image results/samples_gan_gp1_lr3e-5-gp/sample-019600.png\n",
            "adding image results/samples_gan_gp1_lr3e-5-gp/sample-019800.png\n",
            "adding image results/samples_gan_gp1_lr3e-5-gp/sample-020000.png\n"
          ],
          "name": "stdout"
        }
      ]
    }
  ]
}